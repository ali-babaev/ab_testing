{
 "cells": [
  {
   "cell_type": "markdown",
   "metadata": {
    "toc": true
   },
   "source": [
    "<h1>Содержание<span class=\"tocSkip\"></span></h1>\n",
    "<div class=\"toc\"><ul class=\"toc-item\"><li><span><a href=\"#Загрузка-и-предобработка-данных\" data-toc-modified-id=\"Загрузка-и-предобработка-данных-1\"><span class=\"toc-item-num\">1&nbsp;&nbsp;</span>Загрузка и предобработка данных</a></span></li><li><span><a href=\"#Загрузка-и-предобработка-данных\" data-toc-modified-id=\"Загрузка-и-предобработка-данных-2\"><span class=\"toc-item-num\">2&nbsp;&nbsp;</span>Загрузка и предобработка данных</a></span></li><li><span><a href=\"#Кумулятивная-выручка\" data-toc-modified-id=\"Кумулятивная-выручка-3\"><span class=\"toc-item-num\">3&nbsp;&nbsp;</span>Кумулятивная выручка</a></span></li><li><span><a href=\"#Кумулятивный-средний-чек\" data-toc-modified-id=\"Кумулятивный-средний-чек-4\"><span class=\"toc-item-num\">4&nbsp;&nbsp;</span>Кумулятивный средний чек</a></span></li><li><span><a href=\"#Кумулятивная-конверсия\" data-toc-modified-id=\"Кумулятивная-конверсия-5\"><span class=\"toc-item-num\">5&nbsp;&nbsp;</span>Кумулятивная конверсия</a></span></li><li><span><a href=\"#Количество-заказов-на-пользователя\" data-toc-modified-id=\"Количество-заказов-на-пользователя-6\"><span class=\"toc-item-num\">6&nbsp;&nbsp;</span>Количество заказов на пользователя</a></span></li><li><span><a href=\"#Стоимость-заказов\" data-toc-modified-id=\"Стоимость-заказов-7\"><span class=\"toc-item-num\">7&nbsp;&nbsp;</span>Стоимость заказов</a></span></li><li><span><a href=\"#Статистическая-значимость-различий-в-конверсии-между-группами\" data-toc-modified-id=\"Статистическая-значимость-различий-в-конверсии-между-группами-8\"><span class=\"toc-item-num\">8&nbsp;&nbsp;</span>Статистическая значимость различий в конверсии между группами</a></span></li><li><span><a href=\"#Статистическая-значимость-различий-в-среднем-чеке-заказа-между-группами\" data-toc-modified-id=\"Статистическая-значимость-различий-в-среднем-чеке-заказа-между-группами-9\"><span class=\"toc-item-num\">9&nbsp;&nbsp;</span>Статистическая значимость различий в среднем чеке заказа между группами</a></span></li><li><span><a href=\"#Статистическая-значимость-различий-в-конверсии-между-группами-по-«очищенным»-данным\" data-toc-modified-id=\"Статистическая-значимость-различий-в-конверсии-между-группами-по-«очищенным»-данным-10\"><span class=\"toc-item-num\">10&nbsp;&nbsp;</span>Статистическая значимость различий в конверсии между группами по «очищенным» данным</a></span></li><li><span><a href=\"#Статистическая-значимость-различий-в-среднем-чеке-заказа-между-группами-по-«очищенным»-данным\" data-toc-modified-id=\"Статистическая-значимость-различий-в-среднем-чеке-заказа-между-группами-по-«очищенным»-данным-11\"><span class=\"toc-item-num\">11&nbsp;&nbsp;</span>Статистическая значимость различий в среднем чеке заказа между группами по «очищенным» данным</a></span></li><li><span><a href=\"#Общий-вывод\" data-toc-modified-id=\"Общий-вывод-12\"><span class=\"toc-item-num\">12&nbsp;&nbsp;</span>Общий вывод</a></span></li></ul></div>"
   ]
  },
  {
   "cell_type": "markdown",
   "metadata": {},
   "source": [
    "# Приоритизация гипотез и анализ результатов A/B-теста"
   ]
  },
  {
   "cell_type": "markdown",
   "metadata": {},
   "source": [
    "Целью данного исследования является анализ результатов A/B-теста для принятия решения о необходимости внедрения изменений на странице оформления заказа крупного интернет-магазина. \n",
    "\n",
    "Также совместно с отделом маркетинга был подготовлен список гипотез для увеличения выручки, необходимо приоритизировать гипотезы."
   ]
  },
  {
   "cell_type": "markdown",
   "metadata": {},
   "source": [
    "# Приоритизация гипотез"
   ]
  },
  {
   "cell_type": "markdown",
   "metadata": {},
   "source": [
    "## Загрузка и предобработка данных"
   ]
  },
  {
   "cell_type": "markdown",
   "metadata": {},
   "source": [
    "Импортируем библиотеки:"
   ]
  },
  {
   "cell_type": "code",
   "execution_count": 1,
   "metadata": {},
   "outputs": [],
   "source": [
    "import pandas as pd\n",
    "import numpy as np\n",
    "import math as mth\n",
    "from scipy import stats as st\n",
    "import matplotlib.pyplot as plt\n",
    "import seaborn as sns\n",
    "from scipy import stats as st\n",
    "import matplotlib.ticker as mtick\n",
    "import warnings\n",
    "warnings.simplefilter(action='ignore', category=FutureWarning)"
   ]
  },
  {
   "cell_type": "markdown",
   "metadata": {},
   "source": [
    "Загрузим файл с данными о гипотезах и сохраним его в переменную `df`. Выведем на экран первые 5 строк датафрейма:"
   ]
  },
  {
   "cell_type": "code",
   "execution_count": 2,
   "metadata": {},
   "outputs": [
    {
     "data": {
      "text/html": [
       "<div>\n",
       "<style scoped>\n",
       "    .dataframe tbody tr th:only-of-type {\n",
       "        vertical-align: middle;\n",
       "    }\n",
       "\n",
       "    .dataframe tbody tr th {\n",
       "        vertical-align: top;\n",
       "    }\n",
       "\n",
       "    .dataframe thead th {\n",
       "        text-align: right;\n",
       "    }\n",
       "</style>\n",
       "<table border=\"1\" class=\"dataframe\">\n",
       "  <thead>\n",
       "    <tr style=\"text-align: right;\">\n",
       "      <th></th>\n",
       "      <th>Hypothesis</th>\n",
       "      <th>Reach</th>\n",
       "      <th>Impact</th>\n",
       "      <th>Confidence</th>\n",
       "      <th>Efforts</th>\n",
       "    </tr>\n",
       "  </thead>\n",
       "  <tbody>\n",
       "    <tr>\n",
       "      <th>0</th>\n",
       "      <td>Добавить два новых канала привлечения трафика,...</td>\n",
       "      <td>3</td>\n",
       "      <td>10</td>\n",
       "      <td>8</td>\n",
       "      <td>6</td>\n",
       "    </tr>\n",
       "    <tr>\n",
       "      <th>1</th>\n",
       "      <td>Запустить собственную службу доставки, что сок...</td>\n",
       "      <td>2</td>\n",
       "      <td>5</td>\n",
       "      <td>4</td>\n",
       "      <td>10</td>\n",
       "    </tr>\n",
       "    <tr>\n",
       "      <th>2</th>\n",
       "      <td>Добавить блоки рекомендаций товаров на сайт ин...</td>\n",
       "      <td>8</td>\n",
       "      <td>3</td>\n",
       "      <td>7</td>\n",
       "      <td>3</td>\n",
       "    </tr>\n",
       "    <tr>\n",
       "      <th>3</th>\n",
       "      <td>Изменить структура категорий, что увеличит кон...</td>\n",
       "      <td>8</td>\n",
       "      <td>3</td>\n",
       "      <td>3</td>\n",
       "      <td>8</td>\n",
       "    </tr>\n",
       "    <tr>\n",
       "      <th>4</th>\n",
       "      <td>Изменить цвет фона главной страницы, чтобы уве...</td>\n",
       "      <td>3</td>\n",
       "      <td>1</td>\n",
       "      <td>1</td>\n",
       "      <td>1</td>\n",
       "    </tr>\n",
       "  </tbody>\n",
       "</table>\n",
       "</div>"
      ],
      "text/plain": [
       "                                          Hypothesis  Reach  Impact  \\\n",
       "0  Добавить два новых канала привлечения трафика,...      3      10   \n",
       "1  Запустить собственную службу доставки, что сок...      2       5   \n",
       "2  Добавить блоки рекомендаций товаров на сайт ин...      8       3   \n",
       "3  Изменить структура категорий, что увеличит кон...      8       3   \n",
       "4  Изменить цвет фона главной страницы, чтобы уве...      3       1   \n",
       "\n",
       "   Confidence  Efforts  \n",
       "0           8        6  \n",
       "1           4       10  \n",
       "2           7        3  \n",
       "3           3        8  \n",
       "4           1        1  "
      ]
     },
     "metadata": {},
     "output_type": "display_data"
    }
   ],
   "source": [
    "df = pd.read_csv('/datasets/hypothesis.csv')\n",
    "display(df.head())"
   ]
  },
  {
   "cell_type": "markdown",
   "metadata": {},
   "source": [
    "Согласно документации к данным:\n",
    "\n",
    "- `Hypothesis` — краткое описание гипотезы\n",
    "- `Reach` — охват пользователей по 10-балльной шкале\n",
    "- `Impact` — влияние на пользователей по 10-балльной шкале\n",
    "- `Confidence` — уверенность в гипотезе по 10-балльной шкале\n",
    "- `Efforts` — затраты ресурсов на проверку гипотезы по 10-балльной шкале"
   ]
  },
  {
   "cell_type": "markdown",
   "metadata": {},
   "source": [
    "Приведем названия столбцов в к нижнему регистру:"
   ]
  },
  {
   "cell_type": "code",
   "execution_count": 3,
   "metadata": {},
   "outputs": [],
   "source": [
    "df.columns = df.columns.str.lower()"
   ]
  },
  {
   "cell_type": "markdown",
   "metadata": {},
   "source": [
    "Применим фреймворк ICE для приоритизации гипотез:"
   ]
  },
  {
   "cell_type": "code",
   "execution_count": 4,
   "metadata": {},
   "outputs": [
    {
     "data": {
      "text/html": [
       "<div>\n",
       "<style scoped>\n",
       "    .dataframe tbody tr th:only-of-type {\n",
       "        vertical-align: middle;\n",
       "    }\n",
       "\n",
       "    .dataframe tbody tr th {\n",
       "        vertical-align: top;\n",
       "    }\n",
       "\n",
       "    .dataframe thead th {\n",
       "        text-align: right;\n",
       "    }\n",
       "</style>\n",
       "<table border=\"1\" class=\"dataframe\">\n",
       "  <thead>\n",
       "    <tr style=\"text-align: right;\">\n",
       "      <th></th>\n",
       "      <th>hypothesis</th>\n",
       "      <th>ice</th>\n",
       "    </tr>\n",
       "  </thead>\n",
       "  <tbody>\n",
       "    <tr>\n",
       "      <th>8</th>\n",
       "      <td>Запустить акцию, дающую скидку на товар в день...</td>\n",
       "      <td>16.200000</td>\n",
       "    </tr>\n",
       "    <tr>\n",
       "      <th>0</th>\n",
       "      <td>Добавить два новых канала привлечения трафика,...</td>\n",
       "      <td>13.333333</td>\n",
       "    </tr>\n",
       "    <tr>\n",
       "      <th>7</th>\n",
       "      <td>Добавить форму подписки на все основные страни...</td>\n",
       "      <td>11.200000</td>\n",
       "    </tr>\n",
       "    <tr>\n",
       "      <th>6</th>\n",
       "      <td>Показать на главной странице баннеры с актуаль...</td>\n",
       "      <td>8.000000</td>\n",
       "    </tr>\n",
       "    <tr>\n",
       "      <th>2</th>\n",
       "      <td>Добавить блоки рекомендаций товаров на сайт ин...</td>\n",
       "      <td>7.000000</td>\n",
       "    </tr>\n",
       "    <tr>\n",
       "      <th>1</th>\n",
       "      <td>Запустить собственную службу доставки, что сок...</td>\n",
       "      <td>2.000000</td>\n",
       "    </tr>\n",
       "    <tr>\n",
       "      <th>5</th>\n",
       "      <td>Добавить страницу отзывов клиентов о магазине,...</td>\n",
       "      <td>1.333333</td>\n",
       "    </tr>\n",
       "    <tr>\n",
       "      <th>3</th>\n",
       "      <td>Изменить структура категорий, что увеличит кон...</td>\n",
       "      <td>1.125000</td>\n",
       "    </tr>\n",
       "    <tr>\n",
       "      <th>4</th>\n",
       "      <td>Изменить цвет фона главной страницы, чтобы уве...</td>\n",
       "      <td>1.000000</td>\n",
       "    </tr>\n",
       "  </tbody>\n",
       "</table>\n",
       "</div>"
      ],
      "text/plain": [
       "                                          hypothesis        ice\n",
       "8  Запустить акцию, дающую скидку на товар в день...  16.200000\n",
       "0  Добавить два новых канала привлечения трафика,...  13.333333\n",
       "7  Добавить форму подписки на все основные страни...  11.200000\n",
       "6  Показать на главной странице баннеры с актуаль...   8.000000\n",
       "2  Добавить блоки рекомендаций товаров на сайт ин...   7.000000\n",
       "1  Запустить собственную службу доставки, что сок...   2.000000\n",
       "5  Добавить страницу отзывов клиентов о магазине,...   1.333333\n",
       "3  Изменить структура категорий, что увеличит кон...   1.125000\n",
       "4  Изменить цвет фона главной страницы, чтобы уве...   1.000000"
      ]
     },
     "metadata": {},
     "output_type": "display_data"
    }
   ],
   "source": [
    "df['ice'] = (df['impact'] * df['confidence']) / df['efforts']\n",
    "\n",
    "display(df[['hypothesis', 'ice']].sort_values(by='ice', ascending=False))"
   ]
  },
  {
   "cell_type": "markdown",
   "metadata": {},
   "source": [
    "Наиболее приоритетными по фреймворку ICE являются гипотезы 8, 0, 7, 6 и 2."
   ]
  },
  {
   "cell_type": "markdown",
   "metadata": {},
   "source": [
    "Применим фреймворк RICE для приоритизации гипотез:"
   ]
  },
  {
   "cell_type": "code",
   "execution_count": 5,
   "metadata": {},
   "outputs": [
    {
     "data": {
      "text/html": [
       "<div>\n",
       "<style scoped>\n",
       "    .dataframe tbody tr th:only-of-type {\n",
       "        vertical-align: middle;\n",
       "    }\n",
       "\n",
       "    .dataframe tbody tr th {\n",
       "        vertical-align: top;\n",
       "    }\n",
       "\n",
       "    .dataframe thead th {\n",
       "        text-align: right;\n",
       "    }\n",
       "</style>\n",
       "<table border=\"1\" class=\"dataframe\">\n",
       "  <thead>\n",
       "    <tr style=\"text-align: right;\">\n",
       "      <th></th>\n",
       "      <th>hypothesis</th>\n",
       "      <th>rice</th>\n",
       "    </tr>\n",
       "  </thead>\n",
       "  <tbody>\n",
       "    <tr>\n",
       "      <th>7</th>\n",
       "      <td>Добавить форму подписки на все основные страни...</td>\n",
       "      <td>112.0</td>\n",
       "    </tr>\n",
       "    <tr>\n",
       "      <th>2</th>\n",
       "      <td>Добавить блоки рекомендаций товаров на сайт ин...</td>\n",
       "      <td>56.0</td>\n",
       "    </tr>\n",
       "    <tr>\n",
       "      <th>0</th>\n",
       "      <td>Добавить два новых канала привлечения трафика,...</td>\n",
       "      <td>40.0</td>\n",
       "    </tr>\n",
       "    <tr>\n",
       "      <th>6</th>\n",
       "      <td>Показать на главной странице баннеры с актуаль...</td>\n",
       "      <td>40.0</td>\n",
       "    </tr>\n",
       "    <tr>\n",
       "      <th>8</th>\n",
       "      <td>Запустить акцию, дающую скидку на товар в день...</td>\n",
       "      <td>16.2</td>\n",
       "    </tr>\n",
       "    <tr>\n",
       "      <th>3</th>\n",
       "      <td>Изменить структура категорий, что увеличит кон...</td>\n",
       "      <td>9.0</td>\n",
       "    </tr>\n",
       "    <tr>\n",
       "      <th>1</th>\n",
       "      <td>Запустить собственную службу доставки, что сок...</td>\n",
       "      <td>4.0</td>\n",
       "    </tr>\n",
       "    <tr>\n",
       "      <th>5</th>\n",
       "      <td>Добавить страницу отзывов клиентов о магазине,...</td>\n",
       "      <td>4.0</td>\n",
       "    </tr>\n",
       "    <tr>\n",
       "      <th>4</th>\n",
       "      <td>Изменить цвет фона главной страницы, чтобы уве...</td>\n",
       "      <td>3.0</td>\n",
       "    </tr>\n",
       "  </tbody>\n",
       "</table>\n",
       "</div>"
      ],
      "text/plain": [
       "                                          hypothesis   rice\n",
       "7  Добавить форму подписки на все основные страни...  112.0\n",
       "2  Добавить блоки рекомендаций товаров на сайт ин...   56.0\n",
       "0  Добавить два новых канала привлечения трафика,...   40.0\n",
       "6  Показать на главной странице баннеры с актуаль...   40.0\n",
       "8  Запустить акцию, дающую скидку на товар в день...   16.2\n",
       "3  Изменить структура категорий, что увеличит кон...    9.0\n",
       "1  Запустить собственную службу доставки, что сок...    4.0\n",
       "5  Добавить страницу отзывов клиентов о магазине,...    4.0\n",
       "4  Изменить цвет фона главной страницы, чтобы уве...    3.0"
      ]
     },
     "metadata": {},
     "output_type": "display_data"
    }
   ],
   "source": [
    "df['rice'] = (df['reach'] * df['impact'] * df['confidence']) / df['efforts']\n",
    "\n",
    "display(df[['hypothesis', 'rice']].sort_values(by='rice', ascending=False))"
   ]
  },
  {
   "cell_type": "markdown",
   "metadata": {},
   "source": [
    "Наиболее приоритетными по фреймворку RICE являются гипотезы 7, 2, 0, 6 и 8.\n",
    "\n",
    "При использовании разных фреймворков перечень приоритетных гипотез не поменялся, но изменился порядок их приоритета. Это произошло по причине того, что фреймворк RICE учитывает также охват пользователей, которых затронет изменение."
   ]
  },
  {
   "cell_type": "markdown",
   "metadata": {},
   "source": [
    "# Анализ A/B-теста"
   ]
  },
  {
   "cell_type": "markdown",
   "metadata": {},
   "source": [
    "## Загрузка и предобработка данных"
   ]
  },
  {
   "cell_type": "markdown",
   "metadata": {},
   "source": [
    "Загрузим файлы с данными о результатах A/B-теста и сохраним их в переменные `orders` и `visitors`. Выведем на экран первые 5 строк датафреймов:"
   ]
  },
  {
   "cell_type": "code",
   "execution_count": 6,
   "metadata": {
    "scrolled": true
   },
   "outputs": [
    {
     "data": {
      "text/html": [
       "<div>\n",
       "<style scoped>\n",
       "    .dataframe tbody tr th:only-of-type {\n",
       "        vertical-align: middle;\n",
       "    }\n",
       "\n",
       "    .dataframe tbody tr th {\n",
       "        vertical-align: top;\n",
       "    }\n",
       "\n",
       "    .dataframe thead th {\n",
       "        text-align: right;\n",
       "    }\n",
       "</style>\n",
       "<table border=\"1\" class=\"dataframe\">\n",
       "  <thead>\n",
       "    <tr style=\"text-align: right;\">\n",
       "      <th></th>\n",
       "      <th>transactionId</th>\n",
       "      <th>visitorId</th>\n",
       "      <th>date</th>\n",
       "      <th>revenue</th>\n",
       "      <th>group</th>\n",
       "    </tr>\n",
       "  </thead>\n",
       "  <tbody>\n",
       "    <tr>\n",
       "      <th>0</th>\n",
       "      <td>3667963787</td>\n",
       "      <td>3312258926</td>\n",
       "      <td>2019-08-15</td>\n",
       "      <td>1650</td>\n",
       "      <td>B</td>\n",
       "    </tr>\n",
       "    <tr>\n",
       "      <th>1</th>\n",
       "      <td>2804400009</td>\n",
       "      <td>3642806036</td>\n",
       "      <td>2019-08-15</td>\n",
       "      <td>730</td>\n",
       "      <td>B</td>\n",
       "    </tr>\n",
       "    <tr>\n",
       "      <th>2</th>\n",
       "      <td>2961555356</td>\n",
       "      <td>4069496402</td>\n",
       "      <td>2019-08-15</td>\n",
       "      <td>400</td>\n",
       "      <td>A</td>\n",
       "    </tr>\n",
       "    <tr>\n",
       "      <th>3</th>\n",
       "      <td>3797467345</td>\n",
       "      <td>1196621759</td>\n",
       "      <td>2019-08-15</td>\n",
       "      <td>9759</td>\n",
       "      <td>B</td>\n",
       "    </tr>\n",
       "    <tr>\n",
       "      <th>4</th>\n",
       "      <td>2282983706</td>\n",
       "      <td>2322279887</td>\n",
       "      <td>2019-08-15</td>\n",
       "      <td>2308</td>\n",
       "      <td>B</td>\n",
       "    </tr>\n",
       "  </tbody>\n",
       "</table>\n",
       "</div>"
      ],
      "text/plain": [
       "   transactionId   visitorId        date  revenue group\n",
       "0     3667963787  3312258926  2019-08-15     1650     B\n",
       "1     2804400009  3642806036  2019-08-15      730     B\n",
       "2     2961555356  4069496402  2019-08-15      400     A\n",
       "3     3797467345  1196621759  2019-08-15     9759     B\n",
       "4     2282983706  2322279887  2019-08-15     2308     B"
      ]
     },
     "metadata": {},
     "output_type": "display_data"
    },
    {
     "data": {
      "text/html": [
       "<div>\n",
       "<style scoped>\n",
       "    .dataframe tbody tr th:only-of-type {\n",
       "        vertical-align: middle;\n",
       "    }\n",
       "\n",
       "    .dataframe tbody tr th {\n",
       "        vertical-align: top;\n",
       "    }\n",
       "\n",
       "    .dataframe thead th {\n",
       "        text-align: right;\n",
       "    }\n",
       "</style>\n",
       "<table border=\"1\" class=\"dataframe\">\n",
       "  <thead>\n",
       "    <tr style=\"text-align: right;\">\n",
       "      <th></th>\n",
       "      <th>date</th>\n",
       "      <th>group</th>\n",
       "      <th>visitors</th>\n",
       "    </tr>\n",
       "  </thead>\n",
       "  <tbody>\n",
       "    <tr>\n",
       "      <th>0</th>\n",
       "      <td>2019-08-01</td>\n",
       "      <td>A</td>\n",
       "      <td>719</td>\n",
       "    </tr>\n",
       "    <tr>\n",
       "      <th>1</th>\n",
       "      <td>2019-08-02</td>\n",
       "      <td>A</td>\n",
       "      <td>619</td>\n",
       "    </tr>\n",
       "    <tr>\n",
       "      <th>2</th>\n",
       "      <td>2019-08-03</td>\n",
       "      <td>A</td>\n",
       "      <td>507</td>\n",
       "    </tr>\n",
       "    <tr>\n",
       "      <th>3</th>\n",
       "      <td>2019-08-04</td>\n",
       "      <td>A</td>\n",
       "      <td>717</td>\n",
       "    </tr>\n",
       "    <tr>\n",
       "      <th>4</th>\n",
       "      <td>2019-08-05</td>\n",
       "      <td>A</td>\n",
       "      <td>756</td>\n",
       "    </tr>\n",
       "  </tbody>\n",
       "</table>\n",
       "</div>"
      ],
      "text/plain": [
       "         date group  visitors\n",
       "0  2019-08-01     A       719\n",
       "1  2019-08-02     A       619\n",
       "2  2019-08-03     A       507\n",
       "3  2019-08-04     A       717\n",
       "4  2019-08-05     A       756"
      ]
     },
     "metadata": {},
     "output_type": "display_data"
    }
   ],
   "source": [
    "orders = pd.read_csv('/datasets/orders.csv')\n",
    "visitors = pd.read_csv('/datasets/visitors.csv')\n",
    "\n",
    "display(orders.head())\n",
    "display(visitors.head())"
   ]
  },
  {
   "cell_type": "markdown",
   "metadata": {},
   "source": [
    "Согласно документации к данным:\n",
    "\n",
    "Таблица **`orders`** (информация о заказах):\n",
    "- `transactionId` — идентификатор заказа\n",
    "- `visitorId` — идентификатор пользователя, совершившего заказ\n",
    "- `date` — дата, когда был совершён заказ\n",
    "- `revenue` — выручка заказа\n",
    "- `group` — группа A/B-теста, в которую попал заказ\n",
    "\n",
    "Таблица **`visitors`** (информация о посетителях):\n",
    "- `date` — дата\n",
    "- `group` — группа A/B-теста\n",
    "- `visitors` — количество пользователей в указанную дату в указанной группе A/B-теста"
   ]
  },
  {
   "cell_type": "markdown",
   "metadata": {},
   "source": [
    "Переименуем столбцы в датафрейме `orders`:"
   ]
  },
  {
   "cell_type": "code",
   "execution_count": 7,
   "metadata": {},
   "outputs": [],
   "source": [
    "orders = orders.rename(columns={'transactionId':'transaction_id', 'visitorId':'visitor_id'})"
   ]
  },
  {
   "cell_type": "markdown",
   "metadata": {},
   "source": [
    "Изучим общую информацию о таблицах:"
   ]
  },
  {
   "cell_type": "code",
   "execution_count": 8,
   "metadata": {},
   "outputs": [
    {
     "name": "stdout",
     "output_type": "stream",
     "text": [
      "<class 'pandas.core.frame.DataFrame'>\n",
      "RangeIndex: 1197 entries, 0 to 1196\n",
      "Data columns (total 5 columns):\n",
      " #   Column          Non-Null Count  Dtype \n",
      "---  ------          --------------  ----- \n",
      " 0   transaction_id  1197 non-null   int64 \n",
      " 1   visitor_id      1197 non-null   int64 \n",
      " 2   date            1197 non-null   object\n",
      " 3   revenue         1197 non-null   int64 \n",
      " 4   group           1197 non-null   object\n",
      "dtypes: int64(3), object(2)\n",
      "memory usage: 46.9+ KB\n",
      "\n",
      "\n",
      "\n",
      "<class 'pandas.core.frame.DataFrame'>\n",
      "RangeIndex: 62 entries, 0 to 61\n",
      "Data columns (total 3 columns):\n",
      " #   Column    Non-Null Count  Dtype \n",
      "---  ------    --------------  ----- \n",
      " 0   date      62 non-null     object\n",
      " 1   group     62 non-null     object\n",
      " 2   visitors  62 non-null     int64 \n",
      "dtypes: int64(1), object(2)\n",
      "memory usage: 1.6+ KB\n",
      "\n",
      "\n",
      "\n"
     ]
    }
   ],
   "source": [
    "tables = [orders, visitors]\n",
    "tables_name = ['orders', 'visitors']\n",
    "\n",
    "for i in tables:\n",
    "    i.info()\n",
    "    print('\\n' * 2)"
   ]
  },
  {
   "cell_type": "markdown",
   "metadata": {},
   "source": [
    "Пропуски в таблицах отсутствуют. Заменим тип данных в столбцах с датой с текстового на `datetime`:"
   ]
  },
  {
   "cell_type": "code",
   "execution_count": 9,
   "metadata": {},
   "outputs": [],
   "source": [
    "orders['date'] = pd.to_datetime(orders['date'])\n",
    "visitors['date'] = pd.to_datetime(visitors['date'])"
   ]
  },
  {
   "cell_type": "markdown",
   "metadata": {},
   "source": [
    "Проверим наличие явных дубликатов в таблицах:"
   ]
  },
  {
   "cell_type": "code",
   "execution_count": 10,
   "metadata": {},
   "outputs": [
    {
     "name": "stdout",
     "output_type": "stream",
     "text": [
      "Количество дубликатов в orders : 0\n",
      "Количество дубликатов в visitors : 0\n"
     ]
    }
   ],
   "source": [
    "j=-1\n",
    "\n",
    "for i in tables:\n",
    "    j +=1\n",
    "    print('Количество дубликатов в', tables_name[j],':', i.duplicated().sum())"
   ]
  },
  {
   "cell_type": "markdown",
   "metadata": {},
   "source": [
    "Явные дубликаты в таблицах не обнаружены."
   ]
  },
  {
   "cell_type": "markdown",
   "metadata": {},
   "source": [
    "## Кумулятивная выручка"
   ]
  },
  {
   "cell_type": "markdown",
   "metadata": {},
   "source": [
    "Соберём агрегированные кумулятивные по дням данные о заказах:"
   ]
  },
  {
   "cell_type": "code",
   "execution_count": 11,
   "metadata": {},
   "outputs": [
    {
     "data": {
      "text/html": [
       "<div>\n",
       "<style scoped>\n",
       "    .dataframe tbody tr th:only-of-type {\n",
       "        vertical-align: middle;\n",
       "    }\n",
       "\n",
       "    .dataframe tbody tr th {\n",
       "        vertical-align: top;\n",
       "    }\n",
       "\n",
       "    .dataframe thead th {\n",
       "        text-align: right;\n",
       "    }\n",
       "</style>\n",
       "<table border=\"1\" class=\"dataframe\">\n",
       "  <thead>\n",
       "    <tr style=\"text-align: right;\">\n",
       "      <th></th>\n",
       "      <th>date</th>\n",
       "      <th>group</th>\n",
       "      <th>orders</th>\n",
       "      <th>buyers</th>\n",
       "      <th>revenue</th>\n",
       "      <th>visitors</th>\n",
       "    </tr>\n",
       "  </thead>\n",
       "  <tbody>\n",
       "    <tr>\n",
       "      <th>0</th>\n",
       "      <td>2019-08-01</td>\n",
       "      <td>A</td>\n",
       "      <td>24</td>\n",
       "      <td>20</td>\n",
       "      <td>148579</td>\n",
       "      <td>719</td>\n",
       "    </tr>\n",
       "    <tr>\n",
       "      <th>1</th>\n",
       "      <td>2019-08-01</td>\n",
       "      <td>B</td>\n",
       "      <td>21</td>\n",
       "      <td>20</td>\n",
       "      <td>101217</td>\n",
       "      <td>713</td>\n",
       "    </tr>\n",
       "    <tr>\n",
       "      <th>2</th>\n",
       "      <td>2019-08-02</td>\n",
       "      <td>A</td>\n",
       "      <td>44</td>\n",
       "      <td>38</td>\n",
       "      <td>242401</td>\n",
       "      <td>1338</td>\n",
       "    </tr>\n",
       "    <tr>\n",
       "      <th>3</th>\n",
       "      <td>2019-08-02</td>\n",
       "      <td>B</td>\n",
       "      <td>45</td>\n",
       "      <td>43</td>\n",
       "      <td>266748</td>\n",
       "      <td>1294</td>\n",
       "    </tr>\n",
       "    <tr>\n",
       "      <th>4</th>\n",
       "      <td>2019-08-03</td>\n",
       "      <td>A</td>\n",
       "      <td>68</td>\n",
       "      <td>62</td>\n",
       "      <td>354874</td>\n",
       "      <td>1845</td>\n",
       "    </tr>\n",
       "  </tbody>\n",
       "</table>\n",
       "</div>"
      ],
      "text/plain": [
       "        date group  orders  buyers  revenue  visitors\n",
       "0 2019-08-01     A      24      20   148579       719\n",
       "1 2019-08-01     B      21      20   101217       713\n",
       "2 2019-08-02     A      44      38   242401      1338\n",
       "3 2019-08-02     B      45      43   266748      1294\n",
       "4 2019-08-03     A      68      62   354874      1845"
      ]
     },
     "metadata": {},
     "output_type": "display_data"
    }
   ],
   "source": [
    "# создаем массив уникальных пар значений дат и групп теста\n",
    "dates_groups = orders[['date','group']].drop_duplicates()\n",
    "\n",
    "# получаем агрегированные кумулятивные по дням данные о заказах \n",
    "orders_aggregated = (\n",
    "    dates_groups.apply(lambda x: orders[np.logical_and(orders['date'] <= x['date'], orders['group'] == x['group'])]\n",
    "                      .agg({'date':'max', \n",
    "                            'group':'max', \n",
    "                            'transaction_id':'nunique', \n",
    "                            'visitor_id':'nunique',\n",
    "                            'revenue':'sum'}), axis=1).sort_values(by=['date','group'])\n",
    ")\n",
    "\n",
    "# получаем агрегированные кумулятивные по дням данные о посетителях интернет-магазина \n",
    "visitors_aggregated = (\n",
    "    dates_groups.apply(lambda x: visitors[np.logical_and(visitors['date'] <= x['date'], visitors['group'] == x['group'])]\n",
    "                      .agg({'date':'max',\n",
    "                            'group':'max',\n",
    "                            'visitors':'sum'}), axis=1).sort_values(by=['date','group'])\n",
    ")\n",
    "\n",
    "# объединяем кумулятивные данные в одной таблице и присваиваем ее столбцам понятные названия\n",
    "cumulative_data = orders_aggregated.merge(visitors_aggregated, on=['date', 'group'])\n",
    "cumulative_data.columns = ['date', 'group', 'orders', 'buyers', 'revenue', 'visitors']\n",
    "\n",
    "display(cumulative_data.head()) "
   ]
  },
  {
   "cell_type": "markdown",
   "metadata": {},
   "source": [
    "Построим графики кумулятивной выручки по дням и группам A/B-тестирования:"
   ]
  },
  {
   "cell_type": "code",
   "execution_count": 12,
   "metadata": {},
   "outputs": [
    {
     "data": {
      "image/png": "[encoded data removed]",
      "text/plain": [
       "<Figure size 1080x360 with 1 Axes>"
      ]
     },
     "metadata": {
      "needs_background": "light"
     },
     "output_type": "display_data"
    }
   ],
   "source": [
    "# датафрейм с кумулятивным количеством заказов и кумулятивной выручкой по дням в группе А\n",
    "cumulative_revenue_a = cumulative_data[cumulative_data['group'] == 'A'][['date','revenue', 'orders']]\n",
    "\n",
    "# датафрейм с кумулятивным количеством заказов и кумулятивной выручкой по дням в группе B\n",
    "cumulative_revenue_b = cumulative_data[cumulative_data['group'] == 'B'][['date','revenue', 'orders']]\n",
    "\n",
    "# построим график\n",
    "plt.figure(figsize=(15, 5))\n",
    "sns.lineplot(cumulative_revenue_a['date'], cumulative_revenue_a['revenue'], label='A')\n",
    "sns.lineplot(cumulative_revenue_b['date'], cumulative_revenue_b['revenue'], label='B')\n",
    "plt.title('Кумулятивная выручка', pad=20) \n",
    "plt.xlabel('Дата')\n",
    "plt.ylabel('Выручка, млн руб.')\n",
    "plt.legend(frameon=False, loc=2)\n",
    "sns.despine()\n",
    "plt.show()"
   ]
  },
  {
   "cell_type": "markdown",
   "metadata": {},
   "source": [
    "На графике виден резкий рост выручки в группе **B**, который произошел на третьей неделе теста. Это может сигнализировать о всплеске числа заказов, либо о появлении очень дорогих заказов в выборке. Проанализируем более детально динамику среднего чека в группах."
   ]
  },
  {
   "cell_type": "markdown",
   "metadata": {},
   "source": [
    "## Кумулятивный средний чек"
   ]
  },
  {
   "cell_type": "markdown",
   "metadata": {},
   "source": [
    "Построим графики среднего чека по группам — разделим кумулятивную выручку на кумулятивное число заказов:"
   ]
  },
  {
   "cell_type": "code",
   "execution_count": 13,
   "metadata": {},
   "outputs": [
    {
     "data": {
      "image/png": "[encoded data removed]",
      "text/plain": [
       "<Figure size 1080x360 with 1 Axes>"
      ]
     },
     "metadata": {
      "needs_background": "light"
     },
     "output_type": "display_data"
    }
   ],
   "source": [
    "plt.figure(figsize=(15, 5))\n",
    "plt.plot(cumulative_revenue_a['date'], cumulative_revenue_a['revenue']/cumulative_revenue_a['orders'], label='A')\n",
    "plt.plot(cumulative_revenue_b['date'], cumulative_revenue_b['revenue']/cumulative_revenue_b['orders'], label='B')\n",
    "plt.title('Средний чек', pad=20) \n",
    "plt.xlabel('Дата')\n",
    "plt.ylabel('Средний чек, руб.')\n",
    "plt.legend(frameon=False, loc=2)\n",
    "sns.despine()\n",
    "plt.show()"
   ]
  },
  {
   "cell_type": "markdown",
   "metadata": {},
   "source": [
    "Средний чек в группе **B** резко растет, следовательно, в группу попали крупные заказы.\n",
    "\n",
    "Построим график относительного различия для среднего чека:"
   ]
  },
  {
   "cell_type": "code",
   "execution_count": 14,
   "metadata": {},
   "outputs": [
    {
     "data": {
      "image/png": "[encoded data removed]",
      "text/plain": [
       "<Figure size 1080x360 with 1 Axes>"
      ]
     },
     "metadata": {
      "needs_background": "light"
     },
     "output_type": "display_data"
    }
   ],
   "source": [
    "# собираем данные в одном датафрейме\n",
    "merged_cumulative_revenue = cumulative_revenue_a.merge(cumulative_revenue_b, on='date', how='left', suffixes=['_a', '_b'])\n",
    "\n",
    "# cтроим отношение средних чеков\n",
    "plt.figure(figsize=(15, 5))\n",
    "ax = sns.lineplot(merged_cumulative_revenue['date'], \n",
    "                  ((merged_cumulative_revenue['revenue_b']/merged_cumulative_revenue['orders_b'])/\n",
    "                  (merged_cumulative_revenue['revenue_a']/merged_cumulative_revenue['orders_a'])-1)*100)\n",
    "\n",
    "plt.axhline(y=0, color='black', linestyle='--')\n",
    "ax.yaxis.set_major_formatter(mtick.PercentFormatter(decimals=0))  \n",
    "plt.title('Изменения кумулятивного среднего чека группы B к группе A', pad=20) \n",
    "plt.xlabel('Дата')\n",
    "plt.ylabel('Δ')\n",
    "sns.despine()\n",
    "plt.show()"
   ]
  },
  {
   "cell_type": "markdown",
   "metadata": {},
   "source": [
    "В нескольких точках график различия среднего чека резко «скачет»."
   ]
  },
  {
   "cell_type": "markdown",
   "metadata": {},
   "source": [
    "## Кумулятивная конверсия"
   ]
  },
  {
   "cell_type": "markdown",
   "metadata": {},
   "source": [
    "Аналогично проанализируем график кумулятивной конверсии:"
   ]
  },
  {
   "cell_type": "code",
   "execution_count": 15,
   "metadata": {},
   "outputs": [
    {
     "data": {
      "image/png": "[encoded data removed]",
      "text/plain": [
       "<Figure size 1080x360 with 1 Axes>"
      ]
     },
     "metadata": {
      "needs_background": "light"
     },
     "output_type": "display_data"
    }
   ],
   "source": [
    "# считаем кумулятивную конверсию\n",
    "cumulative_data['conversion'] = cumulative_data['orders']/cumulative_data['visitors']\n",
    "\n",
    "# отделяем данные по группе A\n",
    "cumulative_data_a = cumulative_data[cumulative_data['group'] == 'A']\n",
    "\n",
    "# отделяем данные по группе B\n",
    "cumulative_data_b = cumulative_data[cumulative_data['group'] == 'B']\n",
    "\n",
    "# строим графики\n",
    "plt.figure(figsize=(15, 5))\n",
    "ax = sns.lineplot(cumulative_data_a['date'], cumulative_data_a['conversion']*100, label='A')\n",
    "ax = sns.lineplot(cumulative_data_b['date'], cumulative_data_b['conversion']*100, label='B')\n",
    "plt.title('Кумулятивная конверсия', pad=20) \n",
    "plt.xlabel('Дата')\n",
    "plt.ylabel('Конверсия')\n",
    "ax.yaxis.set_major_formatter(mtick.PercentFormatter(decimals=1))  \n",
    "plt.legend(frameon=False, loc=2)\n",
    "sns.despine()\n",
    "plt.show()"
   ]
  },
  {
   "cell_type": "markdown",
   "metadata": {},
   "source": [
    "В начале теста конверсия в группе **B** была ниже, чем в группе **A**, но затем она выросла и стабилизировалась на более высоком уровне."
   ]
  },
  {
   "cell_type": "markdown",
   "metadata": {},
   "source": [
    "Построим график относительного различия кумулятивных конверсий:"
   ]
  },
  {
   "cell_type": "code",
   "execution_count": 16,
   "metadata": {},
   "outputs": [
    {
     "data": {
      "image/png": "[encoded data removed]",
      "text/plain": [
       "<Figure size 1080x360 with 1 Axes>"
      ]
     },
     "metadata": {
      "needs_background": "light"
     },
     "output_type": "display_data"
    }
   ],
   "source": [
    "merged_cumulative_conversions = (\n",
    "    cumulative_data_a[['date','conversion']].merge(cumulative_data_b[['date','conversion']], \n",
    "                                                   on='date', how='left', suffixes=['_a', '_b'])\n",
    ")\n",
    "\n",
    "plt.figure(figsize=(15, 5))\n",
    "ax = sns.lineplot(merged_cumulative_conversions['date'], (merged_cumulative_conversions['conversion_b']/\n",
    "             merged_cumulative_conversions['conversion_a']-1)*100)\n",
    "\n",
    "plt.title('Изменение кумулятивной конверсии группы B к группе A', pad=20) \n",
    "plt.axhline(y=0, color='black', linestyle='--')\n",
    "ax.yaxis.set_major_formatter(mtick.PercentFormatter(decimals=0)) \n",
    "plt.xlabel('Дата')\n",
    "plt.ylabel('Δ')\n",
    "sns.despine()\n",
    "plt.show()"
   ]
  },
  {
   "cell_type": "markdown",
   "metadata": {},
   "source": [
    "После стабилизации конверсия в группе **B** в среднем выше на 10%, чем в группе **A**."
   ]
  },
  {
   "cell_type": "markdown",
   "metadata": {},
   "source": [
    "## Количество заказов на пользователя"
   ]
  },
  {
   "cell_type": "markdown",
   "metadata": {},
   "source": [
    "Подсчитаем количество заказов по пользователям и посмотрим на результат:"
   ]
  },
  {
   "cell_type": "code",
   "execution_count": 17,
   "metadata": {},
   "outputs": [
    {
     "data": {
      "text/html": [
       "<div>\n",
       "<style scoped>\n",
       "    .dataframe tbody tr th:only-of-type {\n",
       "        vertical-align: middle;\n",
       "    }\n",
       "\n",
       "    .dataframe tbody tr th {\n",
       "        vertical-align: top;\n",
       "    }\n",
       "\n",
       "    .dataframe thead th {\n",
       "        text-align: right;\n",
       "    }\n",
       "</style>\n",
       "<table border=\"1\" class=\"dataframe\">\n",
       "  <thead>\n",
       "    <tr style=\"text-align: right;\">\n",
       "      <th></th>\n",
       "      <th>visitor_id</th>\n",
       "      <th>orders</th>\n",
       "    </tr>\n",
       "  </thead>\n",
       "  <tbody>\n",
       "    <tr>\n",
       "      <th>1023</th>\n",
       "      <td>4256040402</td>\n",
       "      <td>11</td>\n",
       "    </tr>\n",
       "    <tr>\n",
       "      <th>591</th>\n",
       "      <td>2458001652</td>\n",
       "      <td>11</td>\n",
       "    </tr>\n",
       "    <tr>\n",
       "      <th>569</th>\n",
       "      <td>2378935119</td>\n",
       "      <td>9</td>\n",
       "    </tr>\n",
       "    <tr>\n",
       "      <th>487</th>\n",
       "      <td>2038680547</td>\n",
       "      <td>8</td>\n",
       "    </tr>\n",
       "    <tr>\n",
       "      <th>44</th>\n",
       "      <td>199603092</td>\n",
       "      <td>5</td>\n",
       "    </tr>\n",
       "    <tr>\n",
       "      <th>744</th>\n",
       "      <td>3062433592</td>\n",
       "      <td>5</td>\n",
       "    </tr>\n",
       "    <tr>\n",
       "      <th>55</th>\n",
       "      <td>237748145</td>\n",
       "      <td>5</td>\n",
       "    </tr>\n",
       "    <tr>\n",
       "      <th>917</th>\n",
       "      <td>3803269165</td>\n",
       "      <td>5</td>\n",
       "    </tr>\n",
       "    <tr>\n",
       "      <th>299</th>\n",
       "      <td>1230306981</td>\n",
       "      <td>5</td>\n",
       "    </tr>\n",
       "    <tr>\n",
       "      <th>897</th>\n",
       "      <td>3717692402</td>\n",
       "      <td>5</td>\n",
       "    </tr>\n",
       "  </tbody>\n",
       "</table>\n",
       "</div>"
      ],
      "text/plain": [
       "      visitor_id  orders\n",
       "1023  4256040402      11\n",
       "591   2458001652      11\n",
       "569   2378935119       9\n",
       "487   2038680547       8\n",
       "44     199603092       5\n",
       "744   3062433592       5\n",
       "55     237748145       5\n",
       "917   3803269165       5\n",
       "299   1230306981       5\n",
       "897   3717692402       5"
      ]
     },
     "metadata": {},
     "output_type": "display_data"
    }
   ],
   "source": [
    "orders_by_users = orders.groupby('visitor_id', as_index=False).agg({'transaction_id':'nunique'})\n",
    "orders_by_users.columns = ['visitor_id', 'orders']\n",
    "display(orders_by_users.sort_values(by='orders', ascending=False).head(10)) "
   ]
  },
  {
   "cell_type": "markdown",
   "metadata": {},
   "source": [
    "Есть пользователи, которые совершали 5, 8, 9 и 11 заказов. Это значительно больше, чем совершает обычный пользователь за неделю.\n",
    "Построим гистрограмму распределения количества заказов на одного пользователя:"
   ]
  },
  {
   "cell_type": "code",
   "execution_count": 18,
   "metadata": {},
   "outputs": [
    {
     "data": {
      "image/png": "[encoded data removed]",
      "text/plain": [
       "<Figure size 720x360 with 1 Axes>"
      ]
     },
     "metadata": {
      "needs_background": "light"
     },
     "output_type": "display_data"
    }
   ],
   "source": [
    "plt.figure(figsize=(10, 5))\n",
    "sns.histplot(orders_by_users['orders'])\n",
    "plt.title('Гистрограмма распределения количества заказов на одного пользователя', pad=20) \n",
    "plt.xlabel('Количество заказов')\n",
    "plt.ylabel('Количество пользователей')\n",
    "plt.xticks(np.arange(1, 12, 1))\n",
    "sns.despine()\n",
    "plt.show()"
   ]
  },
  {
   "cell_type": "markdown",
   "metadata": {},
   "source": [
    "Большинство покупателей заказывали только один раз. Однако доля пользователей с 2-4 заказами тоже значительна.\n",
    "Построим точечную диаграмму числа заказов на одного пользователя:"
   ]
  },
  {
   "cell_type": "code",
   "execution_count": 19,
   "metadata": {},
   "outputs": [
    {
     "data": {
      "image/png": "[encoded data removed]",
      "text/plain": [
       "<Figure size 720x360 with 1 Axes>"
      ]
     },
     "metadata": {
      "needs_background": "light"
     },
     "output_type": "display_data"
    }
   ],
   "source": [
    "plt.figure(figsize=(10, 5))\n",
    "\n",
    "x_values = pd.Series(range(0,len(orders_by_users)))\n",
    "sns.scatterplot(x_values, orders_by_users['orders']) \n",
    "\n",
    "plt.title('Точечная диаграмма числа заказов на одного пользователя', pad=20) \n",
    "plt.ylabel('Количество заказов')\n",
    "sns.despine()\n",
    "plt.show()"
   ]
  },
  {
   "cell_type": "markdown",
   "metadata": {},
   "source": [
    "Выводы подтверждаются: много пользователей с 2-4 заказами.\n",
    "\n",
    "Посчитаем 95-й и 99-й перцентили количества заказов на одного пользователя:"
   ]
  },
  {
   "cell_type": "code",
   "execution_count": 20,
   "metadata": {},
   "outputs": [
    {
     "name": "stdout",
     "output_type": "stream",
     "text": [
      "[2. 4.]\n"
     ]
    }
   ],
   "source": [
    "print(np.percentile(orders_by_users['orders'], [95, 99]))"
   ]
  },
  {
   "cell_type": "markdown",
   "metadata": {},
   "source": [
    "Не более 5% пользователей оформляли больше чем 2 заказа, 1% пользователей заказывали более 4-х раз."
   ]
  },
  {
   "cell_type": "markdown",
   "metadata": {},
   "source": [
    "## Стоимость заказов"
   ]
  },
  {
   "cell_type": "markdown",
   "metadata": {},
   "source": [
    "Построим гистрограмму распределения стоимости заказа:"
   ]
  },
  {
   "cell_type": "code",
   "execution_count": 21,
   "metadata": {},
   "outputs": [
    {
     "data": {
      "image/png": "[encoded data removed]",
      "text/plain": [
       "<Figure size 720x360 with 1 Axes>"
      ]
     },
     "metadata": {
      "needs_background": "light"
     },
     "output_type": "display_data"
    }
   ],
   "source": [
    "plt.figure(figsize=(10, 5))\n",
    "ax = sns.histplot(orders['revenue']/1000)\n",
    "plt.axvline(x=(orders['revenue']/1000).median(), linewidth=2, color='r', linestyle='--', label='медиана', alpha=0.8)\n",
    "plt.title('Гистрограмма распределения стоимости заказа', pad=20) \n",
    "plt.xlabel('Стоимость, тыс. руб.')\n",
    "plt.ylabel('Количество заказов')\n",
    "ax.set_xlim([0, 55])\n",
    "plt.xticks(np.arange(0, 55, 5))\n",
    "plt.legend(frameon=False)\n",
    "sns.despine()\n",
    "plt.show()"
   ]
  },
  {
   "cell_type": "markdown",
   "metadata": {},
   "source": [
    "Основная часть заказов приходится на диапазон до 20 000 руб. Построим точечную диаграмму стоимости заказа:"
   ]
  },
  {
   "cell_type": "code",
   "execution_count": 22,
   "metadata": {},
   "outputs": [
    {
     "data": {
      "image/png": "[encoded data removed]",
      "text/plain": [
       "<Figure size 720x360 with 1 Axes>"
      ]
     },
     "metadata": {
      "needs_background": "light"
     },
     "output_type": "display_data"
    }
   ],
   "source": [
    "plt.figure(figsize=(10, 5))\n",
    "x_values = pd.Series(range(0,len(orders['revenue'])))\n",
    "sns.scatterplot(x_values, orders['revenue']/1000, hue=orders['group']) \n",
    "plt.title('Точечная диаграмма стоимости заказа', pad=20) \n",
    "plt.ylabel('Стоимость заказа, тыс. руб.')\n",
    "plt.legend(frameon=False, title='Группа', loc=1)\n",
    "sns.despine()\n",
    "plt.show()"
   ]
  },
  {
   "cell_type": "markdown",
   "metadata": {},
   "source": [
    "В группе **B** есть несколько очень дорогих заказов которые и повлияли на рост среднего чека. \n",
    "\n",
    "Посчитаем 95-й и 99-й перцентили стоимости заказа:"
   ]
  },
  {
   "cell_type": "code",
   "execution_count": 23,
   "metadata": {},
   "outputs": [
    {
     "name": "stdout",
     "output_type": "stream",
     "text": [
      "[28000.  58233.2]\n"
     ]
    }
   ],
   "source": [
    "print(np.percentile(orders['revenue'], [95, 99]))"
   ]
  },
  {
   "cell_type": "markdown",
   "metadata": {},
   "source": [
    "Не более 5% пользователей оформляли заказ на сумму свыше 28 000 руб., 1% пользователей оформляли заказ на сумму свыше 58 000 руб."
   ]
  },
  {
   "cell_type": "markdown",
   "metadata": {},
   "source": [
    "## Статистическая значимость различий в конверсии между группами"
   ]
  },
  {
   "cell_type": "markdown",
   "metadata": {},
   "source": [
    "Для оценки статистической значимости различия в конверсии между группами проверим гипотезу о равенстве долей.\n",
    "Сформулируем нулевую гипотезу $H_{0}$: различие в конверсии между группами отсутствует. Тогда альтернативная гипотеза $H_{1}$ будет звучать как: есть различие в конверсии между группами. Зададим уровень статистической значимости α, равный 0.05. Для проверки гипотезы о равенстве долей применим z-тест для разности конверсий в группах:"
   ]
  },
  {
   "cell_type": "code",
   "execution_count": 24,
   "metadata": {
    "scrolled": true
   },
   "outputs": [
    {
     "name": "stdout",
     "output_type": "stream",
     "text": [
      "Относительные различия в конверсии между группами: 0.138\n",
      "p-value: 0.023\n",
      "Отвергаем нулевую гипотезу: между конверсиями есть значимая разница\n"
     ]
    }
   ],
   "source": [
    "# критический уровень статистической значимости\n",
    "alpha = 0.05 \n",
    "\n",
    "# создадим датафрейм с конверсиями по группам\n",
    "conversion = cumulative_data[cumulative_data['date'] == \n",
    "                             cumulative_data['date'].max()][['group', 'orders', 'visitors', 'conversion']]\n",
    "\n",
    "# конверсия в группе A\n",
    "conversion_a = conversion[conversion['group'] == 'A']['conversion'].values[0]\n",
    "\n",
    "# конверсия в группе B\n",
    "conversion_b = conversion[conversion['group'] == 'B']['conversion'].values[0]\n",
    "\n",
    "# посетители в группе A\n",
    "visitors_a = conversion[conversion['group'] == 'A']['visitors'].values[0]\n",
    "\n",
    "# посетители в группе B\n",
    "visitors_b = conversion[conversion['group'] == 'B']['visitors'].values[0]\n",
    "\n",
    "# конверсия в комбинированной группе\n",
    "conversion_combined = conversion['orders'].sum() / conversion['visitors'].sum()\n",
    "\n",
    "# разница конверсий в группах\n",
    "difference = conversion_a - conversion_b\n",
    "\n",
    "# считаем статистику в ст.отклонениях стандартного нормального распределения\n",
    "z_value = difference / mth.sqrt(conversion_combined * (1 - conversion_combined) * (1 / visitors_a + 1 / visitors_b))\n",
    "\n",
    "# задаем стандартное нормальное распределение (среднее 0, ст.отклонение 1)\n",
    "distr = st.norm(0, 1)  \n",
    "\n",
    "# считаем относительную разницу\n",
    "print('Относительные различия в конверсии между группами:', '{0:.3f}'.format(conversion_b / conversion_a - 1))\n",
    "\n",
    "# считаем p-value\n",
    "p_value = (1 - distr.cdf(abs(z_value))) * 2\n",
    "\n",
    "print('p-value:', '{0:.3f}'.format(p_value))\n",
    "\n",
    "if p_value < alpha:\n",
    "    print('Отвергаем нулевую гипотезу: между конверсиями есть значимая разница')\n",
    "else:\n",
    "    print('Не получилось отвергнуть нулевую гипотезу, нет оснований считать конверсии разными') "
   ]
  },
  {
   "cell_type": "markdown",
   "metadata": {},
   "source": [
    "Проверка гипотезы показала, что различие в конверсии между группами статистически значимо, конверсия в группе **B** выше на 14%."
   ]
  },
  {
   "cell_type": "markdown",
   "metadata": {},
   "source": [
    "## Статистическая значимость различий в среднем чеке заказа между группами"
   ]
  },
  {
   "cell_type": "markdown",
   "metadata": {},
   "source": [
    "Проверим статистическую значимость различий в среднем чеке между группами.\n",
    "Аналогично сформулируем нулевую гипотезу $H_{0}$: различие в среднем чеке между группами отсутствует. Тогда альтернативная гипотеза $H_{1}$ будет звучать как: есть различие в среднем чеке между группами. Так как показатель средего чека имеет большой разброс, для проверки гипотезы о равенстве средних двух генеральных совокупностей применим непараметрический U-критерий Манна - Уитни:"
   ]
  },
  {
   "cell_type": "code",
   "execution_count": 25,
   "metadata": {},
   "outputs": [
    {
     "name": "stdout",
     "output_type": "stream",
     "text": [
      "Относительные различия в среднем чеке между группами: 0.259\n",
      "p-value: 0.729\n",
      "Не получилось отвергнуть нулевую гипотезу, нет оснований считать средние чеки разными\n"
     ]
    }
   ],
   "source": [
    "# считаем p-value\n",
    "p_value = st.mannwhitneyu(orders[orders['group']=='A']['revenue'], orders[orders['group']=='B']['revenue'])[1]\n",
    "\n",
    "# считаем относительную разницу\n",
    "print('Относительные различия в среднем чеке между группами:', '{0:.3f}'.\n",
    "      format(orders[orders['group']=='B']['revenue'].mean()/orders[orders['group']=='A']['revenue'].mean()-1))\n",
    "\n",
    "print('p-value:', '{0:.3f}'.format(p_value))\n",
    "\n",
    "# проводим проверку статистической значимости\n",
    "if p_value < alpha:\n",
    "    print('Отвергаем нулевую гипотезу: средним чеком есть значимая разница')\n",
    "else:\n",
    "    print('Не получилось отвергнуть нулевую гипотезу, нет оснований считать средние чеки разными') "
   ]
  },
  {
   "cell_type": "markdown",
   "metadata": {},
   "source": [
    "Полученный p-value больше заданного уровня значимости, а значит, причин отвергать нулевую гипотезу и считать, что в среднем чеке есть различия, нет. Средний чек в группе **B** выше, чем в группе **A** на 26%."
   ]
  },
  {
   "cell_type": "markdown",
   "metadata": {},
   "source": [
    "## Статистическая значимость различий в конверсии между группами по «очищенным» данным"
   ]
  },
  {
   "cell_type": "markdown",
   "metadata": {},
   "source": [
    "Оценим статистическую значимость различий в конверсии предварительно исключив из анализа аномальных пользователей.\n",
    "\n",
    "Убедимся, что в наборе данных нет пользователей, которые участвовали в двух группах одновременно:"
   ]
  },
  {
   "cell_type": "code",
   "execution_count": 26,
   "metadata": {},
   "outputs": [
    {
     "name": "stdout",
     "output_type": "stream",
     "text": [
      "58\n"
     ]
    }
   ],
   "source": [
    "users_a = orders[orders['group'] == 'A']['visitor_id'].unique()\n",
    "users_b = orders[orders['group'] == 'B']['visitor_id'].unique()\n",
    "\n",
    "users_intersection = pd.Series(list(set(users_a).intersection(users_b)))\n",
    "\n",
    "print(len(users_intersection))"
   ]
  },
  {
   "cell_type": "markdown",
   "metadata": {},
   "source": [
    "Обнаружено 58 пользователей, которые попали в контрольную и тестовую группу одновременно, что является ошибкой. Для целей оценки статистической значимости различий в конверсии между группами по «очищенным» данным исключим данных пользователей из анализа.\n",
    "\n",
    "Примем за аномальных пользователей тех, кто совершил от 3 заказов или совершил заказ дороже 28 000 рублей. Так мы уберём 5% пользователей с наибольшим числом заказов и наиболее дорогими заказами. Сделаем срезы пользователей с числом заказов больше 2 — `users_with_many_orders` и пользователей, совершивших заказы дороже 28 000 — `users_with_expensive_orders`. Объединим их в таблице `abnormal_users`.\n",
    "Узнаем, сколько всего аномальных пользователей методом shape():"
   ]
  },
  {
   "cell_type": "code",
   "execution_count": 27,
   "metadata": {},
   "outputs": [
    {
     "name": "stdout",
     "output_type": "stream",
     "text": [
      "113\n"
     ]
    }
   ],
   "source": [
    "# создаем список с количеством заказов для каждого из пользователей\n",
    "orders_by_users_a = orders[orders['group'] == 'A'].groupby('visitor_id', as_index=False).agg({'transaction_id':'nunique'})\n",
    "orders_by_users_a.columns = ['visitor_id', 'orders']\n",
    "\n",
    "orders_by_users_b = orders[orders['group'] == 'B'].groupby('visitor_id', as_index=False).agg({'transaction_id':'nunique'})\n",
    "orders_by_users_b.columns = ['visitor_id', 'orders']\n",
    "\n",
    "# создаем список пользователей с числом заказов больше 2\n",
    "users_with_many_orders = pd.concat([orders_by_users_a[orders_by_users_a['orders'] > 2]['visitor_id'], \n",
    "                                 orders_by_users_b[orders_by_users_b['orders'] > 2]['visitor_id']], axis=0)\n",
    "\n",
    "# создаем список пользователей, совершивших заказы дороже 28 000\n",
    "users_with_expensive_orders = orders[orders['revenue'] > 28000]['visitor_id']\n",
    "\n",
    "# объединим списки\n",
    "abnormal_users = pd.concat([users_with_many_orders, users_with_expensive_orders, users_intersection], \n",
    "                           axis=0).drop_duplicates().sort_values()\n",
    "\n",
    "print(abnormal_users.shape[0])"
   ]
  },
  {
   "cell_type": "markdown",
   "metadata": {},
   "source": [
    "Всего обнаружено 113 аномальных пользователей.\n",
    "Узнаем, как их действия повлияли на результаты тестов. Посчитаем статистическую значимость различий в конверсии между группами по «очищенным» данным:"
   ]
  },
  {
   "cell_type": "code",
   "execution_count": 28,
   "metadata": {},
   "outputs": [
    {
     "name": "stdout",
     "output_type": "stream",
     "text": [
      "Относительные различия в конверсии между группами: 0.188\n",
      "p-value: 0.007\n",
      "Отвергаем нулевую гипотезу: между конверсиями есть значимая разница\n"
     ]
    }
   ],
   "source": [
    "# количество визитов, совершенных аномальными пользователями\n",
    "abnormal_users_a_visits = (\n",
    "    orders[(orders['visitor_id'].isin(abnormal_users)) & (orders['group'] == 'A')]['visitor_id'].count()\n",
    ")\n",
    "\n",
    "abnormal_users_b_visits = (\n",
    "    orders[(orders['visitor_id'].isin(abnormal_users)) & (orders['group'] == 'B')]['visitor_id'].count()\n",
    ")\n",
    "\n",
    "# заказы в группе A\n",
    "orders_a_filtered = orders[(orders['group'] == 'A') & ~(orders['visitor_id'].isin(abnormal_users))]['transaction_id'].nunique()\n",
    "\n",
    "# заказы в группе B\n",
    "orders_b_filtered = orders[(orders['group'] == 'B') & ~(orders['visitor_id'].isin(abnormal_users))]['transaction_id'].nunique()\n",
    "\n",
    "# посетители в группе A\n",
    "visitors_a_filtered = visitors_a - abnormal_users_a_visits\n",
    "\n",
    "# посетители в группе B\n",
    "visitors_b_filtered = visitors_b - abnormal_users_b_visits\n",
    "\n",
    "# конверсия в группе A\n",
    "conversion_a_filtered = orders_a_filtered / visitors_a_filtered\n",
    "\n",
    "# конверсия в группе B\n",
    "conversion_b_filtered = orders_b_filtered / visitors_b_filtered\n",
    "\n",
    "# конверсия в комбинированной группе\n",
    "conversion_combined_filtered = (orders_a_filtered + orders_b_filtered) / (visitors_a_filtered + visitors_b_filtered)\n",
    "\n",
    "# разница конверсий в группах\n",
    "difference = conversion_a_filtered - conversion_b_filtered\n",
    "\n",
    "# считаем статистику в ст.отклонениях стандартного нормального распределения\n",
    "z_value = difference / mth.sqrt(conversion_combined_filtered * (1 - conversion_combined_filtered) * \n",
    "                                (1 / visitors_a_filtered + 1 / visitors_b_filtered))\n",
    "\n",
    "# задаем стандартное нормальное распределение (среднее 0, ст.отклонение 1)\n",
    "distr = st.norm(0, 1)  \n",
    "\n",
    "# считаем относительную разницу\n",
    "print('Относительные различия в конверсии между группами:', '{0:.3f}'.format(conversion_b_filtered / conversion_a_filtered - 1))\n",
    "\n",
    "# считаем p-value\n",
    "p_value = (1 - distr.cdf(abs(z_value))) * 2\n",
    "\n",
    "print('p-value:', '{0:.3f}'.format(p_value))\n",
    "\n",
    "# проводим проверку статистической значимости\n",
    "if p_value < alpha:\n",
    "    print('Отвергаем нулевую гипотезу: между конверсиями есть значимая разница')\n",
    "else:\n",
    "    print('Не получилось отвергнуть нулевую гипотезу, нет оснований считать конверсии разными') "
   ]
  },
  {
   "cell_type": "markdown",
   "metadata": {},
   "source": [
    "Значение p-value снизилось, общие выводы по результатам теста не изменились — между конверсиями в группах есть статистически значимая разница, конверсия в группе **B** выше на 19%."
   ]
  },
  {
   "cell_type": "markdown",
   "metadata": {},
   "source": [
    "## Статистическая значимость различий в среднем чеке заказа между группами по «очищенным» данным"
   ]
  },
  {
   "cell_type": "code",
   "execution_count": 29,
   "metadata": {},
   "outputs": [
    {
     "name": "stdout",
     "output_type": "stream",
     "text": [
      "Относительные различия в среднем чеке между группами: -0.022\n",
      "p-value: 0.762\n",
      "Не получилось отвергнуть нулевую гипотезу, нет оснований считать средние чеки разными\n"
     ]
    }
   ],
   "source": [
    "# считаем относительную разницу\n",
    "print(\n",
    "    'Относительные различия в среднем чеке между группами:', '{0:.3f}'.format(\n",
    "    orders[np.logical_and(orders['group'] == 'B', \n",
    "    np.logical_not(orders['visitor_id'].isin(abnormal_users)))]['revenue'].mean()/ \n",
    "    orders[np.logical_and(orders['group'] == 'A', np.logical_not(orders['visitor_id'].isin(abnormal_users)))]['revenue'].mean() \n",
    "    - 1)\n",
    ")\n",
    "\n",
    "# считаем p-value\n",
    "p_value = (\n",
    "    st.mannwhitneyu(orders[np.logical_and(orders['group'] == 'A', \n",
    "                    np.logical_not(orders['visitor_id'].isin(abnormal_users)))]['revenue'], \n",
    "                    orders[np.logical_and(orders['group'] == 'B',\n",
    "                    np.logical_not(orders['visitor_id'].isin(abnormal_users)))]['revenue'])[1]\n",
    ")\n",
    "\n",
    "print('p-value:', '{0:.3f}'.format(p_value))\n",
    "\n",
    "# проводим проверку статистической значимости\n",
    "if p_value < alpha:\n",
    "    print('Отвергаем нулевую гипотезу: средним чеком есть значимая разница')\n",
    "else:\n",
    "    print('Не получилось отвергнуть нулевую гипотезу, нет оснований считать средние чеки разными')"
   ]
  },
  {
   "cell_type": "markdown",
   "metadata": {},
   "source": [
    "Значение p-value увеличилось, выводы по результатам теста не изменились, нет оснований считать средние чеки разными. Средний чек в группе **B** по «очищенным» данным ниже, чем в группе **A** на 2%."
   ]
  },
  {
   "cell_type": "markdown",
   "metadata": {},
   "source": [
    "## Общий вывод"
   ]
  },
  {
   "cell_type": "markdown",
   "metadata": {},
   "source": [
    "В рамках данного исследования мы проанализировали результаты проведенного A/B теста и было установлено, что: \n",
    "\n",
    "- Большинство покупателей заказывали только один раз. Не более 5% пользователей оформляли больше чем 2 заказа, 1% пользователей заказывали более 4-х раз.\n",
    "- Основная часть заказов приходится на диапазон до 20 000 руб. Не более 5% пользователей оформляли заказ на сумму свыше 28 000 руб., 1% пользователей оформляли заказ на сумму свыше 58 000 руб.\n",
    "\n",
    "- На третьей неделе теста произошел резкий рост выручки в группе **B**, который был связан с появлением нескольких дорогих заказов. \n",
    "- В начале теста конверсия в группе **B** была ниже, чем в группе **A**, но затем она выросла и стабилизировалась на более высоком уровне.\n",
    "- Проверка гипотезы показала, что различие в конверсии между группами статистически значимо, конверсия в группе **B** выше на 14%. \n",
    "- Оценка статистической значимости по «очищенным» от выбросов данным показала аналогичный результат — между конверсиями в группах есть статистически значимая разница, конверсия в группе **B** выше на 19%.\n",
    "- Средний чек в группе **B** выше, чем в группе **A** на 26%. Для проверки гипотезы о равенстве средних двух генеральных совокупностей был применен непараметрический U-критерий Манна - Уитни, различие в среднем чеке заказа между группами не было обнаружено.\n",
    "- Оценка по «очищенным» данным показала аналогичный результат — различия в среднем чеке заказа между группами нет, средний чек в группе **B** ниже, чем в группе **A** на 2%.\n",
    "\n",
    " На основании проведенного анализа рекомендуется остановить тест, зафиксировать победу группы **B** и масштабировать изменения на всех пользователей, параллельно отслеживая целевую метрику."
   ]
  }
 ],
 "metadata": {
  "ExecuteTimeLog": [
   {
    "duration": 1327,
    "start_time": "2022-06-16T20:44:00.128Z"
   },
   {
    "duration": 72,
    "start_time": "2022-06-16T20:49:32.280Z"
   },
   {
    "duration": 88,
    "start_time": "2022-06-16T20:57:19.641Z"
   },
   {
    "duration": 5,
    "start_time": "2022-06-16T20:57:21.916Z"
   },
   {
    "duration": 9,
    "start_time": "2022-06-16T20:58:14.614Z"
   },
   {
    "duration": 3,
    "start_time": "2022-06-16T20:58:28.992Z"
   },
   {
    "duration": 3,
    "start_time": "2022-06-16T20:58:34.511Z"
   },
   {
    "duration": 3,
    "start_time": "2022-06-16T20:59:29.356Z"
   },
   {
    "duration": 4,
    "start_time": "2022-06-16T20:59:29.853Z"
   },
   {
    "duration": 13,
    "start_time": "2022-06-16T20:59:43.275Z"
   },
   {
    "duration": 9,
    "start_time": "2022-06-16T20:59:58.887Z"
   },
   {
    "duration": 8,
    "start_time": "2022-06-16T21:00:25.299Z"
   },
   {
    "duration": 3,
    "start_time": "2022-06-16T21:01:49.417Z"
   },
   {
    "duration": 7,
    "start_time": "2022-06-16T21:01:56.259Z"
   },
   {
    "duration": 27,
    "start_time": "2022-06-16T21:08:09.025Z"
   },
   {
    "duration": 8,
    "start_time": "2022-06-16T21:08:18.222Z"
   },
   {
    "duration": 13,
    "start_time": "2022-06-16T21:08:27.282Z"
   },
   {
    "duration": 10,
    "start_time": "2022-06-16T21:11:12.423Z"
   },
   {
    "duration": 4,
    "start_time": "2022-06-16T21:12:10.922Z"
   },
   {
    "duration": 40,
    "start_time": "2022-06-16T21:12:10.928Z"
   },
   {
    "duration": 3,
    "start_time": "2022-06-16T21:12:10.970Z"
   },
   {
    "duration": 12,
    "start_time": "2022-06-16T21:12:10.974Z"
   },
   {
    "duration": 11,
    "start_time": "2022-06-16T21:12:10.988Z"
   },
   {
    "duration": 3,
    "start_time": "2022-06-16T21:24:54.504Z"
   },
   {
    "duration": 37,
    "start_time": "2022-06-16T21:24:54.510Z"
   },
   {
    "duration": 3,
    "start_time": "2022-06-16T21:24:54.549Z"
   },
   {
    "duration": 18,
    "start_time": "2022-06-16T21:24:54.553Z"
   },
   {
    "duration": 12,
    "start_time": "2022-06-16T21:24:54.573Z"
   },
   {
    "duration": 3,
    "start_time": "2022-06-16T21:25:08.640Z"
   },
   {
    "duration": 39,
    "start_time": "2022-06-16T21:25:08.644Z"
   },
   {
    "duration": 3,
    "start_time": "2022-06-16T21:25:08.684Z"
   },
   {
    "duration": 17,
    "start_time": "2022-06-16T21:25:08.689Z"
   },
   {
    "duration": 17,
    "start_time": "2022-06-16T21:25:08.708Z"
   },
   {
    "duration": 152,
    "start_time": "2022-06-16T21:26:19.299Z"
   },
   {
    "duration": 3,
    "start_time": "2022-06-16T21:29:12.289Z"
   },
   {
    "duration": 10,
    "start_time": "2022-06-16T21:29:15.754Z"
   },
   {
    "duration": 3,
    "start_time": "2022-06-16T21:29:39.755Z"
   },
   {
    "duration": 11,
    "start_time": "2022-06-16T21:29:40.396Z"
   },
   {
    "duration": 4,
    "start_time": "2022-06-16T21:29:55.830Z"
   },
   {
    "duration": 11,
    "start_time": "2022-06-16T21:29:56.232Z"
   },
   {
    "duration": 1694,
    "start_time": "2022-06-18T19:49:00.488Z"
   },
   {
    "duration": 68,
    "start_time": "2022-06-18T19:49:02.184Z"
   },
   {
    "duration": 3,
    "start_time": "2022-06-18T19:49:02.254Z"
   },
   {
    "duration": 15,
    "start_time": "2022-06-18T19:49:02.258Z"
   },
   {
    "duration": 13,
    "start_time": "2022-06-18T19:49:02.275Z"
   },
   {
    "duration": 157,
    "start_time": "2022-06-18T19:49:02.290Z"
   },
   {
    "duration": 3,
    "start_time": "2022-06-18T19:49:02.449Z"
   },
   {
    "duration": 18,
    "start_time": "2022-06-18T19:50:24.497Z"
   },
   {
    "duration": 16,
    "start_time": "2022-06-18T19:51:43.420Z"
   },
   {
    "duration": 100,
    "start_time": "2022-06-18T19:52:45.793Z"
   },
   {
    "duration": 2,
    "start_time": "2022-06-18T19:52:50.750Z"
   },
   {
    "duration": 35,
    "start_time": "2022-06-18T19:52:50.754Z"
   },
   {
    "duration": 3,
    "start_time": "2022-06-18T19:52:50.791Z"
   },
   {
    "duration": 18,
    "start_time": "2022-06-18T19:52:50.795Z"
   },
   {
    "duration": 12,
    "start_time": "2022-06-18T19:52:50.814Z"
   },
   {
    "duration": 59,
    "start_time": "2022-06-18T19:52:50.827Z"
   },
   {
    "duration": 3,
    "start_time": "2022-06-18T19:52:50.887Z"
   },
   {
    "duration": 20,
    "start_time": "2022-06-18T19:52:50.891Z"
   },
   {
    "duration": 7,
    "start_time": "2022-06-18T19:52:50.913Z"
   },
   {
    "duration": 6,
    "start_time": "2022-06-18T19:54:56.742Z"
   },
   {
    "duration": 7,
    "start_time": "2022-06-18T19:54:57.868Z"
   },
   {
    "duration": 15,
    "start_time": "2022-06-18T19:55:05.316Z"
   },
   {
    "duration": 3,
    "start_time": "2022-06-18T19:55:12.975Z"
   },
   {
    "duration": 34,
    "start_time": "2022-06-18T19:55:12.980Z"
   },
   {
    "duration": 2,
    "start_time": "2022-06-18T19:55:13.016Z"
   },
   {
    "duration": 10,
    "start_time": "2022-06-18T19:55:13.021Z"
   },
   {
    "duration": 15,
    "start_time": "2022-06-18T19:55:13.033Z"
   },
   {
    "duration": 60,
    "start_time": "2022-06-18T19:55:13.050Z"
   },
   {
    "duration": 3,
    "start_time": "2022-06-18T19:55:13.112Z"
   },
   {
    "duration": 17,
    "start_time": "2022-06-18T19:55:13.116Z"
   },
   {
    "duration": 5,
    "start_time": "2022-06-18T19:55:13.135Z"
   },
   {
    "duration": 10,
    "start_time": "2022-06-18T19:55:13.141Z"
   },
   {
    "duration": 6,
    "start_time": "2022-06-18T20:04:11.391Z"
   },
   {
    "duration": 8,
    "start_time": "2022-06-18T20:05:51.563Z"
   },
   {
    "duration": 30,
    "start_time": "2022-06-18T20:07:47.892Z"
   },
   {
    "duration": 264,
    "start_time": "2022-06-18T20:09:07.673Z"
   },
   {
    "duration": 264,
    "start_time": "2022-06-18T20:13:11.888Z"
   },
   {
    "duration": 34,
    "start_time": "2022-06-18T20:15:20.674Z"
   },
   {
    "duration": 268,
    "start_time": "2022-06-18T20:15:43.773Z"
   },
   {
    "duration": 283,
    "start_time": "2022-06-18T20:16:35.717Z"
   },
   {
    "duration": 273,
    "start_time": "2022-06-18T20:17:33.310Z"
   },
   {
    "duration": 271,
    "start_time": "2022-06-18T20:17:49.875Z"
   },
   {
    "duration": 11,
    "start_time": "2022-06-18T20:18:06.034Z"
   },
   {
    "duration": 16,
    "start_time": "2022-06-18T20:18:08.950Z"
   },
   {
    "duration": 249,
    "start_time": "2022-06-18T20:19:05.092Z"
   },
   {
    "duration": 263,
    "start_time": "2022-06-18T20:19:08.536Z"
   },
   {
    "duration": 251,
    "start_time": "2022-06-18T20:19:14.721Z"
   },
   {
    "duration": 3,
    "start_time": "2022-06-18T20:19:18.464Z"
   },
   {
    "duration": 35,
    "start_time": "2022-06-18T20:19:18.469Z"
   },
   {
    "duration": 4,
    "start_time": "2022-06-18T20:19:18.505Z"
   },
   {
    "duration": 12,
    "start_time": "2022-06-18T20:19:18.511Z"
   },
   {
    "duration": 15,
    "start_time": "2022-06-18T20:19:18.524Z"
   },
   {
    "duration": 68,
    "start_time": "2022-06-18T20:19:18.541Z"
   },
   {
    "duration": 5,
    "start_time": "2022-06-18T20:19:18.611Z"
   },
   {
    "duration": 32,
    "start_time": "2022-06-18T20:19:18.617Z"
   },
   {
    "duration": 12,
    "start_time": "2022-06-18T20:19:18.651Z"
   },
   {
    "duration": 12,
    "start_time": "2022-06-18T20:19:18.665Z"
   },
   {
    "duration": 348,
    "start_time": "2022-06-18T20:19:18.678Z"
   },
   {
    "duration": 17,
    "start_time": "2022-06-18T20:20:25.543Z"
   },
   {
    "duration": 13,
    "start_time": "2022-06-18T20:21:04.489Z"
   },
   {
    "duration": 10,
    "start_time": "2022-06-18T20:21:11.933Z"
   },
   {
    "duration": 270,
    "start_time": "2022-06-18T20:21:21.617Z"
   },
   {
    "duration": 16,
    "start_time": "2022-06-18T20:30:44.871Z"
   },
   {
    "duration": 254,
    "start_time": "2022-06-18T20:31:55.624Z"
   },
   {
    "duration": 267,
    "start_time": "2022-06-18T20:32:39.282Z"
   },
   {
    "duration": 13,
    "start_time": "2022-06-18T20:32:53.580Z"
   },
   {
    "duration": 196,
    "start_time": "2022-06-18T20:32:58.147Z"
   },
   {
    "duration": 212,
    "start_time": "2022-06-18T20:33:04.600Z"
   },
   {
    "duration": 281,
    "start_time": "2022-06-18T20:34:37.262Z"
   },
   {
    "duration": 287,
    "start_time": "2022-06-18T20:35:15.346Z"
   },
   {
    "duration": 3,
    "start_time": "2022-06-18T20:36:42.978Z"
   },
   {
    "duration": 232,
    "start_time": "2022-06-18T20:36:43.788Z"
   },
   {
    "duration": 3,
    "start_time": "2022-06-18T20:36:53.069Z"
   },
   {
    "duration": 219,
    "start_time": "2022-06-18T20:37:14.719Z"
   },
   {
    "duration": 216,
    "start_time": "2022-06-18T20:37:35.345Z"
   },
   {
    "duration": 263,
    "start_time": "2022-06-18T20:37:48.931Z"
   },
   {
    "duration": 221,
    "start_time": "2022-06-18T20:37:53.412Z"
   },
   {
    "duration": 223,
    "start_time": "2022-06-18T20:37:57.769Z"
   },
   {
    "duration": 211,
    "start_time": "2022-06-18T20:38:40.887Z"
   },
   {
    "duration": 209,
    "start_time": "2022-06-18T20:38:44.680Z"
   },
   {
    "duration": 257,
    "start_time": "2022-06-18T20:45:15.531Z"
   },
   {
    "duration": 237,
    "start_time": "2022-06-18T20:45:25.630Z"
   },
   {
    "duration": 353,
    "start_time": "2022-06-18T20:45:38.944Z"
   },
   {
    "duration": 239,
    "start_time": "2022-06-18T20:45:47.979Z"
   },
   {
    "duration": 212,
    "start_time": "2022-06-18T20:46:07.514Z"
   },
   {
    "duration": 221,
    "start_time": "2022-06-18T20:46:21.916Z"
   },
   {
    "duration": 223,
    "start_time": "2022-06-18T20:47:08.501Z"
   },
   {
    "duration": 244,
    "start_time": "2022-06-18T20:47:22.404Z"
   },
   {
    "duration": 228,
    "start_time": "2022-06-18T20:48:29.726Z"
   },
   {
    "duration": 174,
    "start_time": "2022-06-18T20:50:41.268Z"
   },
   {
    "duration": 208,
    "start_time": "2022-06-18T20:51:25.878Z"
   },
   {
    "duration": 220,
    "start_time": "2022-06-18T20:51:42.044Z"
   },
   {
    "duration": 192,
    "start_time": "2022-06-18T20:51:51.442Z"
   },
   {
    "duration": 422,
    "start_time": "2022-06-18T20:54:41.559Z"
   },
   {
    "duration": 312,
    "start_time": "2022-06-18T20:56:08.826Z"
   },
   {
    "duration": 310,
    "start_time": "2022-06-18T20:56:14.497Z"
   },
   {
    "duration": 253,
    "start_time": "2022-06-18T20:58:33.317Z"
   },
   {
    "duration": 4,
    "start_time": "2022-06-18T20:58:58.713Z"
   },
   {
    "duration": 48,
    "start_time": "2022-06-18T20:58:58.720Z"
   },
   {
    "duration": 3,
    "start_time": "2022-06-18T20:58:58.771Z"
   },
   {
    "duration": 29,
    "start_time": "2022-06-18T20:58:58.776Z"
   },
   {
    "duration": 22,
    "start_time": "2022-06-18T20:58:58.808Z"
   },
   {
    "duration": 85,
    "start_time": "2022-06-18T20:58:58.832Z"
   },
   {
    "duration": 7,
    "start_time": "2022-06-18T20:58:58.923Z"
   },
   {
    "duration": 47,
    "start_time": "2022-06-18T20:58:58.932Z"
   },
   {
    "duration": 25,
    "start_time": "2022-06-18T20:58:58.981Z"
   },
   {
    "duration": 30,
    "start_time": "2022-06-18T20:58:59.008Z"
   },
   {
    "duration": 318,
    "start_time": "2022-06-18T20:58:59.040Z"
   },
   {
    "duration": 246,
    "start_time": "2022-06-18T20:58:59.360Z"
   },
   {
    "duration": 211,
    "start_time": "2022-06-18T20:58:59.610Z"
   },
   {
    "duration": 425,
    "start_time": "2022-06-18T20:58:59.823Z"
   },
   {
    "duration": 324,
    "start_time": "2022-06-18T20:59:11.244Z"
   },
   {
    "duration": 276,
    "start_time": "2022-06-18T20:59:22.578Z"
   },
   {
    "duration": 305,
    "start_time": "2022-06-18T20:59:38.353Z"
   },
   {
    "duration": 325,
    "start_time": "2022-06-18T21:00:43.403Z"
   },
   {
    "duration": 305,
    "start_time": "2022-06-18T21:00:49.644Z"
   },
   {
    "duration": 456,
    "start_time": "2022-06-18T21:00:57.741Z"
   },
   {
    "duration": 334,
    "start_time": "2022-06-18T21:01:45.144Z"
   },
   {
    "duration": 322,
    "start_time": "2022-06-18T21:02:26.508Z"
   },
   {
    "duration": 239,
    "start_time": "2022-06-18T21:06:37.193Z"
   },
   {
    "duration": 225,
    "start_time": "2022-06-18T21:07:27.977Z"
   },
   {
    "duration": 222,
    "start_time": "2022-06-18T21:08:10.200Z"
   },
   {
    "duration": 225,
    "start_time": "2022-06-18T21:08:26.203Z"
   },
   {
    "duration": 221,
    "start_time": "2022-06-18T21:08:33.124Z"
   },
   {
    "duration": 198,
    "start_time": "2022-06-18T21:13:25.559Z"
   },
   {
    "duration": 191,
    "start_time": "2022-06-18T21:14:46.570Z"
   },
   {
    "duration": 222,
    "start_time": "2022-06-18T21:14:51.898Z"
   },
   {
    "duration": 406,
    "start_time": "2022-06-18T21:15:20.145Z"
   },
   {
    "duration": 293,
    "start_time": "2022-06-18T21:16:12.489Z"
   },
   {
    "duration": 332,
    "start_time": "2022-06-18T21:17:18.253Z"
   },
   {
    "duration": 277,
    "start_time": "2022-06-18T21:17:37.492Z"
   },
   {
    "duration": 228,
    "start_time": "2022-06-18T21:17:52.078Z"
   },
   {
    "duration": 265,
    "start_time": "2022-06-18T21:17:59.341Z"
   },
   {
    "duration": 260,
    "start_time": "2022-06-18T21:18:08.547Z"
   },
   {
    "duration": 255,
    "start_time": "2022-06-18T21:18:14.269Z"
   },
   {
    "duration": 308,
    "start_time": "2022-06-18T21:18:46.480Z"
   },
   {
    "duration": 199,
    "start_time": "2022-06-18T21:18:56.038Z"
   },
   {
    "duration": 341,
    "start_time": "2022-06-18T21:20:57.112Z"
   },
   {
    "duration": 4,
    "start_time": "2022-06-18T21:22:42.601Z"
   },
   {
    "duration": 40,
    "start_time": "2022-06-18T21:22:42.607Z"
   },
   {
    "duration": 2,
    "start_time": "2022-06-18T21:22:42.649Z"
   },
   {
    "duration": 17,
    "start_time": "2022-06-18T21:22:42.653Z"
   },
   {
    "duration": 22,
    "start_time": "2022-06-18T21:22:42.672Z"
   },
   {
    "duration": 60,
    "start_time": "2022-06-18T21:22:42.696Z"
   },
   {
    "duration": 4,
    "start_time": "2022-06-18T21:22:42.757Z"
   },
   {
    "duration": 24,
    "start_time": "2022-06-18T21:22:42.762Z"
   },
   {
    "duration": 5,
    "start_time": "2022-06-18T21:22:42.787Z"
   },
   {
    "duration": 9,
    "start_time": "2022-06-18T21:22:42.794Z"
   },
   {
    "duration": 289,
    "start_time": "2022-06-18T21:22:42.805Z"
   },
   {
    "duration": 237,
    "start_time": "2022-06-18T21:22:43.095Z"
   },
   {
    "duration": 300,
    "start_time": "2022-06-18T21:22:43.334Z"
   },
   {
    "duration": 350,
    "start_time": "2022-06-18T21:22:43.636Z"
   },
   {
    "duration": 248,
    "start_time": "2022-06-18T21:22:43.987Z"
   },
   {
    "duration": 338,
    "start_time": "2022-06-18T21:22:44.237Z"
   },
   {
    "duration": 232,
    "start_time": "2022-06-18T21:25:02.641Z"
   },
   {
    "duration": 3,
    "start_time": "2022-06-18T21:29:47.811Z"
   },
   {
    "duration": 33,
    "start_time": "2022-06-18T21:29:47.816Z"
   },
   {
    "duration": 2,
    "start_time": "2022-06-18T21:29:47.851Z"
   },
   {
    "duration": 22,
    "start_time": "2022-06-18T21:29:47.855Z"
   },
   {
    "duration": 13,
    "start_time": "2022-06-18T21:29:47.879Z"
   },
   {
    "duration": 57,
    "start_time": "2022-06-18T21:29:47.893Z"
   },
   {
    "duration": 3,
    "start_time": "2022-06-18T21:29:47.952Z"
   },
   {
    "duration": 35,
    "start_time": "2022-06-18T21:29:47.957Z"
   },
   {
    "duration": 9,
    "start_time": "2022-06-18T21:29:47.993Z"
   },
   {
    "duration": 10,
    "start_time": "2022-06-18T21:29:48.004Z"
   },
   {
    "duration": 279,
    "start_time": "2022-06-18T21:29:48.016Z"
   },
   {
    "duration": 219,
    "start_time": "2022-06-18T21:29:48.296Z"
   },
   {
    "duration": 202,
    "start_time": "2022-06-18T21:29:48.518Z"
   },
   {
    "duration": 371,
    "start_time": "2022-06-18T21:29:48.722Z"
   },
   {
    "duration": 247,
    "start_time": "2022-06-18T21:29:49.095Z"
   },
   {
    "duration": 309,
    "start_time": "2022-06-18T21:29:49.344Z"
   },
   {
    "duration": 312,
    "start_time": "2022-06-18T21:30:28.356Z"
   },
   {
    "duration": 340,
    "start_time": "2022-06-18T21:30:54.457Z"
   },
   {
    "duration": 408,
    "start_time": "2022-06-18T21:30:59.588Z"
   },
   {
    "duration": 357,
    "start_time": "2022-06-18T21:31:04.335Z"
   },
   {
    "duration": 345,
    "start_time": "2022-06-18T21:31:19.945Z"
   },
   {
    "duration": 328,
    "start_time": "2022-06-18T21:32:06.018Z"
   },
   {
    "duration": 328,
    "start_time": "2022-06-18T21:32:28.347Z"
   },
   {
    "duration": 326,
    "start_time": "2022-06-18T21:32:34.450Z"
   },
   {
    "duration": 309,
    "start_time": "2022-06-18T21:32:40.803Z"
   },
   {
    "duration": 241,
    "start_time": "2022-06-18T21:33:14.220Z"
   },
   {
    "duration": 229,
    "start_time": "2022-06-18T21:33:54.843Z"
   },
   {
    "duration": 240,
    "start_time": "2022-06-18T21:34:02.967Z"
   },
   {
    "duration": 234,
    "start_time": "2022-06-18T21:34:26.075Z"
   },
   {
    "duration": 300,
    "start_time": "2022-06-18T21:34:49.205Z"
   },
   {
    "duration": 386,
    "start_time": "2022-06-18T21:34:58.161Z"
   },
   {
    "duration": 304,
    "start_time": "2022-06-18T21:35:06.108Z"
   },
   {
    "duration": 305,
    "start_time": "2022-06-18T21:35:24.640Z"
   },
   {
    "duration": 9,
    "start_time": "2022-06-18T21:37:30.214Z"
   },
   {
    "duration": 128,
    "start_time": "2022-06-18T21:37:33.779Z"
   },
   {
    "duration": 115,
    "start_time": "2022-06-18T21:37:39.280Z"
   },
   {
    "duration": 130,
    "start_time": "2022-06-18T21:37:43.654Z"
   },
   {
    "duration": 139,
    "start_time": "2022-06-18T21:37:59.849Z"
   },
   {
    "duration": 132,
    "start_time": "2022-06-18T21:38:11.771Z"
   },
   {
    "duration": 133,
    "start_time": "2022-06-18T21:38:29.196Z"
   },
   {
    "duration": 277,
    "start_time": "2022-06-18T21:41:13.317Z"
   },
   {
    "duration": 162,
    "start_time": "2022-06-18T21:41:38.139Z"
   },
   {
    "duration": 11,
    "start_time": "2022-06-18T21:46:24.896Z"
   },
   {
    "duration": 95,
    "start_time": "2022-06-18T21:46:54.024Z"
   },
   {
    "duration": 95,
    "start_time": "2022-06-18T21:47:06.796Z"
   },
   {
    "duration": 131,
    "start_time": "2022-06-18T21:47:18.792Z"
   },
   {
    "duration": 113,
    "start_time": "2022-06-18T21:47:29.513Z"
   },
   {
    "duration": 253,
    "start_time": "2022-06-18T21:48:08.990Z"
   },
   {
    "duration": 12,
    "start_time": "2022-06-18T21:48:17.476Z"
   },
   {
    "duration": 135,
    "start_time": "2022-06-18T21:48:21.084Z"
   },
   {
    "duration": 122,
    "start_time": "2022-06-18T21:48:32.454Z"
   },
   {
    "duration": 125,
    "start_time": "2022-06-18T21:49:12.021Z"
   },
   {
    "duration": 134,
    "start_time": "2022-06-18T21:50:34.736Z"
   },
   {
    "duration": 129,
    "start_time": "2022-06-18T21:51:55.305Z"
   },
   {
    "duration": 6,
    "start_time": "2022-06-18T21:53:04.835Z"
   },
   {
    "duration": 5,
    "start_time": "2022-06-18T21:53:12.426Z"
   },
   {
    "duration": 6,
    "start_time": "2022-06-18T21:53:15.651Z"
   },
   {
    "duration": 4,
    "start_time": "2022-06-18T21:53:26.344Z"
   },
   {
    "duration": 4,
    "start_time": "2022-06-18T21:59:18.890Z"
   },
   {
    "duration": 4,
    "start_time": "2022-06-18T21:59:24.908Z"
   },
   {
    "duration": 5,
    "start_time": "2022-06-18T21:59:30.581Z"
   },
   {
    "duration": 5,
    "start_time": "2022-06-18T21:59:46.602Z"
   },
   {
    "duration": 1463,
    "start_time": "2022-06-19T11:12:53.836Z"
   },
   {
    "duration": 74,
    "start_time": "2022-06-19T11:12:55.302Z"
   },
   {
    "duration": 4,
    "start_time": "2022-06-19T11:12:55.379Z"
   },
   {
    "duration": 21,
    "start_time": "2022-06-19T11:12:55.385Z"
   },
   {
    "duration": 16,
    "start_time": "2022-06-19T11:12:55.409Z"
   },
   {
    "duration": 197,
    "start_time": "2022-06-19T11:12:55.428Z"
   },
   {
    "duration": 3,
    "start_time": "2022-06-19T11:12:55.627Z"
   },
   {
    "duration": 42,
    "start_time": "2022-06-19T11:12:55.631Z"
   },
   {
    "duration": 8,
    "start_time": "2022-06-19T11:12:55.675Z"
   },
   {
    "duration": 11,
    "start_time": "2022-06-19T11:12:55.685Z"
   },
   {
    "duration": 311,
    "start_time": "2022-06-19T11:12:55.697Z"
   },
   {
    "duration": 361,
    "start_time": "2022-06-19T11:12:56.010Z"
   },
   {
    "duration": 208,
    "start_time": "2022-06-19T11:12:56.372Z"
   },
   {
    "duration": 403,
    "start_time": "2022-06-19T11:12:56.583Z"
   },
   {
    "duration": 259,
    "start_time": "2022-06-19T11:12:56.988Z"
   },
   {
    "duration": 323,
    "start_time": "2022-06-19T11:12:57.253Z"
   },
   {
    "duration": 11,
    "start_time": "2022-06-19T11:12:57.577Z"
   },
   {
    "duration": 138,
    "start_time": "2022-06-19T11:12:57.589Z"
   },
   {
    "duration": 147,
    "start_time": "2022-06-19T11:12:57.728Z"
   },
   {
    "duration": 4,
    "start_time": "2022-06-19T11:12:57.876Z"
   },
   {
    "duration": 6,
    "start_time": "2022-06-19T11:12:57.882Z"
   },
   {
    "duration": 17,
    "start_time": "2022-06-19T11:13:28.115Z"
   },
   {
    "duration": 15,
    "start_time": "2022-06-19T11:22:17.082Z"
   },
   {
    "duration": 11,
    "start_time": "2022-06-19T11:22:30.488Z"
   },
   {
    "duration": 4,
    "start_time": "2022-06-19T11:36:21.404Z"
   },
   {
    "duration": 10,
    "start_time": "2022-06-19T11:36:24.262Z"
   },
   {
    "duration": 9,
    "start_time": "2022-06-19T11:36:41.444Z"
   },
   {
    "duration": 4,
    "start_time": "2022-06-19T11:46:31.352Z"
   },
   {
    "duration": 8,
    "start_time": "2022-06-19T11:46:38.539Z"
   },
   {
    "duration": 5,
    "start_time": "2022-06-19T11:48:07.423Z"
   },
   {
    "duration": 7,
    "start_time": "2022-06-19T11:48:07.941Z"
   },
   {
    "duration": 6,
    "start_time": "2022-06-19T11:48:39.840Z"
   },
   {
    "duration": 6,
    "start_time": "2022-06-19T11:48:40.619Z"
   },
   {
    "duration": 5,
    "start_time": "2022-06-19T11:48:49.178Z"
   },
   {
    "duration": 6,
    "start_time": "2022-06-19T11:48:50.311Z"
   },
   {
    "duration": 5,
    "start_time": "2022-06-19T11:49:19.819Z"
   },
   {
    "duration": 3,
    "start_time": "2022-06-19T11:49:20.680Z"
   },
   {
    "duration": 5,
    "start_time": "2022-06-19T11:49:25.988Z"
   },
   {
    "duration": 7,
    "start_time": "2022-06-19T11:49:26.276Z"
   },
   {
    "duration": 100,
    "start_time": "2022-06-19T11:50:05.313Z"
   },
   {
    "duration": 11,
    "start_time": "2022-06-19T11:50:12.342Z"
   },
   {
    "duration": 87,
    "start_time": "2022-06-19T11:50:52.588Z"
   },
   {
    "duration": 4,
    "start_time": "2022-06-19T11:51:13.452Z"
   },
   {
    "duration": 9,
    "start_time": "2022-06-19T11:51:14.595Z"
   },
   {
    "duration": 9,
    "start_time": "2022-06-19T11:51:23.768Z"
   },
   {
    "duration": 4,
    "start_time": "2022-06-19T11:51:30.062Z"
   },
   {
    "duration": 5,
    "start_time": "2022-06-19T11:51:30.720Z"
   },
   {
    "duration": 5,
    "start_time": "2022-06-19T11:51:39.927Z"
   },
   {
    "duration": 4,
    "start_time": "2022-06-19T11:51:41.069Z"
   },
   {
    "duration": 6,
    "start_time": "2022-06-19T11:51:41.813Z"
   },
   {
    "duration": 8,
    "start_time": "2022-06-19T12:01:19.212Z"
   },
   {
    "duration": 4,
    "start_time": "2022-06-19T12:01:23.128Z"
   },
   {
    "duration": 8,
    "start_time": "2022-06-19T12:01:23.519Z"
   },
   {
    "duration": 7,
    "start_time": "2022-06-19T12:01:25.031Z"
   },
   {
    "duration": 3,
    "start_time": "2022-06-19T12:01:38.148Z"
   },
   {
    "duration": 7,
    "start_time": "2022-06-19T12:01:38.868Z"
   },
   {
    "duration": 6,
    "start_time": "2022-06-19T12:02:01.685Z"
   },
   {
    "duration": 6,
    "start_time": "2022-06-19T12:02:03.421Z"
   },
   {
    "duration": 5,
    "start_time": "2022-06-19T12:02:11.222Z"
   },
   {
    "duration": 6,
    "start_time": "2022-06-19T12:02:11.714Z"
   },
   {
    "duration": 7,
    "start_time": "2022-06-19T12:04:55.776Z"
   },
   {
    "duration": 9,
    "start_time": "2022-06-19T12:04:56.181Z"
   },
   {
    "duration": 13,
    "start_time": "2022-06-19T12:09:25.079Z"
   },
   {
    "duration": 6,
    "start_time": "2022-06-19T12:09:36.312Z"
   },
   {
    "duration": 5,
    "start_time": "2022-06-19T12:09:49.067Z"
   },
   {
    "duration": 5,
    "start_time": "2022-06-19T12:09:53.644Z"
   },
   {
    "duration": 7,
    "start_time": "2022-06-19T12:09:57.847Z"
   },
   {
    "duration": 5,
    "start_time": "2022-06-19T12:11:17.445Z"
   },
   {
    "duration": 8,
    "start_time": "2022-06-19T12:11:19.861Z"
   },
   {
    "duration": 5,
    "start_time": "2022-06-19T12:11:34.008Z"
   },
   {
    "duration": 11,
    "start_time": "2022-06-19T12:11:34.547Z"
   },
   {
    "duration": 15,
    "start_time": "2022-06-19T12:13:37.972Z"
   },
   {
    "duration": 4,
    "start_time": "2022-06-19T12:14:43.896Z"
   },
   {
    "duration": 6,
    "start_time": "2022-06-19T12:18:32.914Z"
   },
   {
    "duration": 16,
    "start_time": "2022-06-19T12:19:32.509Z"
   },
   {
    "duration": 3,
    "start_time": "2022-06-19T12:19:52.931Z"
   },
   {
    "duration": 13,
    "start_time": "2022-06-19T12:20:02.808Z"
   },
   {
    "duration": 17,
    "start_time": "2022-06-19T12:33:33.820Z"
   },
   {
    "duration": 11,
    "start_time": "2022-06-19T12:34:03.053Z"
   },
   {
    "duration": 4,
    "start_time": "2022-06-19T12:34:16.214Z"
   },
   {
    "duration": 4,
    "start_time": "2022-06-19T12:34:29.444Z"
   },
   {
    "duration": 3,
    "start_time": "2022-06-19T12:34:46.746Z"
   },
   {
    "duration": 4,
    "start_time": "2022-06-19T12:34:53.931Z"
   },
   {
    "duration": 4,
    "start_time": "2022-06-19T12:35:26.224Z"
   },
   {
    "duration": 4,
    "start_time": "2022-06-19T12:35:41.049Z"
   },
   {
    "duration": 8,
    "start_time": "2022-06-19T12:35:44.504Z"
   },
   {
    "duration": 9,
    "start_time": "2022-06-19T12:37:43.301Z"
   },
   {
    "duration": 5,
    "start_time": "2022-06-19T12:37:49.770Z"
   },
   {
    "duration": 13,
    "start_time": "2022-06-19T12:44:25.101Z"
   },
   {
    "duration": 6,
    "start_time": "2022-06-19T12:46:35.520Z"
   },
   {
    "duration": 7,
    "start_time": "2022-06-19T12:48:47.249Z"
   },
   {
    "duration": 8,
    "start_time": "2022-06-19T12:50:31.194Z"
   },
   {
    "duration": 6,
    "start_time": "2022-06-19T12:50:42.950Z"
   },
   {
    "duration": 6,
    "start_time": "2022-06-19T12:54:02.390Z"
   },
   {
    "duration": 6,
    "start_time": "2022-06-19T12:54:14.830Z"
   },
   {
    "duration": 10,
    "start_time": "2022-06-19T12:54:19.049Z"
   },
   {
    "duration": 385,
    "start_time": "2022-06-19T13:01:43.508Z"
   },
   {
    "duration": 151,
    "start_time": "2022-06-19T13:01:53.802Z"
   },
   {
    "duration": 163,
    "start_time": "2022-06-19T13:04:54.486Z"
   },
   {
    "duration": 315,
    "start_time": "2022-06-19T13:04:58.869Z"
   },
   {
    "duration": 254,
    "start_time": "2022-06-19T13:05:58.109Z"
   },
   {
    "duration": 9,
    "start_time": "2022-06-19T13:06:08.574Z"
   },
   {
    "duration": 6,
    "start_time": "2022-06-19T13:06:24.108Z"
   },
   {
    "duration": 7,
    "start_time": "2022-06-19T13:07:09.222Z"
   },
   {
    "duration": 4,
    "start_time": "2022-06-19T13:07:11.690Z"
   },
   {
    "duration": 10,
    "start_time": "2022-06-19T13:08:11.402Z"
   },
   {
    "duration": 12,
    "start_time": "2022-06-19T13:08:23.881Z"
   },
   {
    "duration": 10,
    "start_time": "2022-06-19T13:10:35.511Z"
   },
   {
    "duration": 12,
    "start_time": "2022-06-19T13:11:24.570Z"
   },
   {
    "duration": 119,
    "start_time": "2022-06-19T13:11:48.010Z"
   },
   {
    "duration": 135,
    "start_time": "2022-06-19T13:12:07.530Z"
   },
   {
    "duration": 6,
    "start_time": "2022-06-19T13:13:27.606Z"
   },
   {
    "duration": 6,
    "start_time": "2022-06-19T13:13:30.838Z"
   },
   {
    "duration": 218,
    "start_time": "2022-06-19T13:14:04.096Z"
   },
   {
    "duration": 255,
    "start_time": "2022-06-19T13:14:11.153Z"
   },
   {
    "duration": 119,
    "start_time": "2022-06-19T13:16:12.415Z"
   },
   {
    "duration": 116,
    "start_time": "2022-06-19T13:16:18.843Z"
   },
   {
    "duration": 123,
    "start_time": "2022-06-19T13:16:35.838Z"
   },
   {
    "duration": 12,
    "start_time": "2022-06-19T13:19:33.809Z"
   },
   {
    "duration": 4,
    "start_time": "2022-06-19T13:22:30.177Z"
   },
   {
    "duration": 14,
    "start_time": "2022-06-19T13:22:34.274Z"
   },
   {
    "duration": 137,
    "start_time": "2022-06-19T13:22:54.020Z"
   },
   {
    "duration": 594,
    "start_time": "2022-06-19T13:23:05.312Z"
   },
   {
    "duration": 596,
    "start_time": "2022-06-19T13:24:38.830Z"
   },
   {
    "duration": 637,
    "start_time": "2022-06-19T13:24:53.804Z"
   },
   {
    "duration": 680,
    "start_time": "2022-06-19T13:26:04.060Z"
   },
   {
    "duration": 593,
    "start_time": "2022-06-19T13:27:54.547Z"
   },
   {
    "duration": 5,
    "start_time": "2022-06-19T13:35:30.417Z"
   },
   {
    "duration": 435,
    "start_time": "2022-06-19T13:38:30.263Z"
   },
   {
    "duration": 580,
    "start_time": "2022-06-19T13:38:35.955Z"
   },
   {
    "duration": 411,
    "start_time": "2022-06-19T13:38:41.791Z"
   },
   {
    "duration": 579,
    "start_time": "2022-06-19T13:38:46.310Z"
   },
   {
    "duration": 240,
    "start_time": "2022-06-19T13:38:52.058Z"
   },
   {
    "duration": 206,
    "start_time": "2022-06-19T13:41:24.583Z"
   },
   {
    "duration": 111,
    "start_time": "2022-06-19T13:43:16.843Z"
   },
   {
    "duration": 3,
    "start_time": "2022-06-19T13:43:21.691Z"
   },
   {
    "duration": 5,
    "start_time": "2022-06-19T13:43:25.813Z"
   },
   {
    "duration": 4,
    "start_time": "2022-06-19T13:43:27.686Z"
   },
   {
    "duration": 8,
    "start_time": "2022-06-19T13:44:26.282Z"
   },
   {
    "duration": 4,
    "start_time": "2022-06-19T13:44:35.487Z"
   },
   {
    "duration": 4,
    "start_time": "2022-06-19T13:44:50.306Z"
   },
   {
    "duration": 3,
    "start_time": "2022-06-19T13:51:09.362Z"
   },
   {
    "duration": 3,
    "start_time": "2022-06-19T13:51:41.920Z"
   },
   {
    "duration": 4,
    "start_time": "2022-06-19T13:51:44.962Z"
   },
   {
    "duration": 3,
    "start_time": "2022-06-19T13:51:48.607Z"
   },
   {
    "duration": 3,
    "start_time": "2022-06-19T13:55:54.387Z"
   },
   {
    "duration": 7,
    "start_time": "2022-06-19T13:55:57.807Z"
   },
   {
    "duration": 141,
    "start_time": "2022-06-19T13:56:37.774Z"
   },
   {
    "duration": 139,
    "start_time": "2022-06-19T13:57:03.556Z"
   },
   {
    "duration": 307,
    "start_time": "2022-06-19T14:03:12.686Z"
   },
   {
    "duration": 235,
    "start_time": "2022-06-19T14:03:39.765Z"
   },
   {
    "duration": 4,
    "start_time": "2022-06-19T14:03:54.931Z"
   },
   {
    "duration": 222,
    "start_time": "2022-06-19T14:04:36.977Z"
   },
   {
    "duration": 3,
    "start_time": "2022-06-19T14:04:51.006Z"
   },
   {
    "duration": 3,
    "start_time": "2022-06-19T14:04:58.355Z"
   },
   {
    "duration": 4,
    "start_time": "2022-06-19T14:05:01.814Z"
   },
   {
    "duration": 10,
    "start_time": "2022-06-19T14:05:24.521Z"
   },
   {
    "duration": 5,
    "start_time": "2022-06-19T14:05:48.960Z"
   },
   {
    "duration": 289,
    "start_time": "2022-06-19T14:06:26.800Z"
   },
   {
    "duration": 3,
    "start_time": "2022-06-19T14:06:31.336Z"
   },
   {
    "duration": 4,
    "start_time": "2022-06-19T14:06:37.420Z"
   },
   {
    "duration": 5,
    "start_time": "2022-06-19T14:06:54.144Z"
   },
   {
    "duration": 4,
    "start_time": "2022-06-19T14:07:09.399Z"
   },
   {
    "duration": 4,
    "start_time": "2022-06-19T14:07:14.281Z"
   },
   {
    "duration": 4,
    "start_time": "2022-06-19T14:07:19.291Z"
   },
   {
    "duration": 4,
    "start_time": "2022-06-19T14:07:24.208Z"
   },
   {
    "duration": 3,
    "start_time": "2022-06-19T14:11:46.291Z"
   },
   {
    "duration": 4,
    "start_time": "2022-06-19T14:12:02.351Z"
   },
   {
    "duration": 4,
    "start_time": "2022-06-19T14:12:06.855Z"
   },
   {
    "duration": 4,
    "start_time": "2022-06-19T14:12:39.116Z"
   },
   {
    "duration": 6,
    "start_time": "2022-06-19T14:13:01.102Z"
   },
   {
    "duration": 4,
    "start_time": "2022-06-19T14:13:18.142Z"
   },
   {
    "duration": 4,
    "start_time": "2022-06-19T14:13:18.498Z"
   },
   {
    "duration": 7,
    "start_time": "2022-06-19T14:13:22.390Z"
   },
   {
    "duration": 263,
    "start_time": "2022-06-19T14:13:30.021Z"
   },
   {
    "duration": 254,
    "start_time": "2022-06-19T14:14:37.753Z"
   },
   {
    "duration": 269,
    "start_time": "2022-06-19T14:16:52.553Z"
   },
   {
    "duration": 291,
    "start_time": "2022-06-19T14:19:25.003Z"
   },
   {
    "duration": 8,
    "start_time": "2022-06-19T14:19:30.691Z"
   },
   {
    "duration": 172,
    "start_time": "2022-06-19T14:19:48.867Z"
   },
   {
    "duration": 257,
    "start_time": "2022-06-19T14:20:27.223Z"
   },
   {
    "duration": 7,
    "start_time": "2022-06-19T14:20:39.651Z"
   },
   {
    "duration": 272,
    "start_time": "2022-06-19T14:23:47.690Z"
   },
   {
    "duration": 387,
    "start_time": "2022-06-19T14:23:57.408Z"
   },
   {
    "duration": 143,
    "start_time": "2022-06-19T14:24:29.968Z"
   },
   {
    "duration": 143,
    "start_time": "2022-06-19T14:25:08.476Z"
   },
   {
    "duration": 275,
    "start_time": "2022-06-19T14:25:30.890Z"
   },
   {
    "duration": 278,
    "start_time": "2022-06-19T14:25:48.707Z"
   },
   {
    "duration": 319,
    "start_time": "2022-06-19T14:25:58.675Z"
   },
   {
    "duration": 246,
    "start_time": "2022-06-19T14:26:21.445Z"
   },
   {
    "duration": 274,
    "start_time": "2022-06-19T14:26:30.007Z"
   },
   {
    "duration": 252,
    "start_time": "2022-06-19T14:28:12.550Z"
   },
   {
    "duration": 282,
    "start_time": "2022-06-19T14:28:23.575Z"
   },
   {
    "duration": 260,
    "start_time": "2022-06-19T14:28:30.749Z"
   },
   {
    "duration": 342,
    "start_time": "2022-06-19T14:28:42.549Z"
   },
   {
    "duration": 259,
    "start_time": "2022-06-19T14:28:46.646Z"
   },
   {
    "duration": 237,
    "start_time": "2022-06-19T14:29:01.459Z"
   },
   {
    "duration": 261,
    "start_time": "2022-06-19T14:35:18.829Z"
   },
   {
    "duration": 7,
    "start_time": "2022-06-19T14:35:27.312Z"
   },
   {
    "duration": 5,
    "start_time": "2022-06-19T14:35:48.395Z"
   },
   {
    "duration": 301,
    "start_time": "2022-06-19T14:36:22.496Z"
   },
   {
    "duration": 260,
    "start_time": "2022-06-19T14:36:32.748Z"
   },
   {
    "duration": 250,
    "start_time": "2022-06-19T14:36:43.149Z"
   },
   {
    "duration": 25,
    "start_time": "2022-06-19T14:37:05.809Z"
   },
   {
    "duration": 253,
    "start_time": "2022-06-19T14:37:09.744Z"
   },
   {
    "duration": 237,
    "start_time": "2022-06-19T14:37:20.160Z"
   },
   {
    "duration": 8,
    "start_time": "2022-06-19T14:37:28.100Z"
   },
   {
    "duration": 242,
    "start_time": "2022-06-19T14:37:49.455Z"
   },
   {
    "duration": 269,
    "start_time": "2022-06-19T14:38:04.018Z"
   },
   {
    "duration": 92,
    "start_time": "2022-06-19T14:38:07.528Z"
   },
   {
    "duration": 53,
    "start_time": "2022-06-19T17:04:05.743Z"
   },
   {
    "duration": 2279,
    "start_time": "2022-06-19T17:04:10.644Z"
   },
   {
    "duration": 93,
    "start_time": "2022-06-19T17:04:12.927Z"
   },
   {
    "duration": 10,
    "start_time": "2022-06-19T17:04:13.022Z"
   },
   {
    "duration": 43,
    "start_time": "2022-06-19T17:04:13.037Z"
   },
   {
    "duration": 15,
    "start_time": "2022-06-19T17:04:13.083Z"
   },
   {
    "duration": 216,
    "start_time": "2022-06-19T17:04:13.100Z"
   },
   {
    "duration": 5,
    "start_time": "2022-06-19T17:04:13.318Z"
   },
   {
    "duration": 53,
    "start_time": "2022-06-19T17:04:13.325Z"
   },
   {
    "duration": 7,
    "start_time": "2022-06-19T17:04:13.380Z"
   },
   {
    "duration": 20,
    "start_time": "2022-06-19T17:04:13.389Z"
   },
   {
    "duration": 321,
    "start_time": "2022-06-19T17:04:13.411Z"
   },
   {
    "duration": 380,
    "start_time": "2022-06-19T17:04:13.735Z"
   },
   {
    "duration": 228,
    "start_time": "2022-06-19T17:04:14.117Z"
   },
   {
    "duration": 361,
    "start_time": "2022-06-19T17:04:14.348Z"
   },
   {
    "duration": 283,
    "start_time": "2022-06-19T17:04:14.711Z"
   },
   {
    "duration": 376,
    "start_time": "2022-06-19T17:04:14.995Z"
   },
   {
    "duration": 11,
    "start_time": "2022-06-19T17:04:15.373Z"
   },
   {
    "duration": 191,
    "start_time": "2022-06-19T17:04:15.386Z"
   },
   {
    "duration": 187,
    "start_time": "2022-06-19T17:04:15.579Z"
   },
   {
    "duration": 5,
    "start_time": "2022-06-19T17:04:15.768Z"
   },
   {
    "duration": 9,
    "start_time": "2022-06-19T17:04:15.775Z"
   },
   {
    "duration": 14,
    "start_time": "2022-06-19T17:04:15.786Z"
   },
   {
    "duration": 32,
    "start_time": "2022-06-19T17:04:15.801Z"
   },
   {
    "duration": 164,
    "start_time": "2022-06-19T17:04:15.840Z"
   },
   {
    "duration": 375,
    "start_time": "2022-06-19T17:04:16.005Z"
   },
   {
    "duration": 8,
    "start_time": "2022-06-19T17:04:16.382Z"
   },
   {
    "duration": 291,
    "start_time": "2022-06-19T17:04:16.392Z"
   },
   {
    "duration": 9,
    "start_time": "2022-06-19T17:04:16.685Z"
   },
   {
    "duration": 6,
    "start_time": "2022-06-19T17:04:16.695Z"
   },
   {
    "duration": 275,
    "start_time": "2022-06-19T17:04:54.510Z"
   },
   {
    "duration": 262,
    "start_time": "2022-06-19T17:04:58.761Z"
   },
   {
    "duration": 266,
    "start_time": "2022-06-19T17:05:10.015Z"
   },
   {
    "duration": 253,
    "start_time": "2022-06-19T17:05:21.846Z"
   },
   {
    "duration": 312,
    "start_time": "2022-06-19T17:06:19.005Z"
   },
   {
    "duration": 288,
    "start_time": "2022-06-19T17:06:26.603Z"
   },
   {
    "duration": 6,
    "start_time": "2022-06-19T17:06:38.192Z"
   },
   {
    "duration": 59,
    "start_time": "2022-06-19T17:06:38.200Z"
   },
   {
    "duration": 4,
    "start_time": "2022-06-19T17:06:38.260Z"
   },
   {
    "duration": 18,
    "start_time": "2022-06-19T17:06:38.266Z"
   },
   {
    "duration": 15,
    "start_time": "2022-06-19T17:06:38.286Z"
   },
   {
    "duration": 85,
    "start_time": "2022-06-19T17:06:38.303Z"
   },
   {
    "duration": 4,
    "start_time": "2022-06-19T17:06:38.390Z"
   },
   {
    "duration": 24,
    "start_time": "2022-06-19T17:06:38.395Z"
   },
   {
    "duration": 48,
    "start_time": "2022-06-19T17:06:38.422Z"
   },
   {
    "duration": 13,
    "start_time": "2022-06-19T17:06:38.472Z"
   },
   {
    "duration": 329,
    "start_time": "2022-06-19T17:06:38.487Z"
   },
   {
    "duration": 345,
    "start_time": "2022-06-19T17:06:38.820Z"
   },
   {
    "duration": 294,
    "start_time": "2022-06-19T17:06:39.169Z"
   },
   {
    "duration": 485,
    "start_time": "2022-06-19T17:06:39.468Z"
   },
   {
    "duration": 339,
    "start_time": "2022-06-19T17:06:39.955Z"
   },
   {
    "duration": 357,
    "start_time": "2022-06-19T17:06:40.296Z"
   },
   {
    "duration": 16,
    "start_time": "2022-06-19T17:06:40.655Z"
   },
   {
    "duration": 172,
    "start_time": "2022-06-19T17:06:40.674Z"
   },
   {
    "duration": 183,
    "start_time": "2022-06-19T17:06:40.847Z"
   },
   {
    "duration": 7,
    "start_time": "2022-06-19T17:06:41.039Z"
   },
   {
    "duration": 36,
    "start_time": "2022-06-19T17:06:41.047Z"
   },
   {
    "duration": 10,
    "start_time": "2022-06-19T17:06:41.085Z"
   },
   {
    "duration": 12,
    "start_time": "2022-06-19T17:06:41.097Z"
   },
   {
    "duration": 181,
    "start_time": "2022-06-19T17:06:41.112Z"
   },
   {
    "duration": 302,
    "start_time": "2022-06-19T17:06:41.295Z"
   },
   {
    "duration": 295,
    "start_time": "2022-06-19T17:06:41.599Z"
   },
   {
    "duration": 5,
    "start_time": "2022-06-19T17:06:41.896Z"
   },
   {
    "duration": 5,
    "start_time": "2022-06-19T17:23:51.443Z"
   },
   {
    "duration": 47,
    "start_time": "2022-06-19T17:23:51.450Z"
   },
   {
    "duration": 4,
    "start_time": "2022-06-19T17:23:51.499Z"
   },
   {
    "duration": 13,
    "start_time": "2022-06-19T17:23:51.505Z"
   },
   {
    "duration": 38,
    "start_time": "2022-06-19T17:23:51.521Z"
   },
   {
    "duration": 76,
    "start_time": "2022-06-19T17:23:51.561Z"
   },
   {
    "duration": 4,
    "start_time": "2022-06-19T17:23:51.645Z"
   },
   {
    "duration": 25,
    "start_time": "2022-06-19T17:23:51.651Z"
   },
   {
    "duration": 6,
    "start_time": "2022-06-19T17:23:51.679Z"
   },
   {
    "duration": 15,
    "start_time": "2022-06-19T17:23:51.687Z"
   },
   {
    "duration": 348,
    "start_time": "2022-06-19T17:23:51.704Z"
   },
   {
    "duration": 297,
    "start_time": "2022-06-19T17:23:52.054Z"
   },
   {
    "duration": 268,
    "start_time": "2022-06-19T17:23:52.353Z"
   },
   {
    "duration": 554,
    "start_time": "2022-06-19T17:23:52.624Z"
   },
   {
    "duration": 311,
    "start_time": "2022-06-19T17:23:53.180Z"
   },
   {
    "duration": 353,
    "start_time": "2022-06-19T17:23:53.493Z"
   },
   {
    "duration": 13,
    "start_time": "2022-06-19T17:23:53.848Z"
   },
   {
    "duration": 181,
    "start_time": "2022-06-19T17:23:53.863Z"
   },
   {
    "duration": 156,
    "start_time": "2022-06-19T17:23:54.047Z"
   },
   {
    "duration": 5,
    "start_time": "2022-06-19T17:23:54.205Z"
   },
   {
    "duration": 13,
    "start_time": "2022-06-19T17:23:54.223Z"
   },
   {
    "duration": 16,
    "start_time": "2022-06-19T17:23:54.239Z"
   },
   {
    "duration": 17,
    "start_time": "2022-06-19T17:23:54.257Z"
   },
   {
    "duration": 312,
    "start_time": "2022-06-19T17:23:54.277Z"
   },
   {
    "duration": 304,
    "start_time": "2022-06-19T17:24:03.742Z"
   },
   {
    "duration": 304,
    "start_time": "2022-06-19T17:24:12.304Z"
   },
   {
    "duration": 335,
    "start_time": "2022-06-19T17:28:18.541Z"
   },
   {
    "duration": 355,
    "start_time": "2022-06-19T17:28:32.460Z"
   },
   {
    "duration": 332,
    "start_time": "2022-06-19T17:28:45.264Z"
   },
   {
    "duration": 320,
    "start_time": "2022-06-19T17:28:56.067Z"
   },
   {
    "duration": 387,
    "start_time": "2022-06-19T17:29:00.356Z"
   },
   {
    "duration": 206,
    "start_time": "2022-06-19T17:29:07.475Z"
   },
   {
    "duration": 6,
    "start_time": "2022-06-19T17:29:55.352Z"
   },
   {
    "duration": 360,
    "start_time": "2022-06-19T17:29:55.906Z"
   },
   {
    "duration": 7,
    "start_time": "2022-06-19T17:30:11.767Z"
   },
   {
    "duration": 37,
    "start_time": "2022-06-19T17:30:11.777Z"
   },
   {
    "duration": 4,
    "start_time": "2022-06-19T17:30:11.816Z"
   },
   {
    "duration": 57,
    "start_time": "2022-06-19T17:30:11.822Z"
   },
   {
    "duration": 14,
    "start_time": "2022-06-19T17:30:11.882Z"
   },
   {
    "duration": 117,
    "start_time": "2022-06-19T17:30:11.899Z"
   },
   {
    "duration": 5,
    "start_time": "2022-06-19T17:30:12.018Z"
   },
   {
    "duration": 99,
    "start_time": "2022-06-19T17:30:12.031Z"
   },
   {
    "duration": 48,
    "start_time": "2022-06-19T17:30:12.132Z"
   },
   {
    "duration": 117,
    "start_time": "2022-06-19T17:30:12.187Z"
   },
   {
    "duration": 466,
    "start_time": "2022-06-19T17:30:12.320Z"
   },
   {
    "duration": 419,
    "start_time": "2022-06-19T17:30:12.794Z"
   },
   {
    "duration": 392,
    "start_time": "2022-06-19T17:30:13.214Z"
   },
   {
    "duration": 467,
    "start_time": "2022-06-19T17:30:13.609Z"
   },
   {
    "duration": 394,
    "start_time": "2022-06-19T17:30:14.078Z"
   },
   {
    "duration": 514,
    "start_time": "2022-06-19T17:30:14.474Z"
   },
   {
    "duration": 14,
    "start_time": "2022-06-19T17:30:14.990Z"
   },
   {
    "duration": 225,
    "start_time": "2022-06-19T17:30:15.006Z"
   },
   {
    "duration": 303,
    "start_time": "2022-06-19T17:30:15.235Z"
   },
   {
    "duration": 12,
    "start_time": "2022-06-19T17:30:15.539Z"
   },
   {
    "duration": 24,
    "start_time": "2022-06-19T17:30:15.555Z"
   },
   {
    "duration": 28,
    "start_time": "2022-06-19T17:30:15.581Z"
   },
   {
    "duration": 59,
    "start_time": "2022-06-19T17:30:15.611Z"
   },
   {
    "duration": 28,
    "start_time": "2022-06-19T17:30:15.672Z"
   },
   {
    "duration": 373,
    "start_time": "2022-06-19T17:30:15.702Z"
   },
   {
    "duration": 3,
    "start_time": "2022-06-19T17:31:51.669Z"
   },
   {
    "duration": 317,
    "start_time": "2022-06-19T17:31:52.002Z"
   },
   {
    "duration": 5,
    "start_time": "2022-06-19T17:31:58.356Z"
   },
   {
    "duration": 38,
    "start_time": "2022-06-19T17:31:58.363Z"
   },
   {
    "duration": 3,
    "start_time": "2022-06-19T17:31:58.404Z"
   },
   {
    "duration": 17,
    "start_time": "2022-06-19T17:31:58.410Z"
   },
   {
    "duration": 62,
    "start_time": "2022-06-19T17:31:58.430Z"
   },
   {
    "duration": 91,
    "start_time": "2022-06-19T17:31:58.494Z"
   },
   {
    "duration": 4,
    "start_time": "2022-06-19T17:31:58.588Z"
   },
   {
    "duration": 37,
    "start_time": "2022-06-19T17:31:58.593Z"
   },
   {
    "duration": 29,
    "start_time": "2022-06-19T17:31:58.633Z"
   },
   {
    "duration": 10,
    "start_time": "2022-06-19T17:31:58.664Z"
   },
   {
    "duration": 342,
    "start_time": "2022-06-19T17:31:58.676Z"
   },
   {
    "duration": 391,
    "start_time": "2022-06-19T17:31:59.024Z"
   },
   {
    "duration": 301,
    "start_time": "2022-06-19T17:31:59.417Z"
   },
   {
    "duration": 435,
    "start_time": "2022-06-19T17:31:59.720Z"
   },
   {
    "duration": 341,
    "start_time": "2022-06-19T17:32:00.158Z"
   },
   {
    "duration": 409,
    "start_time": "2022-06-19T17:32:00.501Z"
   },
   {
    "duration": 25,
    "start_time": "2022-06-19T17:32:00.912Z"
   },
   {
    "duration": 199,
    "start_time": "2022-06-19T17:32:00.938Z"
   },
   {
    "duration": 180,
    "start_time": "2022-06-19T17:32:01.139Z"
   },
   {
    "duration": 12,
    "start_time": "2022-06-19T17:32:01.322Z"
   },
   {
    "duration": 45,
    "start_time": "2022-06-19T17:32:01.335Z"
   },
   {
    "duration": 14,
    "start_time": "2022-06-19T17:32:01.382Z"
   },
   {
    "duration": 21,
    "start_time": "2022-06-19T17:32:01.397Z"
   },
   {
    "duration": 47,
    "start_time": "2022-06-19T17:32:01.420Z"
   },
   {
    "duration": 361,
    "start_time": "2022-06-19T17:32:01.468Z"
   },
   {
    "duration": 4,
    "start_time": "2022-06-19T17:39:35.368Z"
   },
   {
    "duration": 426,
    "start_time": "2022-06-19T17:39:39.071Z"
   },
   {
    "duration": 5,
    "start_time": "2022-06-19T17:40:16.899Z"
   },
   {
    "duration": 60,
    "start_time": "2022-06-19T17:40:16.907Z"
   },
   {
    "duration": 3,
    "start_time": "2022-06-19T17:40:16.969Z"
   },
   {
    "duration": 17,
    "start_time": "2022-06-19T17:40:16.974Z"
   },
   {
    "duration": 13,
    "start_time": "2022-06-19T17:40:16.994Z"
   },
   {
    "duration": 82,
    "start_time": "2022-06-19T17:40:17.009Z"
   },
   {
    "duration": 4,
    "start_time": "2022-06-19T17:40:17.092Z"
   },
   {
    "duration": 21,
    "start_time": "2022-06-19T17:40:17.097Z"
   },
   {
    "duration": 12,
    "start_time": "2022-06-19T17:40:17.119Z"
   },
   {
    "duration": 34,
    "start_time": "2022-06-19T17:40:17.136Z"
   },
   {
    "duration": 296,
    "start_time": "2022-06-19T17:40:17.173Z"
   },
   {
    "duration": 293,
    "start_time": "2022-06-19T17:40:17.470Z"
   },
   {
    "duration": 229,
    "start_time": "2022-06-19T17:40:17.765Z"
   },
   {
    "duration": 333,
    "start_time": "2022-06-19T17:40:17.996Z"
   },
   {
    "duration": 309,
    "start_time": "2022-06-19T17:40:18.331Z"
   },
   {
    "duration": 326,
    "start_time": "2022-06-19T17:40:18.642Z"
   },
   {
    "duration": 13,
    "start_time": "2022-06-19T17:40:18.970Z"
   },
   {
    "duration": 177,
    "start_time": "2022-06-19T17:40:18.985Z"
   },
   {
    "duration": 187,
    "start_time": "2022-06-19T17:40:19.164Z"
   },
   {
    "duration": 4,
    "start_time": "2022-06-19T17:40:19.353Z"
   },
   {
    "duration": 12,
    "start_time": "2022-06-19T17:40:19.359Z"
   },
   {
    "duration": 13,
    "start_time": "2022-06-19T17:40:19.372Z"
   },
   {
    "duration": 10,
    "start_time": "2022-06-19T17:40:19.386Z"
   },
   {
    "duration": 11,
    "start_time": "2022-06-19T17:40:19.398Z"
   },
   {
    "duration": 288,
    "start_time": "2022-06-19T17:40:19.411Z"
   },
   {
    "duration": 2,
    "start_time": "2022-06-19T17:40:44.795Z"
   },
   {
    "duration": 258,
    "start_time": "2022-06-19T17:40:45.139Z"
   },
   {
    "duration": 3,
    "start_time": "2022-06-19T17:43:30.534Z"
   },
   {
    "duration": 423,
    "start_time": "2022-06-19T17:43:30.944Z"
   },
   {
    "duration": 3,
    "start_time": "2022-06-19T17:43:40.592Z"
   },
   {
    "duration": 348,
    "start_time": "2022-06-19T17:43:42.511Z"
   },
   {
    "duration": 340,
    "start_time": "2022-06-19T17:44:32.538Z"
   },
   {
    "duration": 328,
    "start_time": "2022-06-19T17:44:48.940Z"
   },
   {
    "duration": 5,
    "start_time": "2022-06-19T17:45:08.337Z"
   },
   {
    "duration": 330,
    "start_time": "2022-06-19T17:45:11.417Z"
   },
   {
    "duration": 4,
    "start_time": "2022-06-19T17:47:10.851Z"
   },
   {
    "duration": 324,
    "start_time": "2022-06-19T17:47:11.370Z"
   },
   {
    "duration": 200,
    "start_time": "2022-06-19T17:47:18.877Z"
   },
   {
    "duration": 277,
    "start_time": "2022-06-19T17:47:26.004Z"
   },
   {
    "duration": 6,
    "start_time": "2022-06-19T17:47:46.248Z"
   },
   {
    "duration": 40,
    "start_time": "2022-06-19T17:47:46.257Z"
   },
   {
    "duration": 7,
    "start_time": "2022-06-19T17:47:46.299Z"
   },
   {
    "duration": 18,
    "start_time": "2022-06-19T17:47:46.308Z"
   },
   {
    "duration": 36,
    "start_time": "2022-06-19T17:47:46.335Z"
   },
   {
    "duration": 91,
    "start_time": "2022-06-19T17:47:46.373Z"
   },
   {
    "duration": 4,
    "start_time": "2022-06-19T17:47:46.465Z"
   },
   {
    "duration": 23,
    "start_time": "2022-06-19T17:47:46.471Z"
   },
   {
    "duration": 5,
    "start_time": "2022-06-19T17:47:46.497Z"
   },
   {
    "duration": 11,
    "start_time": "2022-06-19T17:47:46.504Z"
   },
   {
    "duration": 384,
    "start_time": "2022-06-19T17:47:46.517Z"
   },
   {
    "duration": 273,
    "start_time": "2022-06-19T17:47:46.903Z"
   },
   {
    "duration": 243,
    "start_time": "2022-06-19T17:47:47.178Z"
   },
   {
    "duration": 435,
    "start_time": "2022-06-19T17:47:47.423Z"
   },
   {
    "duration": 301,
    "start_time": "2022-06-19T17:47:47.860Z"
   },
   {
    "duration": 391,
    "start_time": "2022-06-19T17:47:48.162Z"
   },
   {
    "duration": 13,
    "start_time": "2022-06-19T17:47:48.555Z"
   },
   {
    "duration": 189,
    "start_time": "2022-06-19T17:47:48.569Z"
   },
   {
    "duration": 212,
    "start_time": "2022-06-19T17:47:48.760Z"
   },
   {
    "duration": 5,
    "start_time": "2022-06-19T17:47:48.974Z"
   },
   {
    "duration": 28,
    "start_time": "2022-06-19T17:47:48.981Z"
   },
   {
    "duration": 67,
    "start_time": "2022-06-19T17:47:49.012Z"
   },
   {
    "duration": 33,
    "start_time": "2022-06-19T17:47:49.081Z"
   },
   {
    "duration": 62,
    "start_time": "2022-06-19T17:47:49.118Z"
   },
   {
    "duration": 314,
    "start_time": "2022-06-19T17:47:49.182Z"
   },
   {
    "duration": 3,
    "start_time": "2022-06-19T17:49:38.598Z"
   },
   {
    "duration": 8,
    "start_time": "2022-06-19T17:49:40.945Z"
   },
   {
    "duration": 6,
    "start_time": "2022-06-19T17:49:40.955Z"
   },
   {
    "duration": 34,
    "start_time": "2022-06-19T17:49:40.963Z"
   },
   {
    "duration": 4,
    "start_time": "2022-06-19T17:49:40.999Z"
   },
   {
    "duration": 13,
    "start_time": "2022-06-19T17:49:41.006Z"
   },
   {
    "duration": 35,
    "start_time": "2022-06-19T17:49:41.021Z"
   },
   {
    "duration": 87,
    "start_time": "2022-06-19T17:49:41.058Z"
   },
   {
    "duration": 4,
    "start_time": "2022-06-19T17:49:41.149Z"
   },
   {
    "duration": 21,
    "start_time": "2022-06-19T17:49:41.155Z"
   },
   {
    "duration": 6,
    "start_time": "2022-06-19T17:49:41.178Z"
   },
   {
    "duration": 10,
    "start_time": "2022-06-19T17:49:41.186Z"
   },
   {
    "duration": 299,
    "start_time": "2022-06-19T17:49:41.198Z"
   },
   {
    "duration": 313,
    "start_time": "2022-06-19T17:49:41.499Z"
   },
   {
    "duration": 260,
    "start_time": "2022-06-19T17:49:41.814Z"
   },
   {
    "duration": 405,
    "start_time": "2022-06-19T17:49:42.076Z"
   },
   {
    "duration": 347,
    "start_time": "2022-06-19T17:49:42.483Z"
   },
   {
    "duration": 487,
    "start_time": "2022-06-19T17:49:42.832Z"
   },
   {
    "duration": 19,
    "start_time": "2022-06-19T17:49:43.320Z"
   },
   {
    "duration": 176,
    "start_time": "2022-06-19T17:49:43.340Z"
   },
   {
    "duration": 180,
    "start_time": "2022-06-19T17:49:43.518Z"
   },
   {
    "duration": 4,
    "start_time": "2022-06-19T17:49:43.700Z"
   },
   {
    "duration": 12,
    "start_time": "2022-06-19T17:49:43.706Z"
   },
   {
    "duration": 39,
    "start_time": "2022-06-19T17:49:43.728Z"
   },
   {
    "duration": 27,
    "start_time": "2022-06-19T17:49:43.769Z"
   },
   {
    "duration": 304,
    "start_time": "2022-06-19T17:49:43.798Z"
   },
   {
    "duration": 252,
    "start_time": "2022-06-19T17:53:57.754Z"
   },
   {
    "duration": 381,
    "start_time": "2022-06-19T17:54:11.145Z"
   },
   {
    "duration": 304,
    "start_time": "2022-06-19T17:54:22.700Z"
   },
   {
    "duration": 225,
    "start_time": "2022-06-19T17:55:52.151Z"
   },
   {
    "duration": 182,
    "start_time": "2022-06-19T17:59:26.634Z"
   },
   {
    "duration": 187,
    "start_time": "2022-06-19T17:59:43.268Z"
   },
   {
    "duration": 238,
    "start_time": "2022-06-19T17:59:57.251Z"
   },
   {
    "duration": 301,
    "start_time": "2022-06-19T18:00:10.382Z"
   },
   {
    "duration": 14,
    "start_time": "2022-06-19T18:00:20.655Z"
   },
   {
    "duration": 268,
    "start_time": "2022-06-19T18:00:25.523Z"
   },
   {
    "duration": 252,
    "start_time": "2022-06-19T18:00:31.414Z"
   },
   {
    "duration": 252,
    "start_time": "2022-06-19T18:01:10.386Z"
   },
   {
    "duration": 365,
    "start_time": "2022-06-19T18:01:18.752Z"
   },
   {
    "duration": 305,
    "start_time": "2022-06-19T18:01:35.192Z"
   },
   {
    "duration": 333,
    "start_time": "2022-06-19T18:01:46.898Z"
   },
   {
    "duration": 295,
    "start_time": "2022-06-19T18:02:27.085Z"
   },
   {
    "duration": 4,
    "start_time": "2022-06-19T18:04:01.584Z"
   },
   {
    "duration": 415,
    "start_time": "2022-06-19T18:04:02.056Z"
   },
   {
    "duration": 281,
    "start_time": "2022-06-19T18:04:25.505Z"
   },
   {
    "duration": 305,
    "start_time": "2022-06-19T18:04:33.808Z"
   },
   {
    "duration": 21,
    "start_time": "2022-06-19T18:05:04.156Z"
   },
   {
    "duration": 470,
    "start_time": "2022-06-19T18:05:10.299Z"
   },
   {
    "duration": 277,
    "start_time": "2022-06-19T18:05:20.749Z"
   },
   {
    "duration": 332,
    "start_time": "2022-06-19T18:05:27.987Z"
   },
   {
    "duration": 427,
    "start_time": "2022-06-19T18:06:27.684Z"
   },
   {
    "duration": 478,
    "start_time": "2022-06-19T18:06:36.949Z"
   },
   {
    "duration": 666,
    "start_time": "2022-06-19T18:07:16.319Z"
   },
   {
    "duration": 584,
    "start_time": "2022-06-19T18:07:27.204Z"
   },
   {
    "duration": 563,
    "start_time": "2022-06-19T18:07:35.395Z"
   },
   {
    "duration": 668,
    "start_time": "2022-06-19T18:07:42.723Z"
   },
   {
    "duration": 563,
    "start_time": "2022-06-19T18:07:48.390Z"
   },
   {
    "duration": 671,
    "start_time": "2022-06-19T18:07:52.440Z"
   },
   {
    "duration": 636,
    "start_time": "2022-06-19T18:07:56.675Z"
   },
   {
    "duration": 583,
    "start_time": "2022-06-19T18:08:45.788Z"
   },
   {
    "duration": 342,
    "start_time": "2022-06-19T18:09:17.048Z"
   },
   {
    "duration": 502,
    "start_time": "2022-06-19T18:09:22.150Z"
   },
   {
    "duration": 6,
    "start_time": "2022-06-19T18:09:25.461Z"
   },
   {
    "duration": 27,
    "start_time": "2022-06-19T18:09:25.470Z"
   },
   {
    "duration": 58,
    "start_time": "2022-06-19T18:09:25.499Z"
   },
   {
    "duration": 6,
    "start_time": "2022-06-19T18:09:25.559Z"
   },
   {
    "duration": 35,
    "start_time": "2022-06-19T18:09:25.570Z"
   },
   {
    "duration": 12,
    "start_time": "2022-06-19T18:09:25.607Z"
   },
   {
    "duration": 110,
    "start_time": "2022-06-19T18:09:25.620Z"
   },
   {
    "duration": 8,
    "start_time": "2022-06-19T18:09:25.732Z"
   },
   {
    "duration": 60,
    "start_time": "2022-06-19T18:09:25.742Z"
   },
   {
    "duration": 6,
    "start_time": "2022-06-19T18:09:25.804Z"
   },
   {
    "duration": 19,
    "start_time": "2022-06-19T18:09:25.812Z"
   },
   {
    "duration": 477,
    "start_time": "2022-06-19T18:09:25.833Z"
   },
   {
    "duration": 391,
    "start_time": "2022-06-19T18:09:26.312Z"
   },
   {
    "duration": 313,
    "start_time": "2022-06-19T18:09:26.707Z"
   },
   {
    "duration": 407,
    "start_time": "2022-06-19T18:09:27.022Z"
   },
   {
    "duration": 363,
    "start_time": "2022-06-19T18:09:27.431Z"
   },
   {
    "duration": 443,
    "start_time": "2022-06-19T18:09:27.796Z"
   },
   {
    "duration": 34,
    "start_time": "2022-06-19T18:09:28.241Z"
   },
   {
    "duration": 216,
    "start_time": "2022-06-19T18:09:28.280Z"
   },
   {
    "duration": 308,
    "start_time": "2022-06-19T18:09:28.498Z"
   },
   {
    "duration": 5,
    "start_time": "2022-06-19T18:09:28.808Z"
   },
   {
    "duration": 7,
    "start_time": "2022-06-19T18:09:28.824Z"
   },
   {
    "duration": 53,
    "start_time": "2022-06-19T18:09:28.833Z"
   },
   {
    "duration": 13,
    "start_time": "2022-06-19T18:09:28.887Z"
   },
   {
    "duration": 311,
    "start_time": "2022-06-19T18:09:28.902Z"
   },
   {
    "duration": 389,
    "start_time": "2022-06-19T18:09:29.216Z"
   },
   {
    "duration": 403,
    "start_time": "2022-06-19T18:09:57.865Z"
   },
   {
    "duration": 450,
    "start_time": "2022-06-19T18:10:58.544Z"
   },
   {
    "duration": 371,
    "start_time": "2022-06-19T18:11:06.235Z"
   },
   {
    "duration": 420,
    "start_time": "2022-06-19T18:12:18.163Z"
   },
   {
    "duration": 370,
    "start_time": "2022-06-19T18:12:24.138Z"
   },
   {
    "duration": 343,
    "start_time": "2022-06-19T18:12:36.655Z"
   },
   {
    "duration": 378,
    "start_time": "2022-06-19T18:12:43.311Z"
   },
   {
    "duration": 350,
    "start_time": "2022-06-19T18:13:07.663Z"
   },
   {
    "duration": 473,
    "start_time": "2022-06-19T18:13:43.966Z"
   },
   {
    "duration": 369,
    "start_time": "2022-06-19T18:16:15.878Z"
   },
   {
    "duration": 467,
    "start_time": "2022-06-19T18:16:22.784Z"
   },
   {
    "duration": 251,
    "start_time": "2022-06-19T18:16:47.666Z"
   },
   {
    "duration": 373,
    "start_time": "2022-06-19T18:16:56.281Z"
   },
   {
    "duration": 415,
    "start_time": "2022-06-19T18:17:07.040Z"
   },
   {
    "duration": 390,
    "start_time": "2022-06-19T18:17:20.609Z"
   },
   {
    "duration": 410,
    "start_time": "2022-06-19T18:19:05.364Z"
   },
   {
    "duration": 358,
    "start_time": "2022-06-19T18:19:35.755Z"
   },
   {
    "duration": 364,
    "start_time": "2022-06-19T18:20:34.455Z"
   },
   {
    "duration": 373,
    "start_time": "2022-06-19T18:20:44.183Z"
   },
   {
    "duration": 456,
    "start_time": "2022-06-19T18:20:51.965Z"
   },
   {
    "duration": 368,
    "start_time": "2022-06-19T18:20:56.340Z"
   },
   {
    "duration": 172,
    "start_time": "2022-06-19T18:21:35.305Z"
   },
   {
    "duration": 423,
    "start_time": "2022-06-19T18:21:52.243Z"
   },
   {
    "duration": 375,
    "start_time": "2022-06-19T18:22:18.047Z"
   },
   {
    "duration": 362,
    "start_time": "2022-06-19T18:22:35.738Z"
   },
   {
    "duration": 295,
    "start_time": "2022-06-19T18:22:57.684Z"
   },
   {
    "duration": 462,
    "start_time": "2022-06-19T18:23:22.151Z"
   },
   {
    "duration": 5,
    "start_time": "2022-06-19T18:23:50.001Z"
   },
   {
    "duration": 7,
    "start_time": "2022-06-19T18:25:33.566Z"
   },
   {
    "duration": 5,
    "start_time": "2022-06-19T18:26:18.395Z"
   },
   {
    "duration": 5,
    "start_time": "2022-06-19T18:26:26.030Z"
   },
   {
    "duration": 4,
    "start_time": "2022-06-19T18:26:29.863Z"
   },
   {
    "duration": 7,
    "start_time": "2022-06-19T18:27:09.064Z"
   },
   {
    "duration": 4,
    "start_time": "2022-06-19T18:27:13.559Z"
   },
   {
    "duration": 5,
    "start_time": "2022-06-19T18:27:40.751Z"
   },
   {
    "duration": 4,
    "start_time": "2022-06-19T18:28:24.475Z"
   },
   {
    "duration": 4,
    "start_time": "2022-06-19T18:28:27.773Z"
   },
   {
    "duration": 7,
    "start_time": "2022-06-19T18:28:44.379Z"
   },
   {
    "duration": 1342,
    "start_time": "2022-06-20T18:42:50.974Z"
   },
   {
    "duration": 68,
    "start_time": "2022-06-20T18:42:52.318Z"
   },
   {
    "duration": 4,
    "start_time": "2022-06-20T18:42:52.387Z"
   },
   {
    "duration": 15,
    "start_time": "2022-06-20T18:42:52.392Z"
   },
   {
    "duration": 13,
    "start_time": "2022-06-20T18:42:52.410Z"
   },
   {
    "duration": 156,
    "start_time": "2022-06-20T18:42:52.425Z"
   },
   {
    "duration": 4,
    "start_time": "2022-06-20T18:42:52.583Z"
   },
   {
    "duration": 24,
    "start_time": "2022-06-20T18:42:52.589Z"
   },
   {
    "duration": 9,
    "start_time": "2022-06-20T18:42:52.615Z"
   },
   {
    "duration": 13,
    "start_time": "2022-06-20T18:42:52.625Z"
   },
   {
    "duration": 315,
    "start_time": "2022-06-20T18:42:52.640Z"
   },
   {
    "duration": 364,
    "start_time": "2022-06-20T18:42:52.957Z"
   },
   {
    "duration": 217,
    "start_time": "2022-06-20T18:42:53.323Z"
   },
   {
    "duration": 442,
    "start_time": "2022-06-20T18:42:53.543Z"
   },
   {
    "duration": 305,
    "start_time": "2022-06-20T18:42:53.987Z"
   },
   {
    "duration": 346,
    "start_time": "2022-06-20T18:42:54.295Z"
   },
   {
    "duration": 11,
    "start_time": "2022-06-20T18:42:54.643Z"
   },
   {
    "duration": 156,
    "start_time": "2022-06-20T18:42:54.656Z"
   },
   {
    "duration": 161,
    "start_time": "2022-06-20T18:42:54.814Z"
   },
   {
    "duration": 4,
    "start_time": "2022-06-20T18:42:54.977Z"
   },
   {
    "duration": 8,
    "start_time": "2022-06-20T18:42:54.983Z"
   },
   {
    "duration": 11,
    "start_time": "2022-06-20T18:42:54.992Z"
   },
   {
    "duration": 33,
    "start_time": "2022-06-20T18:42:55.004Z"
   },
   {
    "duration": 366,
    "start_time": "2022-06-20T18:42:55.038Z"
   },
   {
    "duration": 4,
    "start_time": "2022-06-20T18:42:55.405Z"
   },
   {
    "duration": 17,
    "start_time": "2022-06-20T18:42:55.410Z"
   },
   {
    "duration": 6,
    "start_time": "2022-06-20T18:42:55.428Z"
   },
   {
    "duration": 9,
    "start_time": "2022-06-20T18:42:55.436Z"
   },
   {
    "duration": 102,
    "start_time": "2022-06-20T18:43:14.662Z"
   },
   {
    "duration": 240,
    "start_time": "2022-06-20T18:43:21.979Z"
   },
   {
    "duration": 136,
    "start_time": "2022-06-20T18:44:10.659Z"
   },
   {
    "duration": 515,
    "start_time": "2022-06-20T18:44:45.199Z"
   },
   {
    "duration": 151,
    "start_time": "2022-06-20T18:44:51.233Z"
   },
   {
    "duration": 225,
    "start_time": "2022-06-20T18:45:16.334Z"
   },
   {
    "duration": 196,
    "start_time": "2022-06-20T18:45:57.751Z"
   },
   {
    "duration": 448,
    "start_time": "2022-06-20T18:47:15.958Z"
   },
   {
    "duration": 548,
    "start_time": "2022-06-20T18:48:13.042Z"
   },
   {
    "duration": 12,
    "start_time": "2022-06-20T19:07:36.147Z"
   },
   {
    "duration": 4,
    "start_time": "2022-06-20T19:07:39.163Z"
   },
   {
    "duration": 91,
    "start_time": "2022-06-20T19:07:39.170Z"
   },
   {
    "duration": 3,
    "start_time": "2022-06-20T19:07:39.264Z"
   },
   {
    "duration": 23,
    "start_time": "2022-06-20T19:07:39.269Z"
   },
   {
    "duration": 18,
    "start_time": "2022-06-20T19:07:39.295Z"
   },
   {
    "duration": 69,
    "start_time": "2022-06-20T19:07:39.315Z"
   },
   {
    "duration": 5,
    "start_time": "2022-06-20T19:07:39.386Z"
   },
   {
    "duration": 22,
    "start_time": "2022-06-20T19:07:39.393Z"
   },
   {
    "duration": 10,
    "start_time": "2022-06-20T19:07:39.418Z"
   },
   {
    "duration": 20,
    "start_time": "2022-06-20T19:07:39.430Z"
   },
   {
    "duration": 324,
    "start_time": "2022-06-20T19:07:39.455Z"
   },
   {
    "duration": 276,
    "start_time": "2022-06-20T19:07:39.782Z"
   },
   {
    "duration": 230,
    "start_time": "2022-06-20T19:07:40.061Z"
   },
   {
    "duration": 382,
    "start_time": "2022-06-20T19:07:40.293Z"
   },
   {
    "duration": 300,
    "start_time": "2022-06-20T19:07:40.677Z"
   },
   {
    "duration": 500,
    "start_time": "2022-06-20T19:07:40.980Z"
   },
   {
    "duration": 12,
    "start_time": "2022-06-20T19:07:41.481Z"
   },
   {
    "duration": 170,
    "start_time": "2022-06-20T19:07:41.495Z"
   },
   {
    "duration": 189,
    "start_time": "2022-06-20T19:07:41.667Z"
   },
   {
    "duration": 6,
    "start_time": "2022-06-20T19:07:41.858Z"
   },
   {
    "duration": 13,
    "start_time": "2022-06-20T19:07:41.866Z"
   },
   {
    "duration": 18,
    "start_time": "2022-06-20T19:07:41.881Z"
   },
   {
    "duration": 38,
    "start_time": "2022-06-20T19:07:41.900Z"
   },
   {
    "duration": 25,
    "start_time": "2022-06-20T19:07:41.943Z"
   },
   {
    "duration": 15,
    "start_time": "2022-06-20T19:07:47.248Z"
   },
   {
    "duration": 16,
    "start_time": "2022-06-20T19:08:05.155Z"
   },
   {
    "duration": 15,
    "start_time": "2022-06-20T19:08:15.320Z"
   },
   {
    "duration": 13,
    "start_time": "2022-06-20T19:08:45.167Z"
   },
   {
    "duration": 16,
    "start_time": "2022-06-20T19:09:05.567Z"
   },
   {
    "duration": 7,
    "start_time": "2022-06-20T19:41:31.854Z"
   },
   {
    "duration": 23,
    "start_time": "2022-06-20T19:51:17.249Z"
   },
   {
    "duration": 21,
    "start_time": "2022-06-20T19:51:38.824Z"
   },
   {
    "duration": 17,
    "start_time": "2022-06-20T19:54:43.386Z"
   },
   {
    "duration": 5,
    "start_time": "2022-06-20T20:26:38.076Z"
   },
   {
    "duration": 15,
    "start_time": "2022-06-20T20:26:41.258Z"
   },
   {
    "duration": 5,
    "start_time": "2022-06-20T20:26:58.316Z"
   },
   {
    "duration": 14,
    "start_time": "2022-06-20T20:27:02.158Z"
   },
   {
    "duration": 6,
    "start_time": "2022-06-20T20:29:03.154Z"
   },
   {
    "duration": 5,
    "start_time": "2022-06-20T20:29:05.883Z"
   },
   {
    "duration": 7,
    "start_time": "2022-06-20T20:30:50.857Z"
   },
   {
    "duration": 4,
    "start_time": "2022-06-20T20:37:59.318Z"
   },
   {
    "duration": 15,
    "start_time": "2022-06-20T20:53:07.749Z"
   },
   {
    "duration": 5,
    "start_time": "2022-06-20T20:53:32.896Z"
   },
   {
    "duration": 5,
    "start_time": "2022-06-20T20:53:45.278Z"
   },
   {
    "duration": 7,
    "start_time": "2022-06-20T20:56:55.478Z"
   },
   {
    "duration": 12,
    "start_time": "2022-06-20T20:57:06.610Z"
   },
   {
    "duration": 15,
    "start_time": "2022-06-20T20:57:38.765Z"
   },
   {
    "duration": 10,
    "start_time": "2022-06-20T20:57:58.696Z"
   },
   {
    "duration": 11,
    "start_time": "2022-06-20T20:58:37.753Z"
   },
   {
    "duration": 13,
    "start_time": "2022-06-20T20:58:45.563Z"
   },
   {
    "duration": 7,
    "start_time": "2022-06-20T20:59:31.303Z"
   },
   {
    "duration": 12,
    "start_time": "2022-06-20T21:01:49.512Z"
   },
   {
    "duration": 7,
    "start_time": "2022-06-20T21:01:53.950Z"
   },
   {
    "duration": 7,
    "start_time": "2022-06-20T21:01:57.149Z"
   },
   {
    "duration": 347,
    "start_time": "2022-06-20T21:07:20.903Z"
   },
   {
    "duration": 4,
    "start_time": "2022-06-20T21:08:19.031Z"
   },
   {
    "duration": 6,
    "start_time": "2022-06-20T21:08:25.970Z"
   },
   {
    "duration": 13,
    "start_time": "2022-06-20T21:08:57.807Z"
   },
   {
    "duration": 4,
    "start_time": "2022-06-20T21:09:00.699Z"
   },
   {
    "duration": 9,
    "start_time": "2022-06-20T21:09:28.763Z"
   },
   {
    "duration": 5,
    "start_time": "2022-06-20T21:09:32.077Z"
   },
   {
    "duration": 14,
    "start_time": "2022-06-20T21:09:36.754Z"
   },
   {
    "duration": 10,
    "start_time": "2022-06-20T21:10:11.086Z"
   },
   {
    "duration": 6,
    "start_time": "2022-06-20T21:10:13.348Z"
   },
   {
    "duration": 18,
    "start_time": "2022-06-20T21:10:39.978Z"
   },
   {
    "duration": 18,
    "start_time": "2022-06-20T21:10:40.646Z"
   },
   {
    "duration": 4,
    "start_time": "2022-06-20T21:11:12.090Z"
   },
   {
    "duration": 18,
    "start_time": "2022-06-20T21:11:19.579Z"
   },
   {
    "duration": 19,
    "start_time": "2022-06-20T21:11:20.182Z"
   },
   {
    "duration": 18,
    "start_time": "2022-06-20T21:11:37.191Z"
   },
   {
    "duration": 21,
    "start_time": "2022-06-20T21:11:43.176Z"
   },
   {
    "duration": 13,
    "start_time": "2022-06-20T21:11:48.747Z"
   },
   {
    "duration": 14,
    "start_time": "2022-06-20T21:12:47.999Z"
   },
   {
    "duration": 11,
    "start_time": "2022-06-20T21:13:11.656Z"
   },
   {
    "duration": 8,
    "start_time": "2022-06-20T21:13:22.852Z"
   },
   {
    "duration": 8,
    "start_time": "2022-06-20T21:13:26.053Z"
   },
   {
    "duration": 10,
    "start_time": "2022-06-20T21:13:32.459Z"
   },
   {
    "duration": 9,
    "start_time": "2022-06-20T21:13:34.847Z"
   },
   {
    "duration": 80,
    "start_time": "2022-06-20T21:17:56.688Z"
   },
   {
    "duration": 51,
    "start_time": "2022-06-20T21:18:07.852Z"
   },
   {
    "duration": 75,
    "start_time": "2022-06-20T21:18:26.393Z"
   },
   {
    "duration": 68,
    "start_time": "2022-06-20T21:18:40.712Z"
   },
   {
    "duration": 50,
    "start_time": "2022-06-20T21:18:50.251Z"
   },
   {
    "duration": 103,
    "start_time": "2022-06-20T21:18:58.244Z"
   },
   {
    "duration": 13,
    "start_time": "2022-06-20T21:19:02.946Z"
   },
   {
    "duration": 884,
    "start_time": "2022-06-20T21:19:12.590Z"
   },
   {
    "duration": 11,
    "start_time": "2022-06-20T21:19:30.107Z"
   },
   {
    "duration": 1096,
    "start_time": "2022-06-20T21:20:25.298Z"
   },
   {
    "duration": 9,
    "start_time": "2022-06-20T21:20:40.595Z"
   },
   {
    "duration": 13,
    "start_time": "2022-06-20T21:20:50.167Z"
   },
   {
    "duration": 5,
    "start_time": "2022-06-20T21:21:16.353Z"
   },
   {
    "duration": 50,
    "start_time": "2022-06-20T21:21:16.360Z"
   },
   {
    "duration": 4,
    "start_time": "2022-06-20T21:21:16.412Z"
   },
   {
    "duration": 18,
    "start_time": "2022-06-20T21:21:16.418Z"
   },
   {
    "duration": 48,
    "start_time": "2022-06-20T21:21:16.438Z"
   },
   {
    "duration": 92,
    "start_time": "2022-06-20T21:21:16.488Z"
   },
   {
    "duration": 4,
    "start_time": "2022-06-20T21:21:16.582Z"
   },
   {
    "duration": 33,
    "start_time": "2022-06-20T21:21:16.588Z"
   },
   {
    "duration": 46,
    "start_time": "2022-06-20T21:21:16.623Z"
   },
   {
    "duration": 11,
    "start_time": "2022-06-20T21:21:16.671Z"
   },
   {
    "duration": 322,
    "start_time": "2022-06-20T21:21:16.684Z"
   },
   {
    "duration": 284,
    "start_time": "2022-06-20T21:21:17.007Z"
   },
   {
    "duration": 265,
    "start_time": "2022-06-20T21:21:17.294Z"
   },
   {
    "duration": 336,
    "start_time": "2022-06-20T21:21:17.562Z"
   },
   {
    "duration": 303,
    "start_time": "2022-06-20T21:21:17.899Z"
   },
   {
    "duration": 355,
    "start_time": "2022-06-20T21:21:18.203Z"
   },
   {
    "duration": 16,
    "start_time": "2022-06-20T21:21:18.560Z"
   },
   {
    "duration": 184,
    "start_time": "2022-06-20T21:21:18.578Z"
   },
   {
    "duration": 173,
    "start_time": "2022-06-20T21:21:18.766Z"
   },
   {
    "duration": 10,
    "start_time": "2022-06-20T21:21:18.950Z"
   },
   {
    "duration": 23,
    "start_time": "2022-06-20T21:21:18.962Z"
   },
   {
    "duration": 22,
    "start_time": "2022-06-20T21:21:18.987Z"
   },
   {
    "duration": 52,
    "start_time": "2022-06-20T21:21:19.011Z"
   },
   {
    "duration": 28,
    "start_time": "2022-06-20T21:21:19.065Z"
   },
   {
    "duration": 20,
    "start_time": "2022-06-20T21:21:19.095Z"
   },
   {
    "duration": 77,
    "start_time": "2022-06-20T21:21:19.117Z"
   },
   {
    "duration": 15,
    "start_time": "2022-06-20T21:21:19.196Z"
   },
   {
    "duration": 55,
    "start_time": "2022-06-20T21:21:19.213Z"
   },
   {
    "duration": 49,
    "start_time": "2022-06-20T21:21:19.270Z"
   },
   {
    "duration": 1516,
    "start_time": "2022-06-21T19:31:33.665Z"
   },
   {
    "duration": 94,
    "start_time": "2022-06-21T19:31:43.314Z"
   },
   {
    "duration": 7,
    "start_time": "2022-06-21T19:31:46.387Z"
   },
   {
    "duration": 113,
    "start_time": "2022-06-21T19:32:15.110Z"
   },
   {
    "duration": 3,
    "start_time": "2022-06-21T19:32:20.808Z"
   },
   {
    "duration": 31,
    "start_time": "2022-06-21T19:32:21.493Z"
   },
   {
    "duration": 5,
    "start_time": "2022-06-21T19:32:22.390Z"
   },
   {
    "duration": 12,
    "start_time": "2022-06-21T19:32:23.707Z"
   },
   {
    "duration": 10,
    "start_time": "2022-06-21T19:32:28.521Z"
   },
   {
    "duration": 13,
    "start_time": "2022-06-21T19:32:44.626Z"
   },
   {
    "duration": 197,
    "start_time": "2022-06-21T19:33:10.446Z"
   },
   {
    "duration": 7,
    "start_time": "2022-06-21T19:33:18.481Z"
   },
   {
    "duration": 24,
    "start_time": "2022-06-21T19:33:25.597Z"
   },
   {
    "duration": 6,
    "start_time": "2022-06-21T19:33:39.510Z"
   },
   {
    "duration": 8,
    "start_time": "2022-06-21T19:33:42.090Z"
   },
   {
    "duration": 300,
    "start_time": "2022-06-21T19:48:17.692Z"
   },
   {
    "duration": 334,
    "start_time": "2022-06-21T19:58:48.045Z"
   },
   {
    "duration": 477,
    "start_time": "2022-06-21T19:58:54.650Z"
   },
   {
    "duration": 253,
    "start_time": "2022-06-21T19:59:01.578Z"
   },
   {
    "duration": 210,
    "start_time": "2022-06-21T20:12:47.244Z"
   },
   {
    "duration": 23,
    "start_time": "2022-06-21T21:34:51.766Z"
   },
   {
    "duration": 4,
    "start_time": "2022-06-21T21:34:55.619Z"
   },
   {
    "duration": 56,
    "start_time": "2022-06-21T21:34:55.628Z"
   },
   {
    "duration": 3,
    "start_time": "2022-06-21T21:34:55.687Z"
   },
   {
    "duration": 14,
    "start_time": "2022-06-21T21:34:55.692Z"
   },
   {
    "duration": 21,
    "start_time": "2022-06-21T21:34:55.708Z"
   },
   {
    "duration": 82,
    "start_time": "2022-06-21T21:34:55.731Z"
   },
   {
    "duration": 4,
    "start_time": "2022-06-21T21:34:55.815Z"
   },
   {
    "duration": 24,
    "start_time": "2022-06-21T21:34:55.821Z"
   },
   {
    "duration": 9,
    "start_time": "2022-06-21T21:34:55.847Z"
   },
   {
    "duration": 29,
    "start_time": "2022-06-21T21:34:55.858Z"
   },
   {
    "duration": 348,
    "start_time": "2022-06-21T21:34:55.890Z"
   },
   {
    "duration": 292,
    "start_time": "2022-06-21T21:34:56.241Z"
   },
   {
    "duration": 235,
    "start_time": "2022-06-21T21:34:56.535Z"
   },
   {
    "duration": 343,
    "start_time": "2022-06-21T21:34:56.772Z"
   },
   {
    "duration": 372,
    "start_time": "2022-06-21T21:34:57.116Z"
   },
   {
    "duration": 330,
    "start_time": "2022-06-21T21:34:57.490Z"
   },
   {
    "duration": 13,
    "start_time": "2022-06-21T21:34:57.822Z"
   },
   {
    "duration": 166,
    "start_time": "2022-06-21T21:34:57.837Z"
   },
   {
    "duration": 155,
    "start_time": "2022-06-21T21:34:58.005Z"
   },
   {
    "duration": 8,
    "start_time": "2022-06-21T21:34:58.169Z"
   },
   {
    "duration": 13,
    "start_time": "2022-06-21T21:34:58.179Z"
   },
   {
    "duration": 29,
    "start_time": "2022-06-21T21:34:58.194Z"
   },
   {
    "duration": 31,
    "start_time": "2022-06-21T21:34:58.225Z"
   },
   {
    "duration": 18,
    "start_time": "2022-06-21T21:34:58.258Z"
   },
   {
    "duration": 12,
    "start_time": "2022-06-21T21:34:58.278Z"
   },
   {
    "duration": 26,
    "start_time": "2022-06-21T21:34:58.292Z"
   },
   {
    "duration": 8,
    "start_time": "2022-06-21T21:34:58.320Z"
   },
   {
    "duration": 25,
    "start_time": "2022-06-21T21:34:58.330Z"
   },
   {
    "duration": 17,
    "start_time": "2022-06-21T21:34:58.367Z"
   },
   {
    "duration": 179,
    "start_time": "2022-06-21T21:39:44.986Z"
   },
   {
    "duration": 171,
    "start_time": "2022-06-21T21:39:51.641Z"
   },
   {
    "duration": 188,
    "start_time": "2022-06-21T21:39:59.308Z"
   },
   {
    "duration": 238,
    "start_time": "2022-06-21T21:40:08.859Z"
   },
   {
    "duration": 161,
    "start_time": "2022-06-21T21:40:23.264Z"
   },
   {
    "duration": 75,
    "start_time": "2022-06-24T19:16:05.859Z"
   },
   {
    "duration": 1406,
    "start_time": "2022-06-24T19:16:15.017Z"
   },
   {
    "duration": 77,
    "start_time": "2022-06-24T19:16:16.425Z"
   },
   {
    "duration": 4,
    "start_time": "2022-06-24T19:16:16.504Z"
   },
   {
    "duration": 16,
    "start_time": "2022-06-24T19:16:16.510Z"
   },
   {
    "duration": 12,
    "start_time": "2022-06-24T19:16:16.527Z"
   },
   {
    "duration": 157,
    "start_time": "2022-06-24T19:16:16.540Z"
   },
   {
    "duration": 4,
    "start_time": "2022-06-24T19:16:16.699Z"
   },
   {
    "duration": 37,
    "start_time": "2022-06-24T19:16:16.705Z"
   },
   {
    "duration": 9,
    "start_time": "2022-06-24T19:16:16.744Z"
   },
   {
    "duration": 18,
    "start_time": "2022-06-24T19:16:16.757Z"
   },
   {
    "duration": 356,
    "start_time": "2022-06-24T19:16:16.776Z"
   },
   {
    "duration": 367,
    "start_time": "2022-06-24T19:16:17.134Z"
   },
   {
    "duration": 238,
    "start_time": "2022-06-24T19:16:17.503Z"
   },
   {
    "duration": 393,
    "start_time": "2022-06-24T19:16:17.743Z"
   },
   {
    "duration": 272,
    "start_time": "2022-06-24T19:16:18.138Z"
   },
   {
    "duration": 350,
    "start_time": "2022-06-24T19:16:18.412Z"
   },
   {
    "duration": 13,
    "start_time": "2022-06-24T19:16:18.764Z"
   },
   {
    "duration": 193,
    "start_time": "2022-06-24T19:16:18.780Z"
   },
   {
    "duration": 160,
    "start_time": "2022-06-24T19:16:18.975Z"
   },
   {
    "duration": 7,
    "start_time": "2022-06-24T19:16:19.136Z"
   },
   {
    "duration": 15,
    "start_time": "2022-06-24T19:16:19.145Z"
   },
   {
    "duration": 18,
    "start_time": "2022-06-24T19:16:19.162Z"
   },
   {
    "duration": 7,
    "start_time": "2022-06-24T19:16:19.182Z"
   },
   {
    "duration": 8,
    "start_time": "2022-06-24T19:16:19.191Z"
   },
   {
    "duration": 45,
    "start_time": "2022-06-24T19:16:19.201Z"
   },
   {
    "duration": 7,
    "start_time": "2022-06-24T19:16:19.248Z"
   },
   {
    "duration": 11,
    "start_time": "2022-06-24T19:16:19.256Z"
   },
   {
    "duration": 13,
    "start_time": "2022-06-24T19:16:19.271Z"
   },
   {
    "duration": 16,
    "start_time": "2022-06-24T20:28:49.361Z"
   },
   {
    "duration": 11,
    "start_time": "2022-06-24T20:29:47.489Z"
   },
   {
    "duration": 11,
    "start_time": "2022-06-24T20:31:37.200Z"
   },
   {
    "duration": 17,
    "start_time": "2022-06-24T20:33:30.695Z"
   },
   {
    "duration": 5,
    "start_time": "2022-06-24T20:46:35.414Z"
   },
   {
    "duration": 7,
    "start_time": "2022-06-24T20:48:05.050Z"
   },
   {
    "duration": 21,
    "start_time": "2022-06-24T21:01:04.986Z"
   },
   {
    "duration": 15,
    "start_time": "2022-06-24T21:07:20.382Z"
   },
   {
    "duration": 4,
    "start_time": "2022-06-24T21:07:48.718Z"
   },
   {
    "duration": 5,
    "start_time": "2022-06-24T21:07:50.487Z"
   },
   {
    "duration": 3,
    "start_time": "2022-06-24T21:35:39.756Z"
   },
   {
    "duration": 74,
    "start_time": "2022-06-24T21:47:19.357Z"
   },
   {
    "duration": 6,
    "start_time": "2022-06-24T21:47:26.872Z"
   },
   {
    "duration": 47,
    "start_time": "2022-06-24T21:47:26.882Z"
   },
   {
    "duration": 6,
    "start_time": "2022-06-24T21:47:26.931Z"
   },
   {
    "duration": 18,
    "start_time": "2022-06-24T21:47:26.938Z"
   },
   {
    "duration": 13,
    "start_time": "2022-06-24T21:47:26.958Z"
   },
   {
    "duration": 67,
    "start_time": "2022-06-24T21:47:26.973Z"
   },
   {
    "duration": 4,
    "start_time": "2022-06-24T21:47:27.042Z"
   },
   {
    "duration": 24,
    "start_time": "2022-06-24T21:47:27.048Z"
   },
   {
    "duration": 8,
    "start_time": "2022-06-24T21:47:27.074Z"
   },
   {
    "duration": 12,
    "start_time": "2022-06-24T21:47:27.084Z"
   },
   {
    "duration": 351,
    "start_time": "2022-06-24T21:47:27.099Z"
   },
   {
    "duration": 362,
    "start_time": "2022-06-24T21:47:27.451Z"
   },
   {
    "duration": 241,
    "start_time": "2022-06-24T21:47:27.814Z"
   },
   {
    "duration": 430,
    "start_time": "2022-06-24T21:47:28.057Z"
   },
   {
    "duration": 280,
    "start_time": "2022-06-24T21:47:28.489Z"
   },
   {
    "duration": 388,
    "start_time": "2022-06-24T21:47:28.771Z"
   },
   {
    "duration": 13,
    "start_time": "2022-06-24T21:47:29.161Z"
   },
   {
    "duration": 215,
    "start_time": "2022-06-24T21:47:29.176Z"
   },
   {
    "duration": 183,
    "start_time": "2022-06-24T21:47:29.393Z"
   },
   {
    "duration": 20,
    "start_time": "2022-06-24T21:47:29.578Z"
   },
   {
    "duration": 18,
    "start_time": "2022-06-24T21:47:29.600Z"
   },
   {
    "duration": 24,
    "start_time": "2022-06-24T21:47:29.620Z"
   },
   {
    "duration": 26,
    "start_time": "2022-06-24T21:47:29.646Z"
   },
   {
    "duration": 15,
    "start_time": "2022-06-24T21:47:29.674Z"
   },
   {
    "duration": 12,
    "start_time": "2022-06-24T21:47:29.692Z"
   },
   {
    "duration": 18,
    "start_time": "2022-06-24T21:48:18.443Z"
   },
   {
    "duration": 9,
    "start_time": "2022-06-24T21:49:35.843Z"
   },
   {
    "duration": 8,
    "start_time": "2022-06-24T21:49:45.399Z"
   },
   {
    "duration": 8,
    "start_time": "2022-06-24T21:49:58.481Z"
   },
   {
    "duration": 16,
    "start_time": "2022-06-24T21:55:52.756Z"
   },
   {
    "duration": 16,
    "start_time": "2022-06-24T21:56:29.092Z"
   },
   {
    "duration": 4,
    "start_time": "2022-06-24T22:14:46.876Z"
   },
   {
    "duration": 38,
    "start_time": "2022-06-24T22:14:46.883Z"
   },
   {
    "duration": 3,
    "start_time": "2022-06-24T22:14:46.923Z"
   },
   {
    "duration": 14,
    "start_time": "2022-06-24T22:14:46.928Z"
   },
   {
    "duration": 12,
    "start_time": "2022-06-24T22:14:46.943Z"
   },
   {
    "duration": 60,
    "start_time": "2022-06-24T22:14:46.957Z"
   },
   {
    "duration": 4,
    "start_time": "2022-06-24T22:14:47.018Z"
   },
   {
    "duration": 20,
    "start_time": "2022-06-24T22:14:47.023Z"
   },
   {
    "duration": 7,
    "start_time": "2022-06-24T22:14:47.046Z"
   },
   {
    "duration": 11,
    "start_time": "2022-06-24T22:14:47.054Z"
   },
   {
    "duration": 374,
    "start_time": "2022-06-24T22:14:47.067Z"
   },
   {
    "duration": 319,
    "start_time": "2022-06-24T22:14:47.443Z"
   },
   {
    "duration": 265,
    "start_time": "2022-06-24T22:14:47.764Z"
   },
   {
    "duration": 361,
    "start_time": "2022-06-24T22:14:48.031Z"
   },
   {
    "duration": 302,
    "start_time": "2022-06-24T22:14:48.395Z"
   },
   {
    "duration": 449,
    "start_time": "2022-06-24T22:14:48.699Z"
   },
   {
    "duration": 12,
    "start_time": "2022-06-24T22:14:49.149Z"
   },
   {
    "duration": 191,
    "start_time": "2022-06-24T22:14:49.163Z"
   },
   {
    "duration": 172,
    "start_time": "2022-06-24T22:14:49.357Z"
   },
   {
    "duration": 20,
    "start_time": "2022-06-24T22:14:49.531Z"
   },
   {
    "duration": 14,
    "start_time": "2022-06-24T22:14:49.553Z"
   },
   {
    "duration": 9,
    "start_time": "2022-06-24T22:14:49.569Z"
   },
   {
    "duration": 20,
    "start_time": "2022-06-24T22:14:49.580Z"
   },
   {
    "duration": 42,
    "start_time": "2022-06-24T22:14:49.604Z"
   },
   {
    "duration": 18,
    "start_time": "2022-06-24T22:14:49.648Z"
   },
   {
    "duration": 4,
    "start_time": "2022-06-24T22:35:15.858Z"
   },
   {
    "duration": 38,
    "start_time": "2022-06-24T22:35:15.864Z"
   },
   {
    "duration": 3,
    "start_time": "2022-06-24T22:35:15.904Z"
   },
   {
    "duration": 15,
    "start_time": "2022-06-24T22:35:15.909Z"
   },
   {
    "duration": 12,
    "start_time": "2022-06-24T22:35:15.927Z"
   },
   {
    "duration": 61,
    "start_time": "2022-06-24T22:35:15.941Z"
   },
   {
    "duration": 3,
    "start_time": "2022-06-24T22:35:16.004Z"
   },
   {
    "duration": 22,
    "start_time": "2022-06-24T22:35:16.008Z"
   },
   {
    "duration": 7,
    "start_time": "2022-06-24T22:35:16.032Z"
   },
   {
    "duration": 11,
    "start_time": "2022-06-24T22:35:16.041Z"
   },
   {
    "duration": 306,
    "start_time": "2022-06-24T22:35:16.054Z"
   },
   {
    "duration": 249,
    "start_time": "2022-06-24T22:35:16.362Z"
   },
   {
    "duration": 307,
    "start_time": "2022-06-24T22:35:16.614Z"
   },
   {
    "duration": 332,
    "start_time": "2022-06-24T22:35:16.925Z"
   },
   {
    "duration": 281,
    "start_time": "2022-06-24T22:35:17.259Z"
   },
   {
    "duration": 323,
    "start_time": "2022-06-24T22:35:17.542Z"
   },
   {
    "duration": 12,
    "start_time": "2022-06-24T22:35:17.868Z"
   },
   {
    "duration": 185,
    "start_time": "2022-06-24T22:35:17.882Z"
   },
   {
    "duration": 170,
    "start_time": "2022-06-24T22:35:18.069Z"
   },
   {
    "duration": 108,
    "start_time": "2022-06-24T22:35:18.242Z"
   },
   {
    "duration": 17,
    "start_time": "2022-06-24T22:35:18.353Z"
   },
   {
    "duration": 7,
    "start_time": "2022-06-24T22:35:18.372Z"
   },
   {
    "duration": 22,
    "start_time": "2022-06-24T22:35:18.381Z"
   },
   {
    "duration": 47,
    "start_time": "2022-06-24T22:35:18.405Z"
   },
   {
    "duration": 17,
    "start_time": "2022-06-24T22:35:18.454Z"
   },
   {
    "duration": 3,
    "start_time": "2022-06-24T22:43:54.417Z"
   },
   {
    "duration": 39,
    "start_time": "2022-06-24T22:43:54.424Z"
   },
   {
    "duration": 4,
    "start_time": "2022-06-24T22:43:54.465Z"
   },
   {
    "duration": 18,
    "start_time": "2022-06-24T22:43:54.470Z"
   },
   {
    "duration": 14,
    "start_time": "2022-06-24T22:43:54.491Z"
   },
   {
    "duration": 62,
    "start_time": "2022-06-24T22:43:54.507Z"
   },
   {
    "duration": 4,
    "start_time": "2022-06-24T22:43:54.571Z"
   },
   {
    "duration": 25,
    "start_time": "2022-06-24T22:43:54.576Z"
   },
   {
    "duration": 5,
    "start_time": "2022-06-24T22:43:54.603Z"
   },
   {
    "duration": 10,
    "start_time": "2022-06-24T22:43:54.610Z"
   },
   {
    "duration": 317,
    "start_time": "2022-06-24T22:43:54.622Z"
   },
   {
    "duration": 270,
    "start_time": "2022-06-24T22:43:54.942Z"
   },
   {
    "duration": 231,
    "start_time": "2022-06-24T22:43:55.214Z"
   },
   {
    "duration": 322,
    "start_time": "2022-06-24T22:43:55.447Z"
   },
   {
    "duration": 261,
    "start_time": "2022-06-24T22:43:55.771Z"
   },
   {
    "duration": 334,
    "start_time": "2022-06-24T22:43:56.034Z"
   },
   {
    "duration": 12,
    "start_time": "2022-06-24T22:43:56.370Z"
   },
   {
    "duration": 180,
    "start_time": "2022-06-24T22:43:56.384Z"
   },
   {
    "duration": 188,
    "start_time": "2022-06-24T22:43:56.566Z"
   },
   {
    "duration": 19,
    "start_time": "2022-06-24T22:43:56.755Z"
   },
   {
    "duration": 18,
    "start_time": "2022-06-24T22:43:56.777Z"
   },
   {
    "duration": 11,
    "start_time": "2022-06-24T22:43:56.798Z"
   },
   {
    "duration": 47,
    "start_time": "2022-06-24T22:43:56.811Z"
   },
   {
    "duration": 17,
    "start_time": "2022-06-24T22:43:56.861Z"
   },
   {
    "duration": 15,
    "start_time": "2022-06-24T22:43:56.880Z"
   },
   {
    "duration": 1327,
    "start_time": "2022-06-25T07:49:03.598Z"
   },
   {
    "duration": 67,
    "start_time": "2022-06-25T07:49:04.927Z"
   },
   {
    "duration": 5,
    "start_time": "2022-06-25T07:49:04.997Z"
   },
   {
    "duration": 24,
    "start_time": "2022-06-25T07:49:05.003Z"
   },
   {
    "duration": 13,
    "start_time": "2022-06-25T07:49:05.030Z"
   },
   {
    "duration": 109,
    "start_time": "2022-06-25T07:49:05.045Z"
   },
   {
    "duration": 4,
    "start_time": "2022-06-25T07:49:05.157Z"
   },
   {
    "duration": 35,
    "start_time": "2022-06-25T07:49:05.163Z"
   },
   {
    "duration": 10,
    "start_time": "2022-06-25T07:49:05.201Z"
   },
   {
    "duration": 31,
    "start_time": "2022-06-25T07:49:05.213Z"
   },
   {
    "duration": 330,
    "start_time": "2022-06-25T07:49:05.246Z"
   },
   {
    "duration": 367,
    "start_time": "2022-06-25T07:49:05.578Z"
   },
   {
    "duration": 221,
    "start_time": "2022-06-25T07:49:05.947Z"
   },
   {
    "duration": 398,
    "start_time": "2022-06-25T07:49:06.171Z"
   },
   {
    "duration": 321,
    "start_time": "2022-06-25T07:49:06.571Z"
   },
   {
    "duration": 377,
    "start_time": "2022-06-25T07:49:06.894Z"
   },
   {
    "duration": 12,
    "start_time": "2022-06-25T07:49:07.273Z"
   },
   {
    "duration": 223,
    "start_time": "2022-06-25T07:49:07.287Z"
   },
   {
    "duration": 187,
    "start_time": "2022-06-25T07:49:07.513Z"
   },
   {
    "duration": 16,
    "start_time": "2022-06-25T07:49:07.702Z"
   },
   {
    "duration": 30,
    "start_time": "2022-06-25T07:49:07.719Z"
   },
   {
    "duration": 11,
    "start_time": "2022-06-25T07:49:07.751Z"
   },
   {
    "duration": 25,
    "start_time": "2022-06-25T07:49:07.764Z"
   },
   {
    "duration": 15,
    "start_time": "2022-06-25T07:49:07.791Z"
   },
   {
    "duration": 43,
    "start_time": "2022-06-25T07:49:07.808Z"
   },
   {
    "duration": 1134,
    "start_time": "2022-06-25T07:49:45.183Z"
   },
   {
    "duration": 40,
    "start_time": "2022-06-25T07:49:46.320Z"
   },
   {
    "duration": 4,
    "start_time": "2022-06-25T07:49:46.362Z"
   },
   {
    "duration": 16,
    "start_time": "2022-06-25T07:49:46.368Z"
   },
   {
    "duration": 12,
    "start_time": "2022-06-25T07:49:46.387Z"
   },
   {
    "duration": 64,
    "start_time": "2022-06-25T07:49:46.402Z"
   },
   {
    "duration": 5,
    "start_time": "2022-06-25T07:49:46.468Z"
   },
   {
    "duration": 23,
    "start_time": "2022-06-25T07:49:46.475Z"
   },
   {
    "duration": 10,
    "start_time": "2022-06-25T07:49:46.501Z"
   },
   {
    "duration": 12,
    "start_time": "2022-06-25T07:49:46.513Z"
   },
   {
    "duration": 386,
    "start_time": "2022-06-25T07:49:46.542Z"
   },
   {
    "duration": 405,
    "start_time": "2022-06-25T07:49:46.930Z"
   },
   {
    "duration": 340,
    "start_time": "2022-06-25T07:49:47.341Z"
   },
   {
    "duration": 367,
    "start_time": "2022-06-25T07:49:47.686Z"
   },
   {
    "duration": 291,
    "start_time": "2022-06-25T07:49:48.056Z"
   },
   {
    "duration": 336,
    "start_time": "2022-06-25T07:49:48.349Z"
   },
   {
    "duration": 13,
    "start_time": "2022-06-25T07:49:48.686Z"
   },
   {
    "duration": 191,
    "start_time": "2022-06-25T07:49:48.701Z"
   },
   {
    "duration": 167,
    "start_time": "2022-06-25T07:49:48.894Z"
   },
   {
    "duration": 15,
    "start_time": "2022-06-25T07:49:49.063Z"
   },
   {
    "duration": 17,
    "start_time": "2022-06-25T07:49:49.080Z"
   },
   {
    "duration": 6,
    "start_time": "2022-06-25T07:49:49.099Z"
   },
   {
    "duration": 52,
    "start_time": "2022-06-25T07:49:49.106Z"
   },
   {
    "duration": 15,
    "start_time": "2022-06-25T07:49:49.160Z"
   },
   {
    "duration": 16,
    "start_time": "2022-06-25T07:49:49.177Z"
   },
   {
    "duration": 1444,
    "start_time": "2022-06-25T07:55:03.213Z"
   },
   {
    "duration": 37,
    "start_time": "2022-06-25T07:55:04.660Z"
   },
   {
    "duration": 5,
    "start_time": "2022-06-25T07:55:04.699Z"
   },
   {
    "duration": 22,
    "start_time": "2022-06-25T07:55:04.706Z"
   },
   {
    "duration": 19,
    "start_time": "2022-06-25T07:55:04.732Z"
   },
   {
    "duration": 73,
    "start_time": "2022-06-25T07:55:04.753Z"
   },
   {
    "duration": 4,
    "start_time": "2022-06-25T07:55:04.829Z"
   },
   {
    "duration": 34,
    "start_time": "2022-06-25T07:55:04.836Z"
   },
   {
    "duration": 21,
    "start_time": "2022-06-25T07:55:04.872Z"
   },
   {
    "duration": 12,
    "start_time": "2022-06-25T07:55:04.895Z"
   },
   {
    "duration": 335,
    "start_time": "2022-06-25T07:55:04.910Z"
   },
   {
    "duration": 819,
    "start_time": "2022-06-25T07:55:05.247Z"
   },
   {
    "duration": 576,
    "start_time": "2022-06-25T07:55:06.069Z"
   },
   {
    "duration": 491,
    "start_time": "2022-06-25T07:55:06.650Z"
   },
   {
    "duration": 420,
    "start_time": "2022-06-25T07:55:07.144Z"
   },
   {
    "duration": 446,
    "start_time": "2022-06-25T07:55:07.566Z"
   },
   {
    "duration": 37,
    "start_time": "2022-06-25T07:55:08.015Z"
   },
   {
    "duration": 193,
    "start_time": "2022-06-25T07:55:08.055Z"
   },
   {
    "duration": 172,
    "start_time": "2022-06-25T07:55:08.250Z"
   },
   {
    "duration": 22,
    "start_time": "2022-06-25T07:55:08.424Z"
   },
   {
    "duration": 20,
    "start_time": "2022-06-25T07:55:08.449Z"
   },
   {
    "duration": 7,
    "start_time": "2022-06-25T07:55:08.472Z"
   },
   {
    "duration": 28,
    "start_time": "2022-06-25T07:55:08.482Z"
   },
   {
    "duration": 39,
    "start_time": "2022-06-25T07:55:08.512Z"
   },
   {
    "duration": 41,
    "start_time": "2022-06-25T07:55:08.555Z"
   },
   {
    "duration": 50,
    "start_time": "2022-06-26T17:46:08.053Z"
   },
   {
    "duration": 1334,
    "start_time": "2022-06-26T17:46:11.258Z"
   },
   {
    "duration": 107,
    "start_time": "2022-06-26T17:46:12.594Z"
   },
   {
    "duration": 3,
    "start_time": "2022-06-26T17:46:12.703Z"
   },
   {
    "duration": 16,
    "start_time": "2022-06-26T17:46:12.709Z"
   },
   {
    "duration": 14,
    "start_time": "2022-06-26T17:46:12.727Z"
   },
   {
    "duration": 171,
    "start_time": "2022-06-26T17:46:12.742Z"
   },
   {
    "duration": 3,
    "start_time": "2022-06-26T17:46:12.915Z"
   },
   {
    "duration": 29,
    "start_time": "2022-06-26T17:46:12.920Z"
   },
   {
    "duration": 13,
    "start_time": "2022-06-26T17:46:12.951Z"
   },
   {
    "duration": 10,
    "start_time": "2022-06-26T17:46:12.967Z"
   },
   {
    "duration": 315,
    "start_time": "2022-06-26T17:46:12.979Z"
   },
   {
    "duration": 335,
    "start_time": "2022-06-26T17:46:13.296Z"
   },
   {
    "duration": 237,
    "start_time": "2022-06-26T17:46:13.633Z"
   },
   {
    "duration": 403,
    "start_time": "2022-06-26T17:46:13.872Z"
   },
   {
    "duration": 241,
    "start_time": "2022-06-26T17:46:14.277Z"
   },
   {
    "duration": 325,
    "start_time": "2022-06-26T17:46:14.519Z"
   },
   {
    "duration": 11,
    "start_time": "2022-06-26T17:46:14.852Z"
   },
   {
    "duration": 171,
    "start_time": "2022-06-26T17:46:14.865Z"
   },
   {
    "duration": 179,
    "start_time": "2022-06-26T17:46:15.038Z"
   },
   {
    "duration": 155,
    "start_time": "2022-06-26T17:46:15.219Z"
   },
   {
    "duration": 84,
    "start_time": "2022-06-26T17:46:15.376Z"
   },
   {
    "duration": 13,
    "start_time": "2022-06-26T17:46:15.462Z"
   },
   {
    "duration": 5,
    "start_time": "2022-06-26T17:46:15.477Z"
   },
   {
    "duration": 21,
    "start_time": "2022-06-26T17:46:15.484Z"
   },
   {
    "duration": 14,
    "start_time": "2022-06-26T17:46:15.507Z"
   },
   {
    "duration": 22,
    "start_time": "2022-06-26T17:46:15.552Z"
   },
   {
    "duration": 144,
    "start_time": "2022-06-26T17:46:44.805Z"
   },
   {
    "duration": 184,
    "start_time": "2022-06-26T17:47:05.801Z"
   },
   {
    "duration": 213,
    "start_time": "2022-06-26T17:48:40.862Z"
   },
   {
    "duration": 176,
    "start_time": "2022-06-26T17:52:05.524Z"
   },
   {
    "duration": 187,
    "start_time": "2022-06-26T17:52:13.436Z"
   },
   {
    "duration": 164,
    "start_time": "2022-06-26T17:52:27.216Z"
   },
   {
    "duration": 239,
    "start_time": "2022-06-26T17:53:27.591Z"
   },
   {
    "duration": 185,
    "start_time": "2022-06-26T17:53:34.540Z"
   },
   {
    "duration": 180,
    "start_time": "2022-06-26T17:53:47.888Z"
   },
   {
    "duration": 0,
    "start_time": "2022-06-26T17:54:20.338Z"
   },
   {
    "duration": 172,
    "start_time": "2022-06-26T17:54:22.049Z"
   },
   {
    "duration": 161,
    "start_time": "2022-06-26T17:54:32.616Z"
   },
   {
    "duration": 0,
    "start_time": "2022-06-26T17:54:56.507Z"
   },
   {
    "duration": 142,
    "start_time": "2022-06-26T17:54:57.632Z"
   },
   {
    "duration": 162,
    "start_time": "2022-06-26T17:55:05.536Z"
   },
   {
    "duration": 188,
    "start_time": "2022-06-26T17:55:15.062Z"
   },
   {
    "duration": 1797,
    "start_time": "2022-06-26T17:55:21.918Z"
   },
   {
    "duration": 234,
    "start_time": "2022-06-26T17:56:10.502Z"
   },
   {
    "duration": 183,
    "start_time": "2022-06-26T17:56:17.785Z"
   },
   {
    "duration": 179,
    "start_time": "2022-06-26T17:57:16.124Z"
   },
   {
    "duration": 162,
    "start_time": "2022-06-26T17:57:22.337Z"
   },
   {
    "duration": 188,
    "start_time": "2022-06-26T17:57:27.996Z"
   },
   {
    "duration": 171,
    "start_time": "2022-06-26T17:57:34.509Z"
   },
   {
    "duration": 175,
    "start_time": "2022-06-26T18:13:42.940Z"
   },
   {
    "duration": 13,
    "start_time": "2022-06-26T18:13:49.866Z"
   },
   {
    "duration": 179,
    "start_time": "2022-06-26T18:13:55.137Z"
   },
   {
    "duration": 186,
    "start_time": "2022-06-26T18:14:08.218Z"
   },
   {
    "duration": 215,
    "start_time": "2022-06-26T18:14:15.783Z"
   },
   {
    "duration": 1179,
    "start_time": "2022-06-26T18:14:24.570Z"
   },
   {
    "duration": 1360,
    "start_time": "2022-06-26T18:14:37.611Z"
   },
   {
    "duration": 169,
    "start_time": "2022-06-26T18:15:02.315Z"
   },
   {
    "duration": 148,
    "start_time": "2022-06-26T18:15:17.642Z"
   },
   {
    "duration": 160,
    "start_time": "2022-06-26T18:15:22.446Z"
   },
   {
    "duration": 199,
    "start_time": "2022-06-26T18:15:41.288Z"
   },
   {
    "duration": 2981,
    "start_time": "2022-06-26T18:16:18.612Z"
   },
   {
    "duration": 1352,
    "start_time": "2022-06-26T18:16:32.648Z"
   },
   {
    "duration": 1342,
    "start_time": "2022-06-26T18:16:55.569Z"
   },
   {
    "duration": 1377,
    "start_time": "2022-06-26T18:17:03.259Z"
   },
   {
    "duration": 1423,
    "start_time": "2022-06-26T18:19:29.261Z"
   },
   {
    "duration": 1430,
    "start_time": "2022-06-26T18:19:32.771Z"
   },
   {
    "duration": 1407,
    "start_time": "2022-06-26T18:19:43.314Z"
   },
   {
    "duration": 1389,
    "start_time": "2022-06-26T18:19:51.761Z"
   },
   {
    "duration": 153,
    "start_time": "2022-06-26T18:23:11.400Z"
   },
   {
    "duration": 143,
    "start_time": "2022-06-26T18:23:32.171Z"
   },
   {
    "duration": 152,
    "start_time": "2022-06-26T18:23:44.928Z"
   },
   {
    "duration": 4,
    "start_time": "2022-06-26T18:25:50.001Z"
   },
   {
    "duration": 4,
    "start_time": "2022-06-26T18:25:58.930Z"
   },
   {
    "duration": 5,
    "start_time": "2022-06-26T18:28:40.020Z"
   },
   {
    "duration": 3,
    "start_time": "2022-06-26T18:28:45.833Z"
   },
   {
    "duration": 1509,
    "start_time": "2022-06-26T18:30:43.570Z"
   },
   {
    "duration": 154,
    "start_time": "2022-06-26T18:31:10.542Z"
   },
   {
    "duration": 45,
    "start_time": "2022-06-26T20:41:47.955Z"
   },
   {
    "duration": 1311,
    "start_time": "2022-06-26T20:41:51.965Z"
   },
   {
    "duration": 46,
    "start_time": "2022-06-26T20:41:53.278Z"
   },
   {
    "duration": 5,
    "start_time": "2022-06-26T20:41:53.325Z"
   },
   {
    "duration": 30,
    "start_time": "2022-06-26T20:41:53.333Z"
   },
   {
    "duration": 12,
    "start_time": "2022-06-26T20:41:53.365Z"
   },
   {
    "duration": 94,
    "start_time": "2022-06-26T20:41:53.379Z"
   },
   {
    "duration": 4,
    "start_time": "2022-06-26T20:41:53.475Z"
   },
   {
    "duration": 21,
    "start_time": "2022-06-26T20:41:53.481Z"
   },
   {
    "duration": 5,
    "start_time": "2022-06-26T20:41:53.504Z"
   },
   {
    "duration": 9,
    "start_time": "2022-06-26T20:41:53.512Z"
   },
   {
    "duration": 341,
    "start_time": "2022-06-26T20:41:53.522Z"
   },
   {
    "duration": 344,
    "start_time": "2022-06-26T20:41:53.865Z"
   },
   {
    "duration": 223,
    "start_time": "2022-06-26T20:41:54.212Z"
   },
   {
    "duration": 363,
    "start_time": "2022-06-26T20:41:54.438Z"
   },
   {
    "duration": 243,
    "start_time": "2022-06-26T20:41:54.802Z"
   },
   {
    "duration": 293,
    "start_time": "2022-06-26T20:41:55.047Z"
   },
   {
    "duration": 11,
    "start_time": "2022-06-26T20:41:55.341Z"
   },
   {
    "duration": 169,
    "start_time": "2022-06-26T20:41:55.354Z"
   },
   {
    "duration": 154,
    "start_time": "2022-06-26T20:41:55.524Z"
   },
   {
    "duration": 4,
    "start_time": "2022-06-26T20:41:55.679Z"
   },
   {
    "duration": 1330,
    "start_time": "2022-06-26T20:41:55.685Z"
   },
   {
    "duration": 158,
    "start_time": "2022-06-26T20:41:57.017Z"
   },
   {
    "duration": 5,
    "start_time": "2022-06-26T20:41:57.176Z"
   },
   {
    "duration": 18,
    "start_time": "2022-06-26T20:41:57.182Z"
   },
   {
    "duration": 77,
    "start_time": "2022-06-26T20:41:57.202Z"
   },
   {
    "duration": 0,
    "start_time": "2022-06-26T20:41:57.281Z"
   },
   {
    "duration": 0,
    "start_time": "2022-06-26T20:41:57.282Z"
   },
   {
    "duration": 0,
    "start_time": "2022-06-26T20:41:57.284Z"
   },
   {
    "duration": 0,
    "start_time": "2022-06-26T20:41:57.285Z"
   },
   {
    "duration": 0,
    "start_time": "2022-06-26T20:41:57.286Z"
   },
   {
    "duration": 3,
    "start_time": "2022-06-26T20:42:51.889Z"
   },
   {
    "duration": 5,
    "start_time": "2022-06-26T20:42:58.044Z"
   },
   {
    "duration": 8,
    "start_time": "2022-06-26T20:43:28.615Z"
   },
   {
    "duration": 7,
    "start_time": "2022-06-26T20:43:56.664Z"
   },
   {
    "duration": 10,
    "start_time": "2022-06-26T20:44:09.552Z"
   },
   {
    "duration": 11,
    "start_time": "2022-06-26T20:44:34.095Z"
   },
   {
    "duration": 15,
    "start_time": "2022-06-26T20:44:42.738Z"
   },
   {
    "duration": 9,
    "start_time": "2022-06-26T20:46:28.680Z"
   },
   {
    "duration": 48,
    "start_time": "2022-06-26T20:47:03.092Z"
   },
   {
    "duration": 5,
    "start_time": "2022-06-26T20:47:06.524Z"
   },
   {
    "duration": 5,
    "start_time": "2022-06-26T20:47:44.247Z"
   },
   {
    "duration": 4,
    "start_time": "2022-06-26T20:47:51.284Z"
   },
   {
    "duration": 6,
    "start_time": "2022-06-26T20:47:59.792Z"
   },
   {
    "duration": 4,
    "start_time": "2022-06-26T20:48:01.904Z"
   },
   {
    "duration": 5,
    "start_time": "2022-06-26T20:48:21.362Z"
   },
   {
    "duration": 8,
    "start_time": "2022-06-26T20:49:57.844Z"
   },
   {
    "duration": 6,
    "start_time": "2022-06-26T20:50:02.059Z"
   },
   {
    "duration": 7,
    "start_time": "2022-06-26T20:50:07.321Z"
   },
   {
    "duration": 3,
    "start_time": "2022-06-26T20:50:31.270Z"
   },
   {
    "duration": 10,
    "start_time": "2022-06-26T20:50:38.775Z"
   },
   {
    "duration": 6,
    "start_time": "2022-06-26T20:50:49.529Z"
   },
   {
    "duration": 3,
    "start_time": "2022-06-26T20:51:09.331Z"
   },
   {
    "duration": 5,
    "start_time": "2022-06-26T20:51:10.361Z"
   },
   {
    "duration": 11,
    "start_time": "2022-06-26T20:51:13.345Z"
   },
   {
    "duration": 3,
    "start_time": "2022-06-26T20:51:31.039Z"
   },
   {
    "duration": 4,
    "start_time": "2022-06-26T20:51:31.741Z"
   },
   {
    "duration": 5,
    "start_time": "2022-06-26T20:51:55.949Z"
   },
   {
    "duration": 9,
    "start_time": "2022-06-26T20:52:47.158Z"
   },
   {
    "duration": 68,
    "start_time": "2022-06-26T21:08:42.986Z"
   },
   {
    "duration": 1628,
    "start_time": "2022-06-26T21:08:47.026Z"
   },
   {
    "duration": 51,
    "start_time": "2022-06-26T21:08:48.657Z"
   },
   {
    "duration": 4,
    "start_time": "2022-06-26T21:08:48.709Z"
   },
   {
    "duration": 17,
    "start_time": "2022-06-26T21:08:48.715Z"
   },
   {
    "duration": 12,
    "start_time": "2022-06-26T21:08:48.734Z"
   },
   {
    "duration": 88,
    "start_time": "2022-06-26T21:08:48.748Z"
   },
   {
    "duration": 3,
    "start_time": "2022-06-26T21:08:48.838Z"
   },
   {
    "duration": 44,
    "start_time": "2022-06-26T21:08:48.843Z"
   },
   {
    "duration": 8,
    "start_time": "2022-06-26T21:08:48.889Z"
   },
   {
    "duration": 13,
    "start_time": "2022-06-26T21:08:48.900Z"
   },
   {
    "duration": 330,
    "start_time": "2022-06-26T21:08:48.915Z"
   },
   {
    "duration": 386,
    "start_time": "2022-06-26T21:08:49.251Z"
   },
   {
    "duration": 258,
    "start_time": "2022-06-26T21:08:49.639Z"
   },
   {
    "duration": 397,
    "start_time": "2022-06-26T21:08:49.899Z"
   },
   {
    "duration": 294,
    "start_time": "2022-06-26T21:08:50.298Z"
   },
   {
    "duration": 347,
    "start_time": "2022-06-26T21:08:50.593Z"
   },
   {
    "duration": 29,
    "start_time": "2022-06-26T21:08:50.943Z"
   },
   {
    "duration": 230,
    "start_time": "2022-06-26T21:08:50.975Z"
   },
   {
    "duration": 173,
    "start_time": "2022-06-26T21:08:51.207Z"
   },
   {
    "duration": 5,
    "start_time": "2022-06-26T21:08:51.383Z"
   },
   {
    "duration": 1571,
    "start_time": "2022-06-26T21:08:51.389Z"
   },
   {
    "duration": 172,
    "start_time": "2022-06-26T21:08:52.966Z"
   },
   {
    "duration": 22,
    "start_time": "2022-06-26T21:08:53.144Z"
   },
   {
    "duration": 31,
    "start_time": "2022-06-26T21:08:53.168Z"
   },
   {
    "duration": 132,
    "start_time": "2022-06-26T21:08:53.201Z"
   },
   {
    "duration": 29,
    "start_time": "2022-06-26T21:08:53.335Z"
   },
   {
    "duration": 32,
    "start_time": "2022-06-26T21:08:53.367Z"
   },
   {
    "duration": 20,
    "start_time": "2022-06-26T21:08:53.404Z"
   },
   {
    "duration": 16,
    "start_time": "2022-06-26T21:08:53.426Z"
   },
   {
    "duration": 20,
    "start_time": "2022-06-26T21:09:02.984Z"
   },
   {
    "duration": 6,
    "start_time": "2022-06-26T21:09:24.288Z"
   },
   {
    "duration": 10,
    "start_time": "2022-06-26T21:10:17.036Z"
   },
   {
    "duration": 14,
    "start_time": "2022-06-26T21:13:42.015Z"
   },
   {
    "duration": 3,
    "start_time": "2022-06-26T21:13:58.777Z"
   },
   {
    "duration": 6,
    "start_time": "2022-06-26T21:14:09.432Z"
   },
   {
    "duration": 4,
    "start_time": "2022-06-26T21:14:59.883Z"
   },
   {
    "duration": 8,
    "start_time": "2022-06-26T21:15:12.541Z"
   },
   {
    "duration": 6,
    "start_time": "2022-06-26T21:15:18.267Z"
   },
   {
    "duration": 5,
    "start_time": "2022-06-26T21:16:41.212Z"
   },
   {
    "duration": 3,
    "start_time": "2022-06-26T21:17:02.709Z"
   },
   {
    "duration": 34,
    "start_time": "2022-06-26T21:17:02.716Z"
   },
   {
    "duration": 3,
    "start_time": "2022-06-26T21:17:02.752Z"
   },
   {
    "duration": 38,
    "start_time": "2022-06-26T21:17:02.756Z"
   },
   {
    "duration": 24,
    "start_time": "2022-06-26T21:17:02.796Z"
   },
   {
    "duration": 70,
    "start_time": "2022-06-26T21:17:02.821Z"
   },
   {
    "duration": 3,
    "start_time": "2022-06-26T21:17:02.893Z"
   },
   {
    "duration": 26,
    "start_time": "2022-06-26T21:17:02.897Z"
   },
   {
    "duration": 5,
    "start_time": "2022-06-26T21:17:02.924Z"
   },
   {
    "duration": 31,
    "start_time": "2022-06-26T21:17:02.930Z"
   },
   {
    "duration": 7,
    "start_time": "2022-06-26T21:17:02.964Z"
   },
   {
    "duration": 12,
    "start_time": "2022-06-26T21:17:02.973Z"
   },
   {
    "duration": 286,
    "start_time": "2022-06-26T21:17:02.986Z"
   },
   {
    "duration": 221,
    "start_time": "2022-06-26T21:17:03.274Z"
   },
   {
    "duration": 197,
    "start_time": "2022-06-26T21:17:03.496Z"
   },
   {
    "duration": 320,
    "start_time": "2022-06-26T21:17:03.695Z"
   },
   {
    "duration": 244,
    "start_time": "2022-06-26T21:17:04.017Z"
   },
   {
    "duration": 274,
    "start_time": "2022-06-26T21:17:04.263Z"
   },
   {
    "duration": 11,
    "start_time": "2022-06-26T21:17:04.551Z"
   },
   {
    "duration": 164,
    "start_time": "2022-06-26T21:17:04.564Z"
   },
   {
    "duration": 160,
    "start_time": "2022-06-26T21:17:04.730Z"
   },
   {
    "duration": 5,
    "start_time": "2022-06-26T21:17:04.892Z"
   },
   {
    "duration": 1380,
    "start_time": "2022-06-26T21:17:04.899Z"
   },
   {
    "duration": 142,
    "start_time": "2022-06-26T21:17:06.281Z"
   },
   {
    "duration": 4,
    "start_time": "2022-06-26T21:17:06.425Z"
   },
   {
    "duration": 22,
    "start_time": "2022-06-26T21:17:06.430Z"
   },
   {
    "duration": 13,
    "start_time": "2022-06-26T21:17:06.453Z"
   },
   {
    "duration": 18,
    "start_time": "2022-06-26T21:17:06.468Z"
   },
   {
    "duration": 20,
    "start_time": "2022-06-26T21:17:06.489Z"
   },
   {
    "duration": 14,
    "start_time": "2022-06-26T21:17:06.512Z"
   },
   {
    "duration": 35,
    "start_time": "2022-06-26T21:17:06.528Z"
   },
   {
    "duration": 156,
    "start_time": "2022-06-26T21:18:07.021Z"
   },
   {
    "duration": 150,
    "start_time": "2022-06-26T21:18:24.621Z"
   },
   {
    "duration": 171,
    "start_time": "2022-06-26T21:18:34.247Z"
   },
   {
    "duration": 269,
    "start_time": "2022-06-26T21:18:46.374Z"
   },
   {
    "duration": 163,
    "start_time": "2022-06-26T21:18:52.718Z"
   },
   {
    "duration": 4,
    "start_time": "2022-06-26T21:29:51.416Z"
   },
   {
    "duration": 24,
    "start_time": "2022-06-26T21:29:51.421Z"
   },
   {
    "duration": 3,
    "start_time": "2022-06-26T21:29:51.447Z"
   },
   {
    "duration": 23,
    "start_time": "2022-06-26T21:29:51.451Z"
   },
   {
    "duration": 17,
    "start_time": "2022-06-26T21:29:51.476Z"
   },
   {
    "duration": 36,
    "start_time": "2022-06-26T21:29:51.495Z"
   },
   {
    "duration": 3,
    "start_time": "2022-06-26T21:29:51.533Z"
   },
   {
    "duration": 18,
    "start_time": "2022-06-26T21:29:51.538Z"
   },
   {
    "duration": 7,
    "start_time": "2022-06-26T21:29:51.559Z"
   },
   {
    "duration": 13,
    "start_time": "2022-06-26T21:29:51.569Z"
   },
   {
    "duration": 282,
    "start_time": "2022-06-26T21:29:51.584Z"
   },
   {
    "duration": 246,
    "start_time": "2022-06-26T21:29:51.869Z"
   },
   {
    "duration": 208,
    "start_time": "2022-06-26T21:29:52.117Z"
   },
   {
    "duration": 352,
    "start_time": "2022-06-26T21:29:52.326Z"
   },
   {
    "duration": 236,
    "start_time": "2022-06-26T21:29:52.680Z"
   },
   {
    "duration": 344,
    "start_time": "2022-06-26T21:29:52.917Z"
   },
   {
    "duration": 14,
    "start_time": "2022-06-26T21:29:53.264Z"
   },
   {
    "duration": 201,
    "start_time": "2022-06-26T21:29:53.280Z"
   },
   {
    "duration": 159,
    "start_time": "2022-06-26T21:29:53.483Z"
   },
   {
    "duration": 9,
    "start_time": "2022-06-26T21:29:53.644Z"
   },
   {
    "duration": 1620,
    "start_time": "2022-06-26T21:29:53.655Z"
   },
   {
    "duration": 222,
    "start_time": "2022-06-26T21:29:55.277Z"
   },
   {
    "duration": 5,
    "start_time": "2022-06-26T21:29:55.501Z"
   },
   {
    "duration": 12,
    "start_time": "2022-06-26T21:29:55.509Z"
   },
   {
    "duration": 40,
    "start_time": "2022-06-26T21:29:55.523Z"
   },
   {
    "duration": 19,
    "start_time": "2022-06-26T21:29:55.565Z"
   },
   {
    "duration": 19,
    "start_time": "2022-06-26T21:29:55.586Z"
   },
   {
    "duration": 15,
    "start_time": "2022-06-26T21:29:55.607Z"
   },
   {
    "duration": 40,
    "start_time": "2022-06-26T21:29:55.625Z"
   },
   {
    "duration": 8,
    "start_time": "2022-06-26T21:43:53.879Z"
   },
   {
    "duration": 7,
    "start_time": "2022-06-26T21:45:54.468Z"
   },
   {
    "duration": 22,
    "start_time": "2022-06-26T21:47:06.464Z"
   },
   {
    "duration": 7,
    "start_time": "2022-06-26T21:47:50.183Z"
   },
   {
    "duration": 6,
    "start_time": "2022-06-26T21:47:58.484Z"
   },
   {
    "duration": 77,
    "start_time": "2022-06-26T21:48:10.018Z"
   },
   {
    "duration": 7,
    "start_time": "2022-06-26T21:48:28.420Z"
   },
   {
    "duration": 15,
    "start_time": "2022-06-26T21:48:31.404Z"
   },
   {
    "duration": 6,
    "start_time": "2022-06-26T21:48:52.944Z"
   },
   {
    "duration": 23,
    "start_time": "2022-06-26T21:48:53.971Z"
   },
   {
    "duration": 21,
    "start_time": "2022-06-26T21:49:06.040Z"
   },
   {
    "duration": 3,
    "start_time": "2022-06-26T21:50:42.199Z"
   },
   {
    "duration": 42,
    "start_time": "2022-06-26T21:50:42.204Z"
   },
   {
    "duration": 3,
    "start_time": "2022-06-26T21:50:42.248Z"
   },
   {
    "duration": 33,
    "start_time": "2022-06-26T21:50:42.253Z"
   },
   {
    "duration": 20,
    "start_time": "2022-06-26T21:50:42.288Z"
   },
   {
    "duration": 64,
    "start_time": "2022-06-26T21:50:42.310Z"
   },
   {
    "duration": 3,
    "start_time": "2022-06-26T21:50:42.376Z"
   },
   {
    "duration": 49,
    "start_time": "2022-06-26T21:50:42.380Z"
   },
   {
    "duration": 32,
    "start_time": "2022-06-26T21:50:42.430Z"
   },
   {
    "duration": 27,
    "start_time": "2022-06-26T21:50:42.465Z"
   },
   {
    "duration": 297,
    "start_time": "2022-06-26T21:50:42.494Z"
   },
   {
    "duration": 240,
    "start_time": "2022-06-26T21:50:42.793Z"
   },
   {
    "duration": 301,
    "start_time": "2022-06-26T21:50:43.034Z"
   },
   {
    "duration": 352,
    "start_time": "2022-06-26T21:50:43.336Z"
   },
   {
    "duration": 251,
    "start_time": "2022-06-26T21:50:43.690Z"
   },
   {
    "duration": 341,
    "start_time": "2022-06-26T21:50:43.943Z"
   },
   {
    "duration": 10,
    "start_time": "2022-06-26T21:50:44.286Z"
   },
   {
    "duration": 183,
    "start_time": "2022-06-26T21:50:44.297Z"
   },
   {
    "duration": 146,
    "start_time": "2022-06-26T21:50:44.483Z"
   },
   {
    "duration": 4,
    "start_time": "2022-06-26T21:50:44.631Z"
   },
   {
    "duration": 1504,
    "start_time": "2022-06-26T21:50:44.636Z"
   },
   {
    "duration": 160,
    "start_time": "2022-06-26T21:50:46.142Z"
   },
   {
    "duration": 3,
    "start_time": "2022-06-26T21:50:46.304Z"
   },
   {
    "duration": 31,
    "start_time": "2022-06-26T21:50:46.309Z"
   },
   {
    "duration": 38,
    "start_time": "2022-06-26T21:50:46.342Z"
   },
   {
    "duration": 10,
    "start_time": "2022-06-26T21:50:46.383Z"
   },
   {
    "duration": 39,
    "start_time": "2022-06-26T21:50:46.394Z"
   },
   {
    "duration": 21,
    "start_time": "2022-06-26T21:50:46.435Z"
   },
   {
    "duration": 35,
    "start_time": "2022-06-26T21:50:46.458Z"
   },
   {
    "duration": 3,
    "start_time": "2022-06-26T21:50:59.447Z"
   },
   {
    "duration": 25,
    "start_time": "2022-06-26T21:50:59.457Z"
   },
   {
    "duration": 3,
    "start_time": "2022-06-26T21:50:59.484Z"
   },
   {
    "duration": 12,
    "start_time": "2022-06-26T21:50:59.488Z"
   },
   {
    "duration": 10,
    "start_time": "2022-06-26T21:50:59.501Z"
   },
   {
    "duration": 34,
    "start_time": "2022-06-26T21:50:59.513Z"
   },
   {
    "duration": 9,
    "start_time": "2022-06-26T21:50:59.549Z"
   },
   {
    "duration": 29,
    "start_time": "2022-06-26T21:50:59.561Z"
   },
   {
    "duration": 8,
    "start_time": "2022-06-26T21:50:59.591Z"
   },
   {
    "duration": 10,
    "start_time": "2022-06-26T21:50:59.602Z"
   },
   {
    "duration": 291,
    "start_time": "2022-06-26T21:50:59.613Z"
   },
   {
    "duration": 269,
    "start_time": "2022-06-26T21:50:59.906Z"
   },
   {
    "duration": 208,
    "start_time": "2022-06-26T21:51:00.178Z"
   },
   {
    "duration": 307,
    "start_time": "2022-06-26T21:51:00.387Z"
   },
   {
    "duration": 372,
    "start_time": "2022-06-26T21:51:00.696Z"
   },
   {
    "duration": 326,
    "start_time": "2022-06-26T21:51:01.071Z"
   },
   {
    "duration": 10,
    "start_time": "2022-06-26T21:51:01.399Z"
   },
   {
    "duration": 197,
    "start_time": "2022-06-26T21:51:01.411Z"
   },
   {
    "duration": 153,
    "start_time": "2022-06-26T21:51:01.610Z"
   },
   {
    "duration": 6,
    "start_time": "2022-06-26T21:51:01.766Z"
   },
   {
    "duration": 1497,
    "start_time": "2022-06-26T21:51:01.774Z"
   },
   {
    "duration": 157,
    "start_time": "2022-06-26T21:51:03.272Z"
   },
   {
    "duration": 4,
    "start_time": "2022-06-26T21:51:03.431Z"
   },
   {
    "duration": 24,
    "start_time": "2022-06-26T21:51:03.438Z"
   },
   {
    "duration": 25,
    "start_time": "2022-06-26T21:51:03.465Z"
   },
   {
    "duration": 6,
    "start_time": "2022-06-26T21:51:03.492Z"
   },
   {
    "duration": 19,
    "start_time": "2022-06-26T21:51:03.499Z"
   },
   {
    "duration": 36,
    "start_time": "2022-06-26T21:51:03.520Z"
   },
   {
    "duration": 16,
    "start_time": "2022-06-26T21:51:03.558Z"
   },
   {
    "duration": 17,
    "start_time": "2022-06-26T21:59:20.625Z"
   },
   {
    "duration": 137,
    "start_time": "2022-06-26T21:59:32.079Z"
   },
   {
    "duration": 18,
    "start_time": "2022-06-26T21:59:59.122Z"
   },
   {
    "duration": 18,
    "start_time": "2022-06-26T22:00:11.648Z"
   },
   {
    "duration": 199,
    "start_time": "2022-06-26T22:01:11.238Z"
   },
   {
    "duration": 127,
    "start_time": "2022-06-26T22:03:32.239Z"
   },
   {
    "duration": 208,
    "start_time": "2022-06-26T22:03:41.592Z"
   },
   {
    "duration": 230,
    "start_time": "2022-06-26T22:03:55.734Z"
   },
   {
    "duration": 317,
    "start_time": "2022-06-26T22:04:02.503Z"
   },
   {
    "duration": 205,
    "start_time": "2022-06-26T22:04:09.832Z"
   },
   {
    "duration": 51,
    "start_time": "2022-06-26T22:17:10.612Z"
   },
   {
    "duration": 1501,
    "start_time": "2022-06-26T22:17:19.445Z"
   },
   {
    "duration": 1610,
    "start_time": "2022-06-26T22:17:52.701Z"
   },
   {
    "duration": 1807,
    "start_time": "2022-06-26T22:18:14.474Z"
   },
   {
    "duration": 1587,
    "start_time": "2022-06-26T22:18:32.402Z"
   },
   {
    "duration": 1542,
    "start_time": "2022-06-26T22:18:41.206Z"
   },
   {
    "duration": 1840,
    "start_time": "2022-06-26T22:19:07.609Z"
   },
   {
    "duration": 1868,
    "start_time": "2022-06-26T22:19:17.992Z"
   },
   {
    "duration": 1974,
    "start_time": "2022-06-26T22:19:25.571Z"
   },
   {
    "duration": 2045,
    "start_time": "2022-06-26T22:19:37.186Z"
   },
   {
    "duration": 6,
    "start_time": "2022-06-26T22:20:16.715Z"
   },
   {
    "duration": 4,
    "start_time": "2022-06-26T22:20:22.766Z"
   },
   {
    "duration": 1788,
    "start_time": "2022-06-26T22:20:57.775Z"
   },
   {
    "duration": 1164,
    "start_time": "2022-06-27T07:18:22.264Z"
   },
   {
    "duration": 23,
    "start_time": "2022-06-27T07:18:23.430Z"
   },
   {
    "duration": 4,
    "start_time": "2022-06-27T07:18:23.455Z"
   },
   {
    "duration": 18,
    "start_time": "2022-06-27T07:18:23.461Z"
   },
   {
    "duration": 13,
    "start_time": "2022-06-27T07:18:23.482Z"
   },
   {
    "duration": 46,
    "start_time": "2022-06-27T07:18:23.497Z"
   },
   {
    "duration": 3,
    "start_time": "2022-06-27T07:18:23.545Z"
   },
   {
    "duration": 23,
    "start_time": "2022-06-27T07:18:23.550Z"
   },
   {
    "duration": 6,
    "start_time": "2022-06-27T07:18:23.574Z"
   },
   {
    "duration": 12,
    "start_time": "2022-06-27T07:18:23.581Z"
   },
   {
    "duration": 321,
    "start_time": "2022-06-27T07:18:23.595Z"
   },
   {
    "duration": 315,
    "start_time": "2022-06-27T07:18:23.918Z"
   },
   {
    "duration": 211,
    "start_time": "2022-06-27T07:18:24.234Z"
   },
   {
    "duration": 319,
    "start_time": "2022-06-27T07:18:24.448Z"
   },
   {
    "duration": 296,
    "start_time": "2022-06-27T07:18:24.769Z"
   },
   {
    "duration": 356,
    "start_time": "2022-06-27T07:18:25.067Z"
   },
   {
    "duration": 13,
    "start_time": "2022-06-27T07:18:25.428Z"
   },
   {
    "duration": 198,
    "start_time": "2022-06-27T07:18:25.443Z"
   },
   {
    "duration": 159,
    "start_time": "2022-06-27T07:18:25.643Z"
   },
   {
    "duration": 5,
    "start_time": "2022-06-27T07:18:25.804Z"
   },
   {
    "duration": 2207,
    "start_time": "2022-06-27T07:18:25.810Z"
   },
   {
    "duration": 251,
    "start_time": "2022-06-27T07:18:28.019Z"
   },
   {
    "duration": 5,
    "start_time": "2022-06-27T07:18:28.271Z"
   },
   {
    "duration": 16,
    "start_time": "2022-06-27T07:18:28.278Z"
   },
   {
    "duration": 13,
    "start_time": "2022-06-27T07:18:28.296Z"
   },
   {
    "duration": 7,
    "start_time": "2022-06-27T07:18:28.328Z"
   },
   {
    "duration": 17,
    "start_time": "2022-06-27T07:18:28.336Z"
   },
   {
    "duration": 14,
    "start_time": "2022-06-27T07:18:28.355Z"
   },
   {
    "duration": 14,
    "start_time": "2022-06-27T07:18:28.371Z"
   },
   {
    "duration": 1236,
    "start_time": "2022-06-27T07:19:16.027Z"
   },
   {
    "duration": 31,
    "start_time": "2022-06-27T07:19:17.279Z"
   },
   {
    "duration": 4,
    "start_time": "2022-06-27T07:19:17.312Z"
   },
   {
    "duration": 16,
    "start_time": "2022-06-27T07:19:17.318Z"
   },
   {
    "duration": 11,
    "start_time": "2022-06-27T07:19:17.335Z"
   },
   {
    "duration": 51,
    "start_time": "2022-06-27T07:19:17.348Z"
   },
   {
    "duration": 3,
    "start_time": "2022-06-27T07:19:17.401Z"
   },
   {
    "duration": 28,
    "start_time": "2022-06-27T07:19:17.405Z"
   },
   {
    "duration": 21,
    "start_time": "2022-06-27T07:19:17.435Z"
   },
   {
    "duration": 22,
    "start_time": "2022-06-27T07:19:17.459Z"
   },
   {
    "duration": 300,
    "start_time": "2022-06-27T07:19:17.483Z"
   },
   {
    "duration": 327,
    "start_time": "2022-06-27T07:19:17.785Z"
   },
   {
    "duration": 204,
    "start_time": "2022-06-27T07:19:18.114Z"
   },
   {
    "duration": 329,
    "start_time": "2022-06-27T07:19:18.320Z"
   },
   {
    "duration": 253,
    "start_time": "2022-06-27T07:19:18.652Z"
   },
   {
    "duration": 336,
    "start_time": "2022-06-27T07:19:18.907Z"
   },
   {
    "duration": 10,
    "start_time": "2022-06-27T07:19:19.245Z"
   },
   {
    "duration": 184,
    "start_time": "2022-06-27T07:19:19.258Z"
   },
   {
    "duration": 149,
    "start_time": "2022-06-27T07:19:19.444Z"
   },
   {
    "duration": 4,
    "start_time": "2022-06-27T07:19:19.594Z"
   },
   {
    "duration": 1931,
    "start_time": "2022-06-27T07:19:19.599Z"
   },
   {
    "duration": 230,
    "start_time": "2022-06-27T07:19:21.532Z"
   },
   {
    "duration": 5,
    "start_time": "2022-06-27T07:19:21.764Z"
   },
   {
    "duration": 15,
    "start_time": "2022-06-27T07:19:21.770Z"
   },
   {
    "duration": 13,
    "start_time": "2022-06-27T07:19:21.786Z"
   },
   {
    "duration": 10,
    "start_time": "2022-06-27T07:19:21.800Z"
   },
   {
    "duration": 30,
    "start_time": "2022-06-27T07:19:21.812Z"
   },
   {
    "duration": 19,
    "start_time": "2022-06-27T07:19:21.845Z"
   },
   {
    "duration": 31,
    "start_time": "2022-06-27T07:19:21.866Z"
   }
  ],
  "kernelspec": {
   "display_name": "Python 3 (ipykernel)",
   "language": "python",
   "name": "python3"
  },
  "language_info": {
   "codemirror_mode": {
    "name": "ipython",
    "version": 3
   },
   "file_extension": ".py",
   "mimetype": "text/x-python",
   "name": "python",
   "nbconvert_exporter": "python",
   "pygments_lexer": "ipython3",
   "version": "3.9.7"
  },
  "toc": {
   "base_numbering": 1,
   "nav_menu": {},
   "number_sections": true,
   "sideBar": true,
   "skip_h1_title": true,
   "title_cell": "Содержание",
   "title_sidebar": "Contents",
   "toc_cell": true,
   "toc_position": {
    "height": "calc(100% - 180px)",
    "left": "10px",
    "top": "150px",
    "width": "274px"
   },
   "toc_section_display": true,
   "toc_window_display": false
  }
 },
 "nbformat": 4,
 "nbformat_minor": 2
}
